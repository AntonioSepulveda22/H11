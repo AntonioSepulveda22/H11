{
  "nbformat": 4,
  "nbformat_minor": 0,
  "metadata": {
    "colab": {
      "name": "Team5 - HW 11: Pyomo",
      "provenance": [],
      "collapsed_sections": [],
      "toc_visible": true,
      "include_colab_link": true
    },
    "kernelspec": {
      "name": "python3",
      "display_name": "Python 3"
    },
    "language_info": {
      "name": "python"
    }
  },
  "cells": [
    {
      "cell_type": "markdown",
      "metadata": {
        "id": "view-in-github",
        "colab_type": "text"
      },
      "source": [
        "<a href=\"https://colab.research.google.com/github/AntonioSepulveda22/H11/blob/main/Team5_HW_11_Pyomo.ipynb\" target=\"_parent\"><img src=\"https://colab.research.google.com/assets/colab-badge.svg\" alt=\"Open In Colab\"/></a>"
      ]
    },
    {
      "cell_type": "markdown",
      "source": [
        "<img src=\"https://tse2.mm.bing.net/th/id/OIP.DjEASRO5OFehP_UT6SetVAHaDa?pid=ImgDet&rs=1\" width=\"700\" height=\"300\" />\n",
        "\n",
        "# **HW 11: Pyomo**\n",
        "\n",
        "## Convex Optimization\n",
        "\n",
        "# **Master's Degree in Data Science**\n",
        "\n",
        "### **Teacher:** Dr. Juan Diego Sánchez Torres\n",
        "### **Students:** Daniel Lagunas, Ashwin Bhat, Antonio Sepulveda, Carlos Caloca"
      ],
      "metadata": {
        "id": "5oqyNZ7ZvePk"
      }
    },
    {
      "cell_type": "markdown",
      "source": [
        "Link to get Drive access to files [Files Folder](https://drive.google.com/drive/folders/1Oz7WxJQrrVwNAaUaWiPHsUR0NltvFvIN?usp=sharing)"
      ],
      "metadata": {
        "id": "_lL8PZ2o5AJ3"
      }
    },
    {
      "cell_type": "code",
      "source": [
        "# Mount Drive\n",
        "# from google.colab import drive\n",
        "# drive.mount('/content/gdrive')"
      ],
      "metadata": {
        "id": "pOYukuef5mwh"
      },
      "execution_count": null,
      "outputs": []
    },
    {
      "cell_type": "markdown",
      "source": [
        "**Objetive:**\n",
        "Since the first classes of this course, the usefulness of optimization has been discussed. Therefore, this activity deals with problems similar to actual applications to illustrate the capabilities of applying optimization procedures to real-life cases. For this, specialized packages that offer high performance for convex formulations will be used.\n",
        "\n",
        "**Introduction:**\n",
        "Usually, real-life optimization problems are too complex to be solved manually. That is why there are several software tools oriented to the solution of this class of problems. When the formulation is convex, the numerical solution methods implemented in software packages\n",
        "are usually quite efficient. An example of this is the Python package Pyomo, which offers a structured and orderly way of solving various types’ optimization problems. Thus, in this case, we will solve some practical nature problems to reinforce the ability to implement optimization models with computers’ help.\n",
        "\n",
        "**Activities:**\n",
        "Consider the following basic exercises on optimization:"
      ],
      "metadata": {
        "id": "nKHrv38cZGJS"
      }
    },
    {
      "cell_type": "markdown",
      "source": [
        "---\n",
        "# Problem 1: Warm up"
      ],
      "metadata": {
        "id": "KawesATqhGP6"
      }
    },
    {
      "cell_type": "markdown",
      "source": [
        "Use the Pyomo package$^2$ and [slides](https://github.com/jckantor/ND-Pyomo-Cookbook/tree/master/PyomoFest/slides) to reproduce all the seven examples of the [Pyomo Gallery](https://github.com/Pyomo/PyomoGallery/wiki). Note that some details are missing, and the code may need an update. So, it is necessary an adequate mathematical formulation, a brief background of the problem (and its bibliographical references), a much better explanation, more graphics, and an updated and working code (consider the good practices of coding, as the presence of comments, spacing, and tabulation)."
      ],
      "metadata": {
        "id": "mPKkrgy2hHWh"
      }
    },
    {
      "cell_type": "markdown",
      "source": [
        "## 1.- [The Diet Problem](http://nbviewer.ipython.org/urls/raw.github.com/Pyomo/PyomoGallery/master/diet/DietProblem.ipynb)"
      ],
      "metadata": {
        "id": "tsp-zL9VTFed"
      }
    },
    {
      "cell_type": "markdown",
      "source": [
        "### **1.1 Summary**\n",
        "\n",
        "The goal of the Diet Problem is to select foods that satisfy daily nutritional requirements at minimum cost. This problem can be formulated as a linear program, for which constraints limit the number of calories and the amount of vitamins, minerals, fats, sodium, and cholesterol in the diet. Danzig (1990) notes that the diet problem was motivated by the US Army's desire to minimize the cost of feeding GIs in the field while still providing a healthy diet."
      ],
      "metadata": {
        "id": "bi9R1uha9Hzo"
      }
    },
    {
      "cell_type": "markdown",
      "source": [
        "### **1.2 Problem Statement**\n",
        "\n",
        "The Diet Problem can be formulated mathematically as a linear programming problem using the following model."
      ],
      "metadata": {
        "id": "61yZUC6g9OQC"
      }
    },
    {
      "cell_type": "markdown",
      "source": [
        "### **1.3 Sets**\n",
        "\n",
        "$F$ = set of foods\n",
        "\n",
        "$N$ = set of nutrients"
      ],
      "metadata": {
        "id": "j7HTMlhj9RQ6"
      }
    },
    {
      "cell_type": "markdown",
      "source": [
        "### **1.4 Parameters**\n",
        "$c_i$ = cost per serving of food $i$, $\\forall i \\in F$\n",
        "\n",
        "$a_{ij}$ = amount of nutrient $j$ in food $i$, $\\forall i \\in F$, $\\forall j \\in N$\n",
        "\n",
        "$Nmin_j$ = minimum level of nutrient $j$, $\\forall j \\in N$\n",
        "\n",
        "$Nmax_j$ = maximum level of nutrient $j$, $\\forall j \\in N$\n",
        "\n",
        "$V_i$ = the volume per serving of food $i$, $\\forall i \\in F$\n",
        "\n",
        "$Vmax$ = maximum volume of food consumed"
      ],
      "metadata": {
        "id": "Dk5ZA2259foZ"
      }
    },
    {
      "cell_type": "markdown",
      "source": [
        "### **1.5 Variables**\n",
        "$x_i$ = number of servings of food $i$ to consume"
      ],
      "metadata": {
        "id": "QupceVut-bC5"
      }
    },
    {
      "cell_type": "markdown",
      "source": [
        "### **1.6 Objective**\n",
        "Minimize the total cost of the food\n",
        "$$\n",
        "\\min \\sum_{i \\in F} c_i x_i\n",
        "$$"
      ],
      "metadata": {
        "id": "IjVyyH3s-ZmT"
      }
    },
    {
      "cell_type": "markdown",
      "source": [
        "### **1.7 Constraints**\n",
        "Limit nutrient consumption for each nutrient $j \\in N$.\n",
        "$$\n",
        "N\\text{min}_{j} \\leq \\sum_{i \\in F} a_{i j} x_{i} \\leq N\\text{max}_{j}, \\forall j \\in N\n",
        "$$\n",
        "\n",
        "Limit the volume of food consumed\n",
        "$$\n",
        "\\sum_{i \\in F} V_{i} x_{i} \\leq V \\max\n",
        "$$\n",
        "\n",
        "Consumption lower bound\n",
        "$$\n",
        "x_{i} \\geq 0, \\forall i \\in F\n",
        "$$"
      ],
      "metadata": {
        "id": "1JpVbogW-o5_"
      }
    },
    {
      "cell_type": "markdown",
      "source": [
        "### **1.8 Pyomo Formulation**"
      ],
      "metadata": {
        "id": "3PbzN6KbAdzy"
      }
    },
    {
      "cell_type": "markdown",
      "source": [
        "We begin by importing the Pyomo package and creating a model object:"
      ],
      "metadata": {
        "id": "zlcMLi-MAieY"
      }
    },
    {
      "cell_type": "code",
      "source": [
        "!apt install glpk-utils\n",
        "!apt-get install -y -qq coinor-cbc\n",
        "!pip install pyomo\n",
        "from pyomo.environ import *\n",
        "infinity = float('inf')\n",
        "\n",
        "model = AbstractModel()"
      ],
      "metadata": {
        "id": "IFcG652D-ZXa",
        "colab": {
          "base_uri": "https://localhost:8080/"
        },
        "outputId": "1c1d235e-6b07-41ab-ecee-c76ce26bb314"
      },
      "execution_count": null,
      "outputs": [
        {
          "output_type": "stream",
          "name": "stdout",
          "text": [
            "Reading package lists... Done\n",
            "Building dependency tree       \n",
            "Reading state information... Done\n",
            "The following additional packages will be installed:\n",
            "  libamd2 libcolamd2 libglpk40 libsuitesparseconfig5\n",
            "Suggested packages:\n",
            "  libiodbc2-dev\n",
            "The following NEW packages will be installed:\n",
            "  glpk-utils libamd2 libcolamd2 libglpk40 libsuitesparseconfig5\n",
            "0 upgraded, 5 newly installed, 0 to remove and 39 not upgraded.\n",
            "Need to get 692 kB of archives.\n",
            "After this operation, 1,664 kB of additional disk space will be used.\n",
            "Get:1 http://archive.ubuntu.com/ubuntu bionic/main amd64 libsuitesparseconfig5 amd64 1:5.1.2-2 [9,044 B]\n",
            "Get:2 http://archive.ubuntu.com/ubuntu bionic/main amd64 libamd2 amd64 1:5.1.2-2 [19.5 kB]\n",
            "Get:3 http://archive.ubuntu.com/ubuntu bionic/main amd64 libcolamd2 amd64 1:5.1.2-2 [16.2 kB]\n",
            "Get:4 http://archive.ubuntu.com/ubuntu bionic/universe amd64 libglpk40 amd64 4.65-1 [378 kB]\n",
            "Get:5 http://archive.ubuntu.com/ubuntu bionic/universe amd64 glpk-utils amd64 4.65-1 [269 kB]\n",
            "Fetched 692 kB in 0s (2,613 kB/s)\n",
            "Selecting previously unselected package libsuitesparseconfig5:amd64.\n",
            "(Reading database ... 156210 files and directories currently installed.)\n",
            "Preparing to unpack .../libsuitesparseconfig5_1%3a5.1.2-2_amd64.deb ...\n",
            "Unpacking libsuitesparseconfig5:amd64 (1:5.1.2-2) ...\n",
            "Selecting previously unselected package libamd2:amd64.\n",
            "Preparing to unpack .../libamd2_1%3a5.1.2-2_amd64.deb ...\n",
            "Unpacking libamd2:amd64 (1:5.1.2-2) ...\n",
            "Selecting previously unselected package libcolamd2:amd64.\n",
            "Preparing to unpack .../libcolamd2_1%3a5.1.2-2_amd64.deb ...\n",
            "Unpacking libcolamd2:amd64 (1:5.1.2-2) ...\n",
            "Selecting previously unselected package libglpk40:amd64.\n",
            "Preparing to unpack .../libglpk40_4.65-1_amd64.deb ...\n",
            "Unpacking libglpk40:amd64 (4.65-1) ...\n",
            "Selecting previously unselected package glpk-utils.\n",
            "Preparing to unpack .../glpk-utils_4.65-1_amd64.deb ...\n",
            "Unpacking glpk-utils (4.65-1) ...\n",
            "Setting up libsuitesparseconfig5:amd64 (1:5.1.2-2) ...\n",
            "Setting up libcolamd2:amd64 (1:5.1.2-2) ...\n",
            "Setting up libamd2:amd64 (1:5.1.2-2) ...\n",
            "Setting up libglpk40:amd64 (4.65-1) ...\n",
            "Setting up glpk-utils (4.65-1) ...\n",
            "Processing triggers for libc-bin (2.27-3ubuntu1.3) ...\n",
            "/sbin/ldconfig.real: /usr/local/lib/python3.7/dist-packages/ideep4py/lib/libmkldnn.so.0 is not a symbolic link\n",
            "\n",
            "Processing triggers for man-db (2.8.3-2ubuntu0.1) ...\n",
            "Selecting previously unselected package coinor-libcoinutils3v5.\n",
            "(Reading database ... 156413 files and directories currently installed.)\n",
            "Preparing to unpack .../0-coinor-libcoinutils3v5_2.10.14+repack1-1_amd64.deb ...\n",
            "Unpacking coinor-libcoinutils3v5 (2.10.14+repack1-1) ...\n",
            "Selecting previously unselected package coinor-libosi1v5.\n",
            "Preparing to unpack .../1-coinor-libosi1v5_0.107.9+repack1-1_amd64.deb ...\n",
            "Unpacking coinor-libosi1v5 (0.107.9+repack1-1) ...\n",
            "Selecting previously unselected package coinor-libclp1.\n",
            "Preparing to unpack .../2-coinor-libclp1_1.16.11+repack1-1_amd64.deb ...\n",
            "Unpacking coinor-libclp1 (1.16.11+repack1-1) ...\n",
            "Selecting previously unselected package coinor-libcgl1.\n",
            "Preparing to unpack .../3-coinor-libcgl1_0.59.10+repack1-1_amd64.deb ...\n",
            "Unpacking coinor-libcgl1 (0.59.10+repack1-1) ...\n",
            "Selecting previously unselected package coinor-libcbc3.\n",
            "Preparing to unpack .../4-coinor-libcbc3_2.9.9+repack1-1_amd64.deb ...\n",
            "Unpacking coinor-libcbc3 (2.9.9+repack1-1) ...\n",
            "Selecting previously unselected package coinor-cbc.\n",
            "Preparing to unpack .../5-coinor-cbc_2.9.9+repack1-1_amd64.deb ...\n",
            "Unpacking coinor-cbc (2.9.9+repack1-1) ...\n",
            "Setting up coinor-libcoinutils3v5 (2.10.14+repack1-1) ...\n",
            "Setting up coinor-libosi1v5 (0.107.9+repack1-1) ...\n",
            "Setting up coinor-libclp1 (1.16.11+repack1-1) ...\n",
            "Setting up coinor-libcgl1 (0.59.10+repack1-1) ...\n",
            "Setting up coinor-libcbc3 (2.9.9+repack1-1) ...\n",
            "Setting up coinor-cbc (2.9.9+repack1-1) ...\n",
            "Processing triggers for man-db (2.8.3-2ubuntu0.1) ...\n",
            "Processing triggers for libc-bin (2.27-3ubuntu1.3) ...\n",
            "/sbin/ldconfig.real: /usr/local/lib/python3.7/dist-packages/ideep4py/lib/libmkldnn.so.0 is not a symbolic link\n",
            "\n",
            "Collecting pyomo\n",
            "  Downloading Pyomo-6.4.0-cp37-cp37m-manylinux_2_12_x86_64.manylinux2010_x86_64.whl (9.6 MB)\n",
            "\u001b[K     |████████████████████████████████| 9.6 MB 3.9 MB/s \n",
            "\u001b[?25hCollecting ply\n",
            "  Downloading ply-3.11-py2.py3-none-any.whl (49 kB)\n",
            "\u001b[K     |████████████████████████████████| 49 kB 5.2 MB/s \n",
            "\u001b[?25hInstalling collected packages: ply, pyomo\n",
            "Successfully installed ply-3.11 pyomo-6.4.0\n"
          ]
        }
      ]
    },
    {
      "cell_type": "markdown",
      "source": [
        "The sets $F$ and $N$ are declared abstractly using the ``Set`` component:"
      ],
      "metadata": {
        "id": "H30eqKiNBDjp"
      }
    },
    {
      "cell_type": "code",
      "source": [
        "# Foods\n",
        "model.F = Set()\n",
        "# Nutrients\n",
        "model.N = Set()"
      ],
      "metadata": {
        "id": "qlrOEp-veIqB"
      },
      "execution_count": null,
      "outputs": []
    },
    {
      "cell_type": "markdown",
      "source": [
        "Similarly, the model parameters are defined abstractly using the ``Param`` component:"
      ],
      "metadata": {
        "id": "5TnUt8eFBhDm"
      }
    },
    {
      "cell_type": "code",
      "source": [
        "# Cost of each food\n",
        "model.c    = Param(model.F, within=PositiveReals)\n",
        "# Amount of nutrient in each food\n",
        "model.a    = Param(model.F, model.N, within=NonNegativeReals)\n",
        "# Lower and upper bound on each nutrient\n",
        "model.Nmin = Param(model.N, within=NonNegativeReals, default=0.0)\n",
        "model.Nmax = Param(model.N, within=NonNegativeReals, default=infinity)\n",
        "# Volume per serving of food\n",
        "model.V    = Param(model.F, within=PositiveReals)\n",
        "# Maximum volume of food consumed\n",
        "model.Vmax = Param(within=PositiveReals)"
      ],
      "metadata": {
        "id": "bFnqBPcNBf7s"
      },
      "execution_count": null,
      "outputs": []
    },
    {
      "cell_type": "markdown",
      "source": [
        "The ``within`` option is used in these parameter declarations to define expected properties of the parameters. This information is used to perform error checks on the data that is used to initialize the parameter components.\n",
        "\n",
        "The ``Var`` component is used to define the decision variables:"
      ],
      "metadata": {
        "id": "GvhDIauIBkQB"
      }
    },
    {
      "cell_type": "code",
      "source": [
        "# Number of servings consumed of each food\n",
        "model.x = Var(model.F, within=NonNegativeIntegers)"
      ],
      "metadata": {
        "id": "DQSfy3ULXxKS"
      },
      "execution_count": null,
      "outputs": []
    },
    {
      "cell_type": "markdown",
      "source": [
        "The ``within`` option is used to restrict the domain of the decision variables to the non-negative reals. This eliminates the need for explicit bound constraints for variables.\n",
        "\n",
        "The ``Objective`` component is used to define the cost objective. This component uses a rule function to construct the objective expression:"
      ],
      "metadata": {
        "id": "iudt4YK1XyWW"
      }
    },
    {
      "cell_type": "code",
      "source": [
        "# Minimize the cost of food that is consumed\n",
        "def cost_rule(model):\n",
        "    return sum(model.c[i]*model.x[i] for i in model.F)\n",
        "model.cost = Objective(rule=cost_rule)"
      ],
      "metadata": {
        "id": "kJcbiIWqX4BH"
      },
      "execution_count": null,
      "outputs": []
    },
    {
      "cell_type": "markdown",
      "source": [
        "Similarly, rule functions are used to define constraint expressions in the ``Constraint`` component:"
      ],
      "metadata": {
        "id": "N34IS8UJX-Y3"
      }
    },
    {
      "cell_type": "code",
      "source": [
        "# Limit nutrient consumption for each nutrient\n",
        "def nutrient_rule(model, j):\n",
        "    value = sum(model.a[i,j]*model.x[i] for i in model.F)\n",
        "    return inequality(model.Nmin[j], value, model.Nmax[j])\n",
        "model.nutrient_limit = Constraint(model.N, rule=nutrient_rule)\n",
        "\n",
        "# Limit the volume of food consumed\n",
        "def volume_rule(model):\n",
        "    return sum(model.V[i]*model.x[i] for i in model.F) <= model.Vmax\n",
        "model.volume = Constraint(rule=volume_rule)"
      ],
      "metadata": {
        "id": "pVXXmNvgX-EQ"
      },
      "execution_count": null,
      "outputs": []
    },
    {
      "cell_type": "markdown",
      "source": [
        "Putting these declarations all together gives the following model:"
      ],
      "metadata": {
        "id": "0y9lnW2-YHB7"
      }
    },
    {
      "cell_type": "code",
      "source": [
        "!cat /content/gdrive/MyDrive/HW-11-Files/diet.py"
      ],
      "metadata": {
        "colab": {
          "base_uri": "https://localhost:8080/"
        },
        "id": "vWGJtL5aYIMu",
        "outputId": "c8335709-3d39-49e4-815e-c1aac09067e4"
      },
      "execution_count": null,
      "outputs": [
        {
          "output_type": "stream",
          "name": "stdout",
          "text": [
            "cat: /content/gdrive/MyDrive/HW-11-Files/diet.py: No such file or directory\n"
          ]
        }
      ]
    },
    {
      "cell_type": "markdown",
      "source": [
        "### **1.9 Model Data**"
      ],
      "metadata": {
        "id": "25xnmiSuYjJ_"
      }
    },
    {
      "cell_type": "markdown",
      "source": [
        "Since this is an abstract Pyomo model, the set and parameter values need to be provided to initialize the model. The following data command file provides a synthetic data set:"
      ],
      "metadata": {
        "id": "GvuNI4xDYmzE"
      }
    },
    {
      "cell_type": "code",
      "source": [
        "!cat /content/gdrive/MyDrive/HW-11-Files/diet.dat"
      ],
      "metadata": {
        "colab": {
          "base_uri": "https://localhost:8080/"
        },
        "id": "6D1b0g0xYoTE",
        "outputId": "ade3566b-5b3f-4f01-86b9-88a6a58ff312"
      },
      "execution_count": null,
      "outputs": [
        {
          "output_type": "stream",
          "name": "stdout",
          "text": [
            "cat: /content/gdrive/MyDrive/HW-11-Files/diet.dat: No such file or directory\n"
          ]
        }
      ]
    },
    {
      "cell_type": "markdown",
      "source": [
        "Set data is defined with the `set` command, and parameter data is defined with the `param` command.\n",
        "\n",
        "This data set considers the problem of designing a daily diet with only food from a fast food chain."
      ],
      "metadata": {
        "id": "8tvHr4x3Qa9a"
      }
    },
    {
      "cell_type": "markdown",
      "source": [
        "### **1.10 Solution**"
      ],
      "metadata": {
        "id": "CH9eIqo4Qhz9"
      }
    },
    {
      "cell_type": "markdown",
      "source": [
        "Pyomo includes a `pyomo` command that automates the construction and optimization of models. The GLPK solver can be used in this simple example:"
      ],
      "metadata": {
        "id": "ajbGnZxlQhsN"
      }
    },
    {
      "cell_type": "code",
      "source": [
        "!pyomo solve --solver=glpk /content/gdrive/MyDrive/HW-11-Files/diet.py /content/gdrive/MyDrive/HW-11-Files/diet.dat"
      ],
      "metadata": {
        "colab": {
          "base_uri": "https://localhost:8080/"
        },
        "id": "8TX5Q4qb0wYY",
        "outputId": "1f610d05-fbb5-4343-aa70-30d8aba60b09"
      },
      "execution_count": null,
      "outputs": [
        {
          "output_type": "stream",
          "name": "stdout",
          "text": [
            "[    0.00] Setting up Pyomo environment\n",
            "[    0.00] Applying Pyomo preprocessing actions\n",
            "[    0.02] Creating model\n",
            "[    0.05] Applying solver\n",
            "[    0.08] Processing results\n",
            "    Number of solutions: 1\n",
            "    Solution Information\n",
            "      Gap: 0.0\n",
            "      Status: optimal\n",
            "      Function Value: 15.05\n",
            "    Solver results file: results.yml\n",
            "[    0.08] Applying Pyomo postprocessing actions\n",
            "[    0.08] Pyomo Finished\n"
          ]
        }
      ]
    },
    {
      "cell_type": "markdown",
      "source": [
        "By default, the optimization results are stored in the file `results.yml`:"
      ],
      "metadata": {
        "id": "tSLKGo8yQo-7"
      }
    },
    {
      "cell_type": "code",
      "source": [
        "!cat results.yml"
      ],
      "metadata": {
        "id": "W-yIspMG2-m5",
        "outputId": "352aa6c2-f238-4295-8550-1747d70da9f3",
        "colab": {
          "base_uri": "https://localhost:8080/"
        }
      },
      "execution_count": null,
      "outputs": [
        {
          "output_type": "stream",
          "name": "stdout",
          "text": [
            "# ==========================================================\n",
            "# = Solver Results                                         =\n",
            "# ==========================================================\n",
            "# ----------------------------------------------------------\n",
            "#   Problem Information\n",
            "# ----------------------------------------------------------\n",
            "Problem: \n",
            "- Name: unknown\n",
            "  Lower bound: 15.05\n",
            "  Upper bound: 15.05\n",
            "  Number of objectives: 1\n",
            "  Number of constraints: 10\n",
            "  Number of variables: 10\n",
            "  Number of nonzeros: 77\n",
            "  Sense: minimize\n",
            "# ----------------------------------------------------------\n",
            "#   Solver Information\n",
            "# ----------------------------------------------------------\n",
            "Solver: \n",
            "- Status: ok\n",
            "  Termination condition: optimal\n",
            "  Statistics: \n",
            "    Branch and bound: \n",
            "      Number of bounded subproblems: 23\n",
            "      Number of created subproblems: 23\n",
            "  Error rc: 0\n",
            "  Time: 0.009871721267700195\n",
            "# ----------------------------------------------------------\n",
            "#   Solution Information\n",
            "# ----------------------------------------------------------\n",
            "Solution: \n",
            "- number of solutions: 1\n",
            "  number of solutions displayed: 1\n",
            "- Gap: 0.0\n",
            "  Status: optimal\n",
            "  Message: None\n",
            "  Objective:\n",
            "    cost:\n",
            "      Value: 15.05\n",
            "  Variable:\n",
            "    x[Cheeseburger]:\n",
            "      Value: 4\n",
            "    x[Fish Sandwich]:\n",
            "      Value: 1\n",
            "    x[Fries]:\n",
            "      Value: 5\n",
            "    x[Lowfat Milk]:\n",
            "      Value: 4\n",
            "  Constraint: No values\n"
          ]
        }
      ]
    },
    {
      "cell_type": "markdown",
      "source": [
        "This solution shows that for about $15 per day, a person can get by with 4 cheeseburgers, 5 fries, 1 fish sandwich and 4 milks."
      ],
      "metadata": {
        "id": "idtCkb2dQuWp"
      }
    },
    {
      "cell_type": "markdown",
      "source": [
        "### **1.11 References**"
      ],
      "metadata": {
        "id": "k9yt7P5hQuL9"
      }
    },
    {
      "cell_type": "markdown",
      "source": [
        "## 2.- [Max Flow](https://nbviewer.org/github/Pyomo/PyomoGallery/blob/master/maxflow/maxflow.ipynb)"
      ],
      "metadata": {
        "id": "hsSDoxsD8Xjf"
      }
    },
    {
      "cell_type": "markdown",
      "source": [
        "### **2.1 Summary**"
      ],
      "metadata": {
        "id": "6Lzi7LkazVF8"
      }
    },
    {
      "cell_type": "markdown",
      "source": [
        "The goal of the maximum flow problem is to find the maximum flow possible in a network from some given source node to a given sink node. Applications of the max flow problem include finding the maximum flow of orders through a job shop, the maximum flow of water through a storm sewer system, and the maximum flow of product through a product distribution system, among others. Schrijver (2002) note that the maximum flow problem was first formulated in 1954 by T. E. Harris and F. S. Ross as a simplified model of Soviet railway traffic flow.\n",
        "\n",
        "A network is a directed graph, and the arc capacities, or upper bounds, are the only relevant parameters. A network graph does not have to be symmetric: if an arc (v,w) is in the graph, the reverse arc (w,v) does not have to be in the graph. Further, parallel arcs are not allowed, and self-loops are not allowed. The source and the sink are distinct nodes in the network, but the sink may be unreachable from the source."
      ],
      "metadata": {
        "id": "yeYAFjKizXWP"
      }
    },
    {
      "cell_type": "markdown",
      "source": [
        "### **2.2 Problem Statement**"
      ],
      "metadata": {
        "id": "kiV-hyFZzbIJ"
      }
    },
    {
      "cell_type": "markdown",
      "source": [
        "The max flow problem can be formulated mathematically as a linear programming problem using the following model."
      ],
      "metadata": {
        "id": "8S60-U2g0SRC"
      }
    },
    {
      "cell_type": "markdown",
      "source": [
        "### **2.3 Sets**"
      ],
      "metadata": {
        "id": "rSjRA9kszde_"
      }
    },
    {
      "cell_type": "markdown",
      "source": [
        "$N$ = nodes in the network\n",
        "\n",
        "$A$ = network arcs"
      ],
      "metadata": {
        "id": "c73jaqKf0l5J"
      }
    },
    {
      "cell_type": "markdown",
      "source": [
        "### **2.4 Parameters**"
      ],
      "metadata": {
        "id": "z8zsRn0Gzdbv"
      }
    },
    {
      "cell_type": "markdown",
      "source": [
        "$s$ = source node\n",
        "\n",
        "$t$ = sink node\n",
        "\n",
        "$c_{ij}$ = arc flow capacity, $\\forall (i, j) \\in A$"
      ],
      "metadata": {
        "id": "3NazPSvC02Yq"
      }
    },
    {
      "cell_type": "markdown",
      "source": [
        "### **2.5 Variables**"
      ],
      "metadata": {
        "id": "V1TyTncjzdWq"
      }
    },
    {
      "cell_type": "markdown",
      "source": [
        "$f_{i,j}$ = arc flow, $\\forall (i, j) \\in A$"
      ],
      "metadata": {
        "id": "wMEVQGPu1HNy"
      }
    },
    {
      "cell_type": "markdown",
      "source": [
        "### **2.6 Objective**"
      ],
      "metadata": {
        "id": "rTN8xC9WzdQP"
      }
    },
    {
      "cell_type": "markdown",
      "source": [
        "Maximize the flow into the sink nodes\n",
        "$$\\max \\sum_{\\{i|(i,j) \\in A\\}}c_{i,t}f_{i,t}$$"
      ],
      "metadata": {
        "id": "LRLdqT1n1OfC"
      }
    },
    {
      "cell_type": "markdown",
      "source": [
        "### **2.7 Constraints**"
      ],
      "metadata": {
        "id": "3bgxVPgxzc8S"
      }
    },
    {
      "cell_type": "markdown",
      "source": [
        "Enforce an upper limit on the flow across each arc\n",
        "$$f_{i,j}\\leq c_{i,j}, \\forall(i,j) \\in A$$\n",
        "\n",
        "Enforce flow through each node\n",
        "$$\\sum_{\\{i|(i,j)\\in A\\}}f_{i,j}=\\sum_{\\{i|(j,i)\\in A\\}}f_{j,i}, \\forall j \\in N−\\{s,t\\}$$\n",
        "\n",
        "Flow lower bound\n",
        "$$f_{i,j}\\geq 0, \\forall (i,j) \\in A$$"
      ],
      "metadata": {
        "id": "FK8_u2Be2tyT"
      }
    },
    {
      "cell_type": "markdown",
      "source": [
        "### **2.8 Pyomo Formulation**"
      ],
      "metadata": {
        "id": "DkXBpKfeztED"
      }
    },
    {
      "cell_type": "markdown",
      "source": [
        "We begin by importing the Pyomo package and creating a model object:"
      ],
      "metadata": {
        "id": "F6Tk0HjHSIXh"
      }
    },
    {
      "cell_type": "code",
      "source": [
        "from pyomo.environ import *\n",
        "\n",
        "model = AbstractModel()"
      ],
      "metadata": {
        "id": "OU0WhNf6SI80"
      },
      "execution_count": null,
      "outputs": []
    },
    {
      "cell_type": "markdown",
      "source": [
        "The sets $N$ and $A$ are declared abstractly using the `Set` component:"
      ],
      "metadata": {
        "id": "L9SLhcNYSKUZ"
      }
    },
    {
      "cell_type": "code",
      "source": [
        "# Nodes in the network\n",
        "model.N = Set()\n",
        "# Network arcs\n",
        "model.A = Set(within=model.N*model.N)"
      ],
      "metadata": {
        "id": "OMPumxpXSPiY"
      },
      "execution_count": null,
      "outputs": []
    },
    {
      "cell_type": "markdown",
      "source": [
        "Similarly, the model parameters are defined abstractly using the `Param` component:"
      ],
      "metadata": {
        "id": "3ejHSpK4SP-o"
      }
    },
    {
      "cell_type": "code",
      "source": [
        "# Source node\n",
        "model.s = Param(within=model.N)\n",
        "# Sink node\n",
        "model.t = Param(within=model.N)\n",
        "# Flow capacity limits\n",
        "model.c = Param(model.A)"
      ],
      "metadata": {
        "id": "02NWMF9sSSR_"
      },
      "execution_count": null,
      "outputs": []
    },
    {
      "cell_type": "markdown",
      "source": [
        "The `within` option is used in these parameter declarations to define expected properties of the parameters. This information is used to perform error checks on the data that is used to initialize the parameter components.\n",
        "\n",
        "The `Var` component is used to define the decision variables:"
      ],
      "metadata": {
        "id": "SaKOMMPQSTfH"
      }
    },
    {
      "cell_type": "code",
      "source": [
        "# The flow over each arc\n",
        "model.f = Var(model.A, within=NonNegativeReals)"
      ],
      "metadata": {
        "id": "37LaLkFlSXYw"
      },
      "execution_count": null,
      "outputs": []
    },
    {
      "cell_type": "markdown",
      "source": [
        "The `within` option is used to restrict the domain of the decision variables to the non-negative reals. This eliminates the need for explicit bound constraints for variables.\n",
        "\n",
        "The `Objective` component is used to define the cost objective. This component uses a rule function to construct the objective expression:"
      ],
      "metadata": {
        "id": "YWaiTVFJSYYw"
      }
    },
    {
      "cell_type": "code",
      "source": [
        "# Maximize the flow into the sink nodes\n",
        "def total_rule(model):\n",
        "    return sum(model.f[i,j] for (i, j) in model.A if j == value(model.t))\n",
        "model.total = Objective(rule=total_rule, sense=maximize)"
      ],
      "metadata": {
        "id": "2wW-59JHSbCu"
      },
      "execution_count": null,
      "outputs": []
    },
    {
      "cell_type": "markdown",
      "source": [
        "Similarly, rule functions are used to define constraint expressions in the `Constraint` component:"
      ],
      "metadata": {
        "id": "EiOMWGOOSdCi"
      }
    },
    {
      "cell_type": "code",
      "source": [
        "# Enforce an upper limit on the flow across each arc\n",
        "def limit_rule(model, i, j):\n",
        "    return model.f[i,j] <= model.c[i, j]\n",
        "model.limit = Constraint(model.A, rule=limit_rule)\n",
        "\n",
        "# Enforce flow through each node\n",
        "def flow_rule(model, k):\n",
        "    if k == value(model.s) or k == value(model.t):\n",
        "        return Constraint.Skip\n",
        "    inFlow  = sum(model.f[i,j] for (i,j) in model.A if j == k)\n",
        "    outFlow = sum(model.f[i,j] for (i,j) in model.A if i == k)\n",
        "    return inFlow == outFlow\n",
        "model.flow = Constraint(model.N, rule=flow_rule)"
      ],
      "metadata": {
        "id": "jrDJVaaVSeem"
      },
      "execution_count": null,
      "outputs": []
    },
    {
      "cell_type": "markdown",
      "source": [
        "Putting these declarations all together gives the following model:"
      ],
      "metadata": {
        "id": "TXYlihsJSfqP"
      }
    },
    {
      "cell_type": "code",
      "source": [
        "!cat /content/gdrive/MyDrive/HW-11-Files/maxflow.py"
      ],
      "metadata": {
        "id": "5oT7kCN-Sgs2",
        "colab": {
          "base_uri": "https://localhost:8080/"
        },
        "outputId": "686a8f17-d524-4261-a390-d0741e606281"
      },
      "execution_count": null,
      "outputs": [
        {
          "output_type": "stream",
          "name": "stdout",
          "text": [
            "from pyomo.environ import *\r\n",
            "\r\n",
            "model = AbstractModel()\r\n",
            "\r\n",
            "# Nodes in the network\r\n",
            "model.N = Set()\r\n",
            "# Network arcs\r\n",
            "model.A = Set(within=model.N*model.N)\r\n",
            "\r\n",
            "# Source node\r\n",
            "model.s = Param(within=model.N)\r\n",
            "# Sink node\r\n",
            "model.t = Param(within=model.N)\r\n",
            "# Flow capacity limits\r\n",
            "model.c = Param(model.A)\r\n",
            "\r\n",
            "# The flow over each arc\r\n",
            "model.f = Var(model.A, within=NonNegativeReals)\r\n",
            "\r\n",
            "# Maximize the flow into the sink nodes\r\n",
            "def total_rule(model):\r\n",
            "    return sum(model.f[i,j] for (i, j) in model.A if j == value(model.t))\r\n",
            "model.total = Objective(rule=total_rule, sense=maximize)\r\n",
            "\r\n",
            "# Enforce an upper limit on the flow across each arc\r\n",
            "def limit_rule(model, i, j):\r\n",
            "    return model.f[i,j] <= model.c[i, j]\r\n",
            "model.limit = Constraint(model.A, rule=limit_rule)\r\n",
            "\r\n",
            "# Enforce flow through each node\r\n",
            "def flow_rule(model, k):\r\n",
            "    if k == value(model.s) or k == value(model.t):\r\n",
            "        return Constraint.Skip\r\n",
            "    inFlow  = sum(model.f[i,j] for (i,j) in model.A if j == k)\r\n",
            "    outFlow = sum(model.f[i,j] for (i,j) in model.A if i == k)\r\n",
            "    return inFlow == outFlow\r\n",
            "model.flow = Constraint(model.N, rule=flow_rule)"
          ]
        }
      ]
    },
    {
      "cell_type": "markdown",
      "source": [
        "### **2.9 Model Data**"
      ],
      "metadata": {
        "id": "T2JSKn7n0Df4"
      }
    },
    {
      "cell_type": "markdown",
      "source": [
        "Since this is an abstract Pyomo model, the set and parameter values need to be provided to initialize the model. The following data command file provides a synthetic data set:"
      ],
      "metadata": {
        "id": "6cUSqzW8Smc9"
      }
    },
    {
      "cell_type": "code",
      "source": [
        "!cat /content/gdrive/MyDrive/HW-11-Files/maxflow.dat"
      ],
      "metadata": {
        "id": "OgDPkvZNSo_a",
        "colab": {
          "base_uri": "https://localhost:8080/"
        },
        "outputId": "b1634c44-3fe3-4487-bf2c-e6aae2d49a03"
      },
      "execution_count": null,
      "outputs": [
        {
          "output_type": "stream",
          "name": "stdout",
          "text": [
            "set N := Zoo A B C D E Home;\r\n",
            "set A := (Zoo,A) (Zoo,B) (A,C) (A,D) (B,A) (B,C) (C,D) (C,E) (D,E) (D,Home) (E,Home);\r\n",
            "\r\n",
            "param s := Zoo;\r\n",
            "param t := Home;\r\n",
            "param: c :=\r\n",
            "Zoo A 11\r\n",
            "Zoo B 8\r\n",
            "A C 5\r\n",
            "A D 8\r\n",
            "B A 4\r\n",
            "B C 3\r\n",
            "C D 2\r\n",
            "C E 4\r\n",
            "D E 5\r\n",
            "D Home 8\r\n",
            "E Home 6;"
          ]
        }
      ]
    },
    {
      "cell_type": "markdown",
      "source": [
        "Set data is defined with the `set` command, and parameter data is defined with the `param` command.\n",
        "\n",
        "This data set considers the problem of maximizing flow in a zoo. A panda is about to give birth at the zoo! Officials anticipate that attendance will skyrocket to see the new, adorable baby panda. There's one particular residential area called \"Home\" that is full of panda loving families and there's a fear that the increased number of people visiting the zoo will overload the public transportation system. It will be especially bad in the evening since the zoo closes about the same time as rush hour, so everyone will be trying to find space on the already crowded buses and subways. As a city planner, you were given a map of routes from the zoo to Home, along with the estimated number of families that could go on each route. Additionally, it was estimated that 16 families from Home will visit each day, and it's your task to figure out if this will overload the public transportation system, and, if it does, how could the system be improved?"
      ],
      "metadata": {
        "id": "E1VSiHi9Ss2L"
      }
    },
    {
      "cell_type": "markdown",
      "source": [
        "### **2.10 Solution**"
      ],
      "metadata": {
        "id": "aQIAuGAX0DYM"
      }
    },
    {
      "cell_type": "markdown",
      "source": [
        "Pyomo includes a `pyomo` command that automates the construction and optimization of models. The GLPK solver can be used in this simple example:"
      ],
      "metadata": {
        "id": "SXc8twlLSz-w"
      }
    },
    {
      "cell_type": "code",
      "source": [
        "!pyomo solve --solver=glpk /content/gdrive/MyDrive/HW-11-Files/maxflow.py /content/gdrive/MyDrive/HW-11-Files/maxflow.dat"
      ],
      "metadata": {
        "id": "xiwKckpuSzJb",
        "colab": {
          "base_uri": "https://localhost:8080/"
        },
        "outputId": "572558df-c700-431e-c16c-025c8bb03fc3"
      },
      "execution_count": null,
      "outputs": [
        {
          "output_type": "stream",
          "name": "stdout",
          "text": [
            "[    0.00] Setting up Pyomo environment\n",
            "[    0.00] Applying Pyomo preprocessing actions\n",
            "[    0.00] Pyomo Finished\n",
            "ERROR: Unexpected exception while running model:\n",
            "        File /content/gdrive/MyDrive/HW-11-Files/maxflow.py does not exist!\n"
          ]
        }
      ]
    },
    {
      "cell_type": "markdown",
      "source": [
        "By default, the optimization results are stored in the file `results.yml`:"
      ],
      "metadata": {
        "id": "h7xEa4BeS7Px"
      }
    },
    {
      "cell_type": "code",
      "source": [
        "!cat results.yml"
      ],
      "metadata": {
        "id": "XQKetktQS9ZE",
        "colab": {
          "base_uri": "https://localhost:8080/"
        },
        "outputId": "0e3dd275-caae-4059-f80b-2e4fb6b5c3f2"
      },
      "execution_count": null,
      "outputs": [
        {
          "output_type": "stream",
          "name": "stdout",
          "text": [
            "cat: results.yml: No such file or directory\n"
          ]
        }
      ]
    },
    {
      "cell_type": "markdown",
      "source": [
        "This output tells us how many people should travel along each route for the optimal solution. More importantly, though, is the line which says our objective value is 14. This means that at most 14 families can arrive at Home. However, we were told 16 families from Home were expected to visit the zoo each day. Therefore, unless something is done, the public transportation network in place will be overloaded."
      ],
      "metadata": {
        "id": "1RtwVFUXTA7p"
      }
    },
    {
      "cell_type": "markdown",
      "source": [
        "### **2.11 References**"
      ],
      "metadata": {
        "id": "l7LJW8Jj0HuI"
      }
    },
    {
      "cell_type": "markdown",
      "source": [
        "*   A. Schrijver, (2002). \"On the history of the transportation and maximum flow problems\". Mathematical Programming 91 (3): 437–445.\n",
        "\n"
      ],
      "metadata": {
        "id": "xGJKp4Cd0LKp"
      }
    },
    {
      "cell_type": "markdown",
      "source": [
        "## 3.- [p-Median Problem](https://nbviewer.org/github/Pyomo/PyomoGallery/blob/master/p_median/p_median.ipynb)"
      ],
      "metadata": {
        "id": "qlpdk4tF8Xg7"
      }
    },
    {
      "cell_type": "markdown",
      "source": [
        "### **3.1 Summary**"
      ],
      "metadata": {
        "id": "gU84AAEQT4mP"
      }
    },
    {
      "cell_type": "markdown",
      "source": [
        "The goal of the $p$-median problem is to locating $p$ facilities to minimize the demand weighted average distance between demand nodes and the nearest of the selected facilities. Hakimi (1964, 1965) first considered this problem for the design of network switch centers. However, this problem has been used to model a wide range of applications, such as warehouse location, depot location, school districting and sensor placement."
      ],
      "metadata": {
        "id": "mOzBWj0pT4mQ"
      }
    },
    {
      "cell_type": "markdown",
      "source": [
        "### **3.2 Problem Statement**"
      ],
      "metadata": {
        "id": "9XK1XjdfT4mR"
      }
    },
    {
      "cell_type": "markdown",
      "source": [
        "The $p$-median problem can be formulated mathematically as an integer programming problem using the following model."
      ],
      "metadata": {
        "id": "dbDj-w19T4mR"
      }
    },
    {
      "cell_type": "markdown",
      "source": [
        "### **3.3 Sets**"
      ],
      "metadata": {
        "id": "ZxAR_mMmT4mR"
      }
    },
    {
      "cell_type": "markdown",
      "source": [
        "$M$ = set of candidate locations\n",
        "\n",
        "$N$ = set of customer demand nodes"
      ],
      "metadata": {
        "id": "eieeRP8YT4mS"
      }
    },
    {
      "cell_type": "markdown",
      "source": [
        "### **3.4 Parameters**"
      ],
      "metadata": {
        "id": "RlmN9H-eT4mS"
      }
    },
    {
      "cell_type": "markdown",
      "source": [
        "$p=$ number of facilities to locate\n",
        "\n",
        "$d_{j}=$ demand of customer $j, \\forall j \\in N$\n",
        "\n",
        "$c_{i j}=$ unit cost of satisfying customer $j$ from facility $i, \\forall i \\in M, \\forall j \\in N$\n"
      ],
      "metadata": {
        "id": "KLLBDND_T4mS"
      }
    },
    {
      "cell_type": "markdown",
      "source": [
        "### **3.5 Variables**"
      ],
      "metadata": {
        "id": "H9Xpx-gPT4mS"
      }
    },
    {
      "cell_type": "markdown",
      "source": [
        "$x_{i j}=$ fraction of the demand of customer $j$ that is supplied by facility $i, \\forall i \\in M, \\forall j \\in N$\n",
        "\n",
        "$y_{i}=$ a binary value that is 1 is a facility is located at location $i, \\forall i \\in M$"
      ],
      "metadata": {
        "id": "aTmZog0JT4mT"
      }
    },
    {
      "cell_type": "markdown",
      "source": [
        "### **3.6 Objective**"
      ],
      "metadata": {
        "id": "HN2RqnBAT4mT"
      }
    },
    {
      "cell_type": "markdown",
      "source": [
        "Minimize the demand-weighted total cost\n",
        "$$\\min \\sum_{i \\in M} \\sum_{j \\in N} d_{j} c_{i j} x_{i j}$$\n"
      ],
      "metadata": {
        "id": "_JFja9TdT4mT"
      }
    },
    {
      "cell_type": "markdown",
      "source": [
        "### **3.7 Constraints**"
      ],
      "metadata": {
        "id": "iBJ53W6LT4mT"
      }
    },
    {
      "cell_type": "markdown",
      "source": [
        "All of the demand for customer $j$ must be satisfied\n",
        "$$\\sum_{i \\in M} x_{i j}=1, \\forall j \\in N$$\n",
        "\n",
        "Exactly $p$ facilities are located\n",
        "$$\\sum_{i \\in M} y_{i}=p$$\n",
        "\n",
        "Demand nodes can only be assigned to open facilities\n",
        "$$x_{i j} \\leq y_{i}, \\forall i \\in M, \\forall j \\in N$$\n",
        "\n",
        "The assignment variables must be non-negative\n",
        "$$x_{i j} \\geq 0, \\forall i \\in M, \\forall j \\in N$$"
      ],
      "metadata": {
        "id": "VAIIpkqQT4mU"
      }
    },
    {
      "cell_type": "markdown",
      "source": [
        "### **3.8 Pyomo Formulation**"
      ],
      "metadata": {
        "id": "l8CpC_CTT4mU"
      }
    },
    {
      "cell_type": "markdown",
      "source": [
        "The following is an abstract Pyomo model for this problem"
      ],
      "metadata": {
        "id": "oBdUopSeT4mU"
      }
    },
    {
      "cell_type": "code",
      "source": [
        "!cat /content/gdrive/MyDrive/HW-11-Files/p-median.py"
      ],
      "metadata": {
        "id": "x57kXLYcT4mV",
        "colab": {
          "base_uri": "https://localhost:8080/"
        },
        "outputId": "fa3a200d-d904-4bb1-ae79-835cd73f99d1"
      },
      "execution_count": null,
      "outputs": [
        {
          "output_type": "stream",
          "name": "stdout",
          "text": [
            "from pyomo.environ import *\r\n",
            "import random\r\n",
            "\r\n",
            "random.seed(1000)\r\n",
            "\r\n",
            "model = AbstractModel()\r\n",
            "\r\n",
            "# Number of candidate locations\r\n",
            "model.m = Param(within=PositiveIntegers)\r\n",
            "# Number of customers\r\n",
            "model.n = Param(within=PositiveIntegers)\r\n",
            "# Set of candidate locations\r\n",
            "model.M = RangeSet(1,model.m)\r\n",
            "# Set of customer nodes\r\n",
            "model.N = RangeSet(1,model.n)\r\n",
            "\r\n",
            "# Number of facilities\r\n",
            "model.p = Param(within=RangeSet(1,model.n))\r\n",
            "# d[j] - demand of customer j\r\n",
            "model.d = Param(model.N, default=1.0)\r\n",
            "# c[i,j] - unit cost of satisfying customer j from facility i\r\n",
            "model.c = Param(model.M, model.N, initialize=lambda i, j, model : random.uniform(1.0,2.0), within=Reals)\r\n",
            "\r\n",
            "# x[i,j] - fraction of the demand of customer j that is supplied by facility i\r\n",
            "model.x = Var(model.M, model.N, bounds=(0.0,1.0))\r\n",
            "# y[i] - a binary value that is 1 is a facility is located at location i\r\n",
            "model.y = Var(model.M, within=Binary)\r\n",
            "\r\n",
            "# Minimize the demand-weighted total cost\r\n",
            "def cost_(model):\r\n",
            "    return sum(model.d[j]*model.c[i,j]*model.x[i,j] for i in model.M for j in model.N)\r\n",
            "model.cost = Objective(rule=cost_)\r\n",
            "\r\n",
            "# All of the demand for customer j must be satisfied\r\n",
            "def demand_(model, j):\r\n",
            "    return sum(model.x[i,j] for i in model.M) == 1.0\r\n",
            "model.demand = Constraint(model.N, rule=demand_)\r\n",
            "\r\n",
            "# Exactly p facilities are located\r\n",
            "def facilities_(model):\r\n",
            "    return sum(model.y[i] for i in model.M) == model.p\r\n",
            "model.facilities = Constraint(rule=facilities_)\r\n",
            "\r\n",
            "# Demand nodes can only be assigned to open facilities \r\n",
            "def openfac_(model, i, j):\r\n",
            "    return model.x[i,j] <= model.y[i]\r\n",
            "model.openfac = Constraint(model.M, model.N, rule=openfac_)"
          ]
        }
      ]
    },
    {
      "cell_type": "markdown",
      "source": [
        "This model is simplified in several respects. First, the candidate locations and customer locations are treated as numeric ranges. Second, the demand values, $d_j$ are initialized with a default value of $1$. Finally, the cost values, $c_{ij}$ are randomly assigned."
      ],
      "metadata": {
        "id": "3kC4YO1kT4mV"
      }
    },
    {
      "cell_type": "markdown",
      "source": [
        "### **3.9 Model Data**"
      ],
      "metadata": {
        "id": "O2JAmvfjT4mZ"
      }
    },
    {
      "cell_type": "markdown",
      "source": [
        "This model is parameterized by three values: the number of facility locations, the number of customers, and the number of facilities. For example:"
      ],
      "metadata": {
        "id": "Y-D-VAFxT4mZ"
      }
    },
    {
      "cell_type": "code",
      "source": [
        "!cat /content/gdrive/MyDrive/HW-11-Files/p-median.dat"
      ],
      "metadata": {
        "id": "syuue7sKT4mZ",
        "colab": {
          "base_uri": "https://localhost:8080/"
        },
        "outputId": "d026b704-685e-4cd1-fcd5-e10352de2683"
      },
      "execution_count": null,
      "outputs": [
        {
          "output_type": "stream",
          "name": "stdout",
          "text": [
            "param m := 10;\r\n",
            "param n := 6;\r\n",
            "param p := 3;"
          ]
        }
      ]
    },
    {
      "cell_type": "markdown",
      "source": [
        "### **3.10 Solution**"
      ],
      "metadata": {
        "id": "njmzB0lXT4ma"
      }
    },
    {
      "cell_type": "markdown",
      "source": [
        "Pyomo includes a `pyomo` command that automates the construction and optimization of models. The GLPK solver can be used in this simple example:"
      ],
      "metadata": {
        "id": "8fpc8FdVT4ma"
      }
    },
    {
      "cell_type": "code",
      "source": [
        "!pyomo solve --solver=glpk /content/gdrive/MyDrive/HW-11-Files/p-median.py /content/gdrive/MyDrive/HW-11-Files/p-median.dat"
      ],
      "metadata": {
        "id": "LUtiRK75T4mb",
        "colab": {
          "base_uri": "https://localhost:8080/"
        },
        "outputId": "f95f1124-586c-4b60-e381-99affe604e2a"
      },
      "execution_count": null,
      "outputs": [
        {
          "output_type": "stream",
          "name": "stdout",
          "text": [
            "[    0.00] Setting up Pyomo environment\n",
            "[    0.00] Applying Pyomo preprocessing actions\n",
            "[    0.01] Creating model\n",
            "[    0.03] Applying solver\n",
            "[    0.06] Processing results\n",
            "    Number of solutions: 1\n",
            "    Solution Information\n",
            "      Gap: 0.0\n",
            "      Status: optimal\n",
            "      Function Value: 6.431184939357673\n",
            "    Solver results file: results.yml\n",
            "[    0.06] Applying Pyomo postprocessing actions\n",
            "[    0.06] Pyomo Finished\n"
          ]
        }
      ]
    },
    {
      "cell_type": "markdown",
      "source": [
        "By default, the optimization results are stored in the file `results.yml`:"
      ],
      "metadata": {
        "id": "YDWnPDyhT4mb"
      }
    },
    {
      "cell_type": "code",
      "source": [
        "!cat results.yml"
      ],
      "metadata": {
        "id": "hOhRUgOsT4mb",
        "colab": {
          "base_uri": "https://localhost:8080/"
        },
        "outputId": "4fd8b687-b5a0-4708-a585-67ad6c7abe57"
      },
      "execution_count": null,
      "outputs": [
        {
          "output_type": "stream",
          "name": "stdout",
          "text": [
            "# ==========================================================\n",
            "# = Solver Results                                         =\n",
            "# ==========================================================\n",
            "# ----------------------------------------------------------\n",
            "#   Problem Information\n",
            "# ----------------------------------------------------------\n",
            "Problem: \n",
            "- Name: unknown\n",
            "  Lower bound: 6.43118493935767\n",
            "  Upper bound: 6.43118493935767\n",
            "  Number of objectives: 1\n",
            "  Number of constraints: 68\n",
            "  Number of variables: 71\n",
            "  Number of nonzeros: 191\n",
            "  Sense: minimize\n",
            "# ----------------------------------------------------------\n",
            "#   Solver Information\n",
            "# ----------------------------------------------------------\n",
            "Solver: \n",
            "- Status: ok\n",
            "  Termination condition: optimal\n",
            "  Statistics: \n",
            "    Branch and bound: \n",
            "      Number of bounded subproblems: 1\n",
            "      Number of created subproblems: 1\n",
            "  Error rc: 0\n",
            "  Time: 0.011291742324829102\n",
            "# ----------------------------------------------------------\n",
            "#   Solution Information\n",
            "# ----------------------------------------------------------\n",
            "Solution: \n",
            "- number of solutions: 1\n",
            "  number of solutions displayed: 1\n",
            "- Gap: 0.0\n",
            "  Status: optimal\n",
            "  Message: None\n",
            "  Objective:\n",
            "    cost:\n",
            "      Value: 6.431184939357673\n",
            "  Variable:\n",
            "    x[3,4]:\n",
            "      Value: 1\n",
            "    x[6,1]:\n",
            "      Value: 1\n",
            "    x[6,2]:\n",
            "      Value: 1\n",
            "    x[6,3]:\n",
            "      Value: 1\n",
            "    x[6,5]:\n",
            "      Value: 1\n",
            "    x[9,6]:\n",
            "      Value: 1\n",
            "    y[3]:\n",
            "      Value: 1\n",
            "    y[6]:\n",
            "      Value: 1\n",
            "    y[9]:\n",
            "      Value: 1\n",
            "  Constraint: No values\n"
          ]
        }
      ]
    },
    {
      "cell_type": "markdown",
      "source": [
        "This solution places facilities at locations 3, 6 and 9. Facility 3 meets the demand of customer 4, facility 6 meets the demand of customers 1, 2, 3 and 5, and facility 9 meets the demand of customer 6."
      ],
      "metadata": {
        "id": "qZ5FHWxKT4mb"
      }
    },
    {
      "cell_type": "markdown",
      "source": [
        "### **3.11 References**"
      ],
      "metadata": {
        "id": "UG667DyvT4mc"
      }
    },
    {
      "cell_type": "markdown",
      "source": [
        "*   S.L. Hakimi (1964) Optimum location of switching centers and the absolute centers and medians of a graph. Oper Res 12:450–459\n",
        "*   S.L. Hakimi (1965) Optimum distribution of switching centers in a communication network and some related graph theoretic problems. Oper Res 13:462–475\n"
      ],
      "metadata": {
        "id": "oxoLVNFgT4mc"
      }
    },
    {
      "cell_type": "markdown",
      "source": [
        "## 4.- [Transport Problem](https://nbviewer.org/github/Pyomo/PyomoGallery/blob/master/transport/transport.ipynb)"
      ],
      "metadata": {
        "id": "8YqG6MWG8XXh"
      }
    },
    {
      "cell_type": "markdown",
      "source": [
        "### **4.1 Summary**"
      ],
      "metadata": {
        "id": "Sz6BLsmxWiFX"
      }
    },
    {
      "cell_type": "markdown",
      "source": [
        "The goal of the Transport Problem is to select the quantities of an homogeneous good that has several production plants and several punctiform markets as to minimise the transportation costs.\n",
        "\n",
        "It is the default tutorial for the GAMS language, and GAMS equivalent code is inserted as single-dash comments. The original GAMS code needs slighly different ordering of the commands and it's available at http://www.gams.com/mccarl/trnsport.gms."
      ],
      "metadata": {
        "id": "h6vZtLlSWiFY"
      }
    },
    {
      "cell_type": "markdown",
      "source": [
        "### **4.2 Problem Statement**"
      ],
      "metadata": {
        "id": "yLMqzpWBWiFY"
      }
    },
    {
      "cell_type": "markdown",
      "source": [
        "The Transport Problem can be formulated mathematically as a linear programming problem using the following model."
      ],
      "metadata": {
        "id": "9tyEnXziWiFY"
      }
    },
    {
      "cell_type": "markdown",
      "source": [
        "### **4.3 Sets**"
      ],
      "metadata": {
        "id": "HpBaUk-3WiFZ"
      }
    },
    {
      "cell_type": "markdown",
      "source": [
        "$I$ = set of canning plants\n",
        "\n",
        "$J$ = set of markets"
      ],
      "metadata": {
        "id": "j5oVKMibWiFZ"
      }
    },
    {
      "cell_type": "markdown",
      "source": [
        "### **4.4 Parameters**"
      ],
      "metadata": {
        "id": "gjDaqtz6WiFZ"
      }
    },
    {
      "cell_type": "markdown",
      "source": [
        "$a_{i}$= capacity of plant $i$ in cases, $\\forall i \\in I$\n",
        "\n",
        "$b_{j}$= demand at market $j$ in cases, $\\forall j \\in J$\n",
        "\n",
        "$d_{i, j}$= distance in thousands of miles, $\\forall i \\in I, \\forall j \\in J$\n",
        "\n",
        "$f$= freight in dollars per case per thousand miles\n",
        "\n",
        "$c_{i, j}$= transport cost in thousands of dollars per case\n",
        "\n",
        "$c_{i, j}$ is obtained exougenously to the optimisation problem as $c_{i, j}=f \\cdot d_{i, j}, \\forall i \\in I, \\forall j \\in J$"
      ],
      "metadata": {
        "id": "E4UTdxbnWiFa"
      }
    },
    {
      "cell_type": "markdown",
      "source": [
        "### **4.5 Variables**"
      ],
      "metadata": {
        "id": "ilniComOWiFa"
      }
    },
    {
      "cell_type": "markdown",
      "source": [
        "$x_{i, j}$= shipment quantities in cases\n",
        "\n",
        "$z$= total transportation costs in thousands of dollars\n"
      ],
      "metadata": {
        "id": "XHVer-ybWiFa"
      }
    },
    {
      "cell_type": "markdown",
      "source": [
        "### **4.6 Objective**"
      ],
      "metadata": {
        "id": "NC2Uawh-WiFa"
      }
    },
    {
      "cell_type": "markdown",
      "source": [
        "Minimize the total cost of the shipments:\n",
        "$$\n",
        "\\min _{x} z=\\sum_{i \\in I} \\sum_{j \\in J} c_{i, j} x_{i, j}\n",
        "$$"
      ],
      "metadata": {
        "id": "XcUA1K_5WiFb"
      }
    },
    {
      "cell_type": "markdown",
      "source": [
        "### **4.7 Constraints**"
      ],
      "metadata": {
        "id": "UqL3rdCEWiFc"
      }
    },
    {
      "cell_type": "markdown",
      "source": [
        "Observe supply limit at plant i:\n",
        "$$\n",
        "\\sum_{j \\in J} x_{i, j} \\leq a_{i}, \\forall i \\in I\n",
        "$$\n",
        "\n",
        "Satisfy demand at market $j$ :\n",
        "$$\n",
        "\\sum_{i \\in I} x_{i, j} \\geq b_{j}, \\forall j \\in J\n",
        "$$\n",
        "\n",
        "Non-negative transportation quantities\n",
        "$$\n",
        "x_{i, j} \\geq 0, \\forall i \\in I, \\forall j \\in J\n",
        "$$"
      ],
      "metadata": {
        "id": "ItlaG2wfWiFc"
      }
    },
    {
      "cell_type": "markdown",
      "source": [
        "### **4.8 Pyomo Formulation**"
      ],
      "metadata": {
        "id": "-An4hxXjWiFc"
      }
    },
    {
      "cell_type": "markdown",
      "source": [
        "The following is an abstract Pyomo model for this problem"
      ],
      "metadata": {
        "id": "BhRKGZKKWiFd"
      }
    },
    {
      "cell_type": "code",
      "source": [
        "!cat /content/gdrive/MyDrive/HW-11-Files/p-median.py"
      ],
      "metadata": {
        "id": "HlFOYJVjWiFd",
        "colab": {
          "base_uri": "https://localhost:8080/"
        },
        "outputId": "ec6b206d-9f4c-46f9-d92a-daa5cdc692cb"
      },
      "execution_count": null,
      "outputs": [
        {
          "output_type": "stream",
          "name": "stdout",
          "text": [
            "from pyomo.environ import *\r\n",
            "import random\r\n",
            "\r\n",
            "random.seed(1000)\r\n",
            "\r\n",
            "model = AbstractModel()\r\n",
            "\r\n",
            "# Number of candidate locations\r\n",
            "model.m = Param(within=PositiveIntegers)\r\n",
            "# Number of customers\r\n",
            "model.n = Param(within=PositiveIntegers)\r\n",
            "# Set of candidate locations\r\n",
            "model.M = RangeSet(1,model.m)\r\n",
            "# Set of customer nodes\r\n",
            "model.N = RangeSet(1,model.n)\r\n",
            "\r\n",
            "# Number of facilities\r\n",
            "model.p = Param(within=RangeSet(1,model.n))\r\n",
            "# d[j] - demand of customer j\r\n",
            "model.d = Param(model.N, default=1.0)\r\n",
            "# c[i,j] - unit cost of satisfying customer j from facility i\r\n",
            "model.c = Param(model.M, model.N, initialize=lambda i, j, model : random.uniform(1.0,2.0), within=Reals)\r\n",
            "\r\n",
            "# x[i,j] - fraction of the demand of customer j that is supplied by facility i\r\n",
            "model.x = Var(model.M, model.N, bounds=(0.0,1.0))\r\n",
            "# y[i] - a binary value that is 1 is a facility is located at location i\r\n",
            "model.y = Var(model.M, within=Binary)\r\n",
            "\r\n",
            "# Minimize the demand-weighted total cost\r\n",
            "def cost_(model):\r\n",
            "    return sum(model.d[j]*model.c[i,j]*model.x[i,j] for i in model.M for j in model.N)\r\n",
            "model.cost = Objective(rule=cost_)\r\n",
            "\r\n",
            "# All of the demand for customer j must be satisfied\r\n",
            "def demand_(model, j):\r\n",
            "    return sum(model.x[i,j] for i in model.M) == 1.0\r\n",
            "model.demand = Constraint(model.N, rule=demand_)\r\n",
            "\r\n",
            "# Exactly p facilities are located\r\n",
            "def facilities_(model):\r\n",
            "    return sum(model.y[i] for i in model.M) == model.p\r\n",
            "model.facilities = Constraint(rule=facilities_)\r\n",
            "\r\n",
            "# Demand nodes can only be assigned to open facilities \r\n",
            "def openfac_(model, i, j):\r\n",
            "    return model.x[i,j] <= model.y[i]\r\n",
            "model.openfac = Constraint(model.M, model.N, rule=openfac_)"
          ]
        }
      ]
    },
    {
      "cell_type": "markdown",
      "source": [
        "This model is simplified in several respects. First, the candidate locations and customer locations are treated as numeric ranges. Second, the demand values, $d_j$ are initialized with a default value of $1$. Finally, the cost values, $c_{ij}$ are randomly assigned."
      ],
      "metadata": {
        "id": "7w49BxaTWiFd"
      }
    },
    {
      "cell_type": "markdown",
      "source": [
        "### **4.9 Model Data**"
      ],
      "metadata": {
        "id": "NplaMLmOWiFe"
      }
    },
    {
      "cell_type": "markdown",
      "source": [
        "#### **Creation of the Model**"
      ],
      "metadata": {
        "id": "zrWiRdxOWiFe"
      }
    },
    {
      "cell_type": "markdown",
      "source": [
        "In pyomo everything is an object. The various components of the model (sets, parameters, variables, constraints, objective..) are all attributes of the main model object while being objects themselves.\n",
        "\n",
        "There are two type of models in pyomo: A `ConcreteModel` is one where all the data is defined at the model creation. We are going to use this type of model in this tutorial. Pyomo however supports also an `AbstractModel`, where the model structure is firstly generated and then particular instances of the model are generated with a particular set of data.\n",
        "\n",
        "The first thing to do in the script is to load the pyomo library and create a new `ConcreteModel` object. We have little imagination here, and we call our model \"model\". You can give it whatever name you want. However, if you give your model an other name, you also need to create a `model` object at the end of your script:"
      ],
      "metadata": {
        "id": "QRNLmw2MYQwH"
      }
    },
    {
      "cell_type": "code",
      "source": [
        "# Import of the pyomo module\n",
        "from pyomo.environ import *\n",
        " \n",
        "# Creation of a Concrete Model\n",
        "model = ConcreteModel()"
      ],
      "metadata": {
        "id": "4yARdcDYWiFe"
      },
      "execution_count": null,
      "outputs": []
    },
    {
      "cell_type": "markdown",
      "source": [
        "#### **Set Definitions**"
      ],
      "metadata": {
        "id": "-8k2hO7jYd_y"
      }
    },
    {
      "cell_type": "markdown",
      "source": [
        "Sets are created as attributes object of the main model objects and all the information is given as parameter in the constructor function. Specifically, we are passing to the constructor the initial elements of the set and a documentation string to keep track on what our set represents:"
      ],
      "metadata": {
        "id": "RDKnu_5eYfcT"
      }
    },
    {
      "cell_type": "code",
      "source": [
        "## Define sets ##\n",
        "#  Sets\n",
        "#       i   canning plants   / seattle, san-diego /\n",
        "#       j   markets          / new-york, chicago, topeka / ;\n",
        "model.i = Set(initialize=['seattle','san-diego'], doc='Canning plans')\n",
        "model.j = Set(initialize=['new-york','chicago', 'topeka'], doc='Markets')"
      ],
      "metadata": {
        "id": "s4awqgMhYje9"
      },
      "execution_count": null,
      "outputs": []
    },
    {
      "cell_type": "markdown",
      "source": [
        "#### **Parameters**"
      ],
      "metadata": {
        "id": "6PWpkPzuYlPB"
      }
    },
    {
      "cell_type": "markdown",
      "source": [
        "Parameter objects are created specifying the sets over which they are defined and are initialised with either a python dictionary or a scalar:"
      ],
      "metadata": {
        "id": "eGOyzp4QYlC1"
      }
    },
    {
      "cell_type": "code",
      "source": [
        "## Define parameters ##\n",
        "#   Parameters\n",
        "#       a(i)  capacity of plant i in cases\n",
        "#         /    seattle     350\n",
        "#              san-diego   600  /\n",
        "#       b(j)  demand at market j in cases\n",
        "#         /    new-york    325\n",
        "#              chicago     300\n",
        "#              topeka      275  / ;\n",
        "model.a = Param(model.i, initialize={'seattle':350,'san-diego':600}, doc='Capacity of plant i in cases')\n",
        "model.b = Param(model.j, initialize={'new-york':325,'chicago':300,'topeka':275}, doc='Demand at market j in cases')\n",
        "#  Table d(i,j)  distance in thousands of miles\n",
        "#                    new-york       chicago      topeka\n",
        "#      seattle          2.5           1.7          1.8\n",
        "#      san-diego        2.5           1.8          1.4  ;\n",
        "dtab = {\n",
        "    ('seattle',  'new-york') : 2.5,\n",
        "    ('seattle',  'chicago')  : 1.7,\n",
        "    ('seattle',  'topeka')   : 1.8,\n",
        "    ('san-diego','new-york') : 2.5,\n",
        "    ('san-diego','chicago')  : 1.8,\n",
        "    ('san-diego','topeka')   : 1.4,\n",
        "    }\n",
        "model.d = Param(model.i, model.j, initialize=dtab, doc='Distance in thousands of miles')\n",
        "#  Scalar f  freight in dollars per case per thousand miles  /90/ ;\n",
        "model.f = Param(initialize=90, doc='Freight in dollars per case per thousand miles')"
      ],
      "metadata": {
        "id": "4uAWZFnHYvL7",
        "colab": {
          "base_uri": "https://localhost:8080/",
          "height": 571
        },
        "outputId": "82ca69b6-705b-4645-9b14-e43392a1e240"
      },
      "execution_count": null,
      "outputs": [
        {
          "output_type": "stream",
          "name": "stdout",
          "text": [
            "WARNING: Implicitly replacing the Component attribute a (type=<class\n",
            "    'pyomo.core.base.param.IndexedParam'>) on block unknown with a new\n",
            "    Component (type=<class 'pyomo.core.base.param.IndexedParam'>). This is\n",
            "    usually indicative of a modelling error. To avoid this warning, use\n",
            "    block.del_component() and block.add_component().\n",
            "WARNING: Implicitly replacing the Component attribute b (type=<class\n",
            "    'pyomo.core.base.param.IndexedParam'>) on block unknown with a new\n",
            "    Component (type=<class 'pyomo.core.base.param.IndexedParam'>). This is\n",
            "    usually indicative of a modelling error. To avoid this warning, use\n",
            "    block.del_component() and block.add_component().\n"
          ]
        },
        {
          "output_type": "error",
          "ename": "RuntimeError",
          "evalue": "ignored",
          "traceback": [
            "\u001b[0;31m---------------------------------------------------------------------------\u001b[0m",
            "\u001b[0;31mRuntimeError\u001b[0m                              Traceback (most recent call last)",
            "\u001b[0;32m<ipython-input-32-89d77d2e9d06>\u001b[0m in \u001b[0;36m<module>\u001b[0;34m()\u001b[0m\n\u001b[1;32m     22\u001b[0m     \u001b[0;34m(\u001b[0m\u001b[0;34m'san-diego'\u001b[0m\u001b[0;34m,\u001b[0m\u001b[0;34m'topeka'\u001b[0m\u001b[0;34m)\u001b[0m   \u001b[0;34m:\u001b[0m \u001b[0;36m1.4\u001b[0m\u001b[0;34m,\u001b[0m\u001b[0;34m\u001b[0m\u001b[0;34m\u001b[0m\u001b[0m\n\u001b[1;32m     23\u001b[0m     }\n\u001b[0;32m---> 24\u001b[0;31m \u001b[0mmodel\u001b[0m\u001b[0;34m.\u001b[0m\u001b[0md\u001b[0m \u001b[0;34m=\u001b[0m \u001b[0mParam\u001b[0m\u001b[0;34m(\u001b[0m\u001b[0mmodel\u001b[0m\u001b[0;34m.\u001b[0m\u001b[0mi\u001b[0m\u001b[0;34m,\u001b[0m \u001b[0mmodel\u001b[0m\u001b[0;34m.\u001b[0m\u001b[0mj\u001b[0m\u001b[0;34m,\u001b[0m \u001b[0minitialize\u001b[0m\u001b[0;34m=\u001b[0m\u001b[0mdtab\u001b[0m\u001b[0;34m,\u001b[0m \u001b[0mdoc\u001b[0m\u001b[0;34m=\u001b[0m\u001b[0;34m'Distance in thousands of miles'\u001b[0m\u001b[0;34m)\u001b[0m\u001b[0;34m\u001b[0m\u001b[0;34m\u001b[0m\u001b[0m\n\u001b[0m\u001b[1;32m     25\u001b[0m \u001b[0;31m#  Scalar f  freight in dollars per case per thousand miles  /90/ ;\u001b[0m\u001b[0;34m\u001b[0m\u001b[0;34m\u001b[0m\u001b[0;34m\u001b[0m\u001b[0m\n\u001b[1;32m     26\u001b[0m \u001b[0mmodel\u001b[0m\u001b[0;34m.\u001b[0m\u001b[0mf\u001b[0m \u001b[0;34m=\u001b[0m \u001b[0mParam\u001b[0m\u001b[0;34m(\u001b[0m\u001b[0minitialize\u001b[0m\u001b[0;34m=\u001b[0m\u001b[0;36m90\u001b[0m\u001b[0;34m,\u001b[0m \u001b[0mdoc\u001b[0m\u001b[0;34m=\u001b[0m\u001b[0;34m'Freight in dollars per case per thousand miles'\u001b[0m\u001b[0;34m)\u001b[0m\u001b[0;34m\u001b[0m\u001b[0;34m\u001b[0m\u001b[0m\n",
            "\u001b[0;32m/usr/local/lib/python3.7/dist-packages/pyomo/core/base/block.py\u001b[0m in \u001b[0;36m__setattr__\u001b[0;34m(self, name, val)\u001b[0m\n\u001b[1;32m    540\u001b[0m                 \u001b[0;31m# Pyomo components are added with the add_component method.\u001b[0m\u001b[0;34m\u001b[0m\u001b[0;34m\u001b[0m\u001b[0;34m\u001b[0m\u001b[0m\n\u001b[1;32m    541\u001b[0m                 \u001b[0;31m#\u001b[0m\u001b[0;34m\u001b[0m\u001b[0;34m\u001b[0m\u001b[0;34m\u001b[0m\u001b[0m\n\u001b[0;32m--> 542\u001b[0;31m                 \u001b[0mself\u001b[0m\u001b[0;34m.\u001b[0m\u001b[0madd_component\u001b[0m\u001b[0;34m(\u001b[0m\u001b[0mname\u001b[0m\u001b[0;34m,\u001b[0m \u001b[0mval\u001b[0m\u001b[0;34m)\u001b[0m\u001b[0;34m\u001b[0m\u001b[0;34m\u001b[0m\u001b[0m\n\u001b[0m\u001b[1;32m    543\u001b[0m             \u001b[0;32melse\u001b[0m\u001b[0;34m:\u001b[0m\u001b[0;34m\u001b[0m\u001b[0;34m\u001b[0m\u001b[0m\n\u001b[1;32m    544\u001b[0m                 \u001b[0;31m#\u001b[0m\u001b[0;34m\u001b[0m\u001b[0;34m\u001b[0m\u001b[0;34m\u001b[0m\u001b[0m\n",
            "\u001b[0;32m/usr/local/lib/python3.7/dist-packages/pyomo/core/base/block.py\u001b[0m in \u001b[0;36madd_component\u001b[0;34m(self, name, val)\u001b[0m\n\u001b[1;32m    982\u001b[0m         \u001b[0;31m# components.\u001b[0m\u001b[0;34m\u001b[0m\u001b[0;34m\u001b[0m\u001b[0;34m\u001b[0m\u001b[0m\n\u001b[1;32m    983\u001b[0m         \u001b[0;31m#\u001b[0m\u001b[0;34m\u001b[0m\u001b[0;34m\u001b[0m\u001b[0;34m\u001b[0m\u001b[0m\n\u001b[0;32m--> 984\u001b[0;31m         \u001b[0mself\u001b[0m\u001b[0;34m.\u001b[0m\u001b[0m_add_implicit_sets\u001b[0m\u001b[0;34m(\u001b[0m\u001b[0mval\u001b[0m\u001b[0;34m)\u001b[0m\u001b[0;34m\u001b[0m\u001b[0;34m\u001b[0m\u001b[0m\n\u001b[0m\u001b[1;32m    985\u001b[0m         \u001b[0;31m#\u001b[0m\u001b[0;34m\u001b[0m\u001b[0;34m\u001b[0m\u001b[0;34m\u001b[0m\u001b[0m\n\u001b[1;32m    986\u001b[0m         \u001b[0;31m# Add the component to the underlying Component store\u001b[0m\u001b[0;34m\u001b[0m\u001b[0;34m\u001b[0m\u001b[0;34m\u001b[0m\u001b[0m\n",
            "\u001b[0;32m/usr/local/lib/python3.7/dist-packages/pyomo/core/base/block.py\u001b[0m in \u001b[0;36m_add_implicit_sets\u001b[0;34m(self, val)\u001b[0m\n\u001b[1;32m    804\u001b[0m                 \u001b[0;32mand\u001b[0m \u001b[0mval\u001b[0m\u001b[0;34m.\u001b[0m\u001b[0m_index\u001b[0m\u001b[0;34m.\u001b[0m\u001b[0mparent_component\u001b[0m\u001b[0;34m(\u001b[0m\u001b[0;34m)\u001b[0m\u001b[0;34m.\u001b[0m\u001b[0mparent_block\u001b[0m\u001b[0;34m(\u001b[0m\u001b[0;34m)\u001b[0m \u001b[0;32mis\u001b[0m \u001b[0;32mNone\u001b[0m\u001b[0;31m \u001b[0m\u001b[0;31m\\\u001b[0m\u001b[0;34m\u001b[0m\u001b[0;34m\u001b[0m\u001b[0m\n\u001b[1;32m    805\u001b[0m                 \u001b[0;32mand\u001b[0m \u001b[0;32mnot\u001b[0m \u001b[0misinstance\u001b[0m\u001b[0;34m(\u001b[0m\u001b[0mval\u001b[0m\u001b[0;34m.\u001b[0m\u001b[0m_index\u001b[0m\u001b[0;34m.\u001b[0m\u001b[0mparent_component\u001b[0m\u001b[0;34m(\u001b[0m\u001b[0;34m)\u001b[0m\u001b[0;34m,\u001b[0m \u001b[0mGlobalSetBase\u001b[0m\u001b[0;34m)\u001b[0m\u001b[0;34m:\u001b[0m\u001b[0;34m\u001b[0m\u001b[0;34m\u001b[0m\u001b[0m\n\u001b[0;32m--> 806\u001b[0;31m             \u001b[0mself\u001b[0m\u001b[0;34m.\u001b[0m\u001b[0madd_component\u001b[0m\u001b[0;34m(\u001b[0m\u001b[0;34m\"%s_index\"\u001b[0m \u001b[0;34m%\u001b[0m \u001b[0;34m(\u001b[0m\u001b[0mval\u001b[0m\u001b[0;34m.\u001b[0m\u001b[0mlocal_name\u001b[0m\u001b[0;34m,\u001b[0m\u001b[0;34m)\u001b[0m\u001b[0;34m,\u001b[0m \u001b[0mval\u001b[0m\u001b[0;34m.\u001b[0m\u001b[0m_index\u001b[0m\u001b[0;34m.\u001b[0m\u001b[0mparent_component\u001b[0m\u001b[0;34m(\u001b[0m\u001b[0;34m)\u001b[0m\u001b[0;34m)\u001b[0m\u001b[0;34m\u001b[0m\u001b[0;34m\u001b[0m\u001b[0m\n\u001b[0m\u001b[1;32m    807\u001b[0m         \u001b[0;32mif\u001b[0m \u001b[0mgetattr\u001b[0m\u001b[0;34m(\u001b[0m\u001b[0mval\u001b[0m\u001b[0;34m,\u001b[0m \u001b[0;34m'initialize'\u001b[0m\u001b[0;34m,\u001b[0m \u001b[0;32mNone\u001b[0m\u001b[0;34m)\u001b[0m \u001b[0;32mis\u001b[0m \u001b[0;32mnot\u001b[0m \u001b[0;32mNone\u001b[0m\u001b[0;31m \u001b[0m\u001b[0;31m\\\u001b[0m\u001b[0;34m\u001b[0m\u001b[0;34m\u001b[0m\u001b[0m\n\u001b[1;32m    808\u001b[0m                 \u001b[0;32mand\u001b[0m \u001b[0misinstance\u001b[0m\u001b[0;34m(\u001b[0m\u001b[0mval\u001b[0m\u001b[0;34m.\u001b[0m\u001b[0minitialize\u001b[0m\u001b[0;34m,\u001b[0m \u001b[0m_SetDataBase\u001b[0m\u001b[0;34m)\u001b[0m\u001b[0;31m \u001b[0m\u001b[0;31m\\\u001b[0m\u001b[0;34m\u001b[0m\u001b[0;34m\u001b[0m\u001b[0m\n",
            "\u001b[0;32m/usr/local/lib/python3.7/dist-packages/pyomo/core/base/block.py\u001b[0m in \u001b[0;36madd_component\u001b[0;34m(self, name, val)\u001b[0m\n\u001b[1;32m    925\u001b[0m                 \u001b[0;34m\"Cannot add component '%s' (type %s) to block '%s': a \"\u001b[0m\u001b[0;34m\u001b[0m\u001b[0;34m\u001b[0m\u001b[0m\n\u001b[1;32m    926\u001b[0m                 \u001b[0;34m\"component by that name (type %s) is already defined.\"\u001b[0m\u001b[0;34m\u001b[0m\u001b[0;34m\u001b[0m\u001b[0m\n\u001b[0;32m--> 927\u001b[0;31m                 % (name, type(val), self.name, type(getattr(self, name))))\n\u001b[0m\u001b[1;32m    928\u001b[0m         \u001b[0;31m#\u001b[0m\u001b[0;34m\u001b[0m\u001b[0;34m\u001b[0m\u001b[0;34m\u001b[0m\u001b[0m\n\u001b[1;32m    929\u001b[0m         \u001b[0;31m# Skip the add_component() logic if this is a\u001b[0m\u001b[0;34m\u001b[0m\u001b[0;34m\u001b[0m\u001b[0;34m\u001b[0m\u001b[0m\n",
            "\u001b[0;31mRuntimeError\u001b[0m: Cannot add component 'd_index' (type <class 'pyomo.core.base.set.SetProduct_OrderedSet'>) to block 'unknown': a component by that name (type <class 'pyomo.core.base.set.SetProduct_OrderedSet'>) is already defined."
          ]
        }
      ]
    },
    {
      "cell_type": "markdown",
      "source": [
        "A third, powerful way to initialize a parameter is using a user-defined function.\n",
        "\n",
        "This function will be automatically called by pyomo with any possible (i,j) set. In this case pyomo will actually call `c_init()` six times in order to initialize the `model.c` parameter."
      ],
      "metadata": {
        "id": "khel6QeuYuR_"
      }
    },
    {
      "cell_type": "code",
      "source": [
        "#  Parameter c(i,j)  transport cost in thousands of dollars per case ;\n",
        "#            c(i,j) = f * d(i,j) / 1000 ;\n",
        "def c_init(model, i, j):\n",
        "  return model.f * model.d[i,j] / 1000\n",
        "model.c = Param(model.i, model.j, initialize=c_init, doc='Transport cost in thousands of dollar per case')"
      ],
      "metadata": {
        "id": "PU6mLfTzY3e8",
        "colab": {
          "base_uri": "https://localhost:8080/",
          "height": 415
        },
        "outputId": "ca8dd396-82c1-43d4-8ce9-b81d05f1e371"
      },
      "execution_count": null,
      "outputs": [
        {
          "output_type": "stream",
          "name": "stdout",
          "text": [
            "ERROR: Rule failed for Param 'c' with index ('seattle', 'new-york'):\n",
            "    AttributeError: 'ConcreteModel' object has no attribute 'd'\n",
            "ERROR: Constructing component 'c' from data=None failed: AttributeError:\n",
            "    'ConcreteModel' object has no attribute 'd'\n"
          ]
        },
        {
          "output_type": "error",
          "ename": "AttributeError",
          "evalue": "ignored",
          "traceback": [
            "\u001b[0;31m---------------------------------------------------------------------------\u001b[0m",
            "\u001b[0;31mAttributeError\u001b[0m                            Traceback (most recent call last)",
            "\u001b[0;32m<ipython-input-34-89e30d7c703b>\u001b[0m in \u001b[0;36m<module>\u001b[0;34m()\u001b[0m\n\u001b[1;32m      3\u001b[0m \u001b[0;32mdef\u001b[0m \u001b[0mc_init\u001b[0m\u001b[0;34m(\u001b[0m\u001b[0mmodel\u001b[0m\u001b[0;34m,\u001b[0m \u001b[0mi\u001b[0m\u001b[0;34m,\u001b[0m \u001b[0mj\u001b[0m\u001b[0;34m)\u001b[0m\u001b[0;34m:\u001b[0m\u001b[0;34m\u001b[0m\u001b[0;34m\u001b[0m\u001b[0m\n\u001b[1;32m      4\u001b[0m   \u001b[0;32mreturn\u001b[0m \u001b[0mmodel\u001b[0m\u001b[0;34m.\u001b[0m\u001b[0mf\u001b[0m \u001b[0;34m*\u001b[0m \u001b[0mmodel\u001b[0m\u001b[0;34m.\u001b[0m\u001b[0md\u001b[0m\u001b[0;34m[\u001b[0m\u001b[0mi\u001b[0m\u001b[0;34m,\u001b[0m\u001b[0mj\u001b[0m\u001b[0;34m]\u001b[0m \u001b[0;34m/\u001b[0m \u001b[0;36m1000\u001b[0m\u001b[0;34m\u001b[0m\u001b[0;34m\u001b[0m\u001b[0m\n\u001b[0;32m----> 5\u001b[0;31m \u001b[0mmodel\u001b[0m\u001b[0;34m.\u001b[0m\u001b[0mc\u001b[0m \u001b[0;34m=\u001b[0m \u001b[0mParam\u001b[0m\u001b[0;34m(\u001b[0m\u001b[0mmodel\u001b[0m\u001b[0;34m.\u001b[0m\u001b[0mi\u001b[0m\u001b[0;34m,\u001b[0m \u001b[0mmodel\u001b[0m\u001b[0;34m.\u001b[0m\u001b[0mj\u001b[0m\u001b[0;34m,\u001b[0m \u001b[0minitialize\u001b[0m\u001b[0;34m=\u001b[0m\u001b[0mc_init\u001b[0m\u001b[0;34m,\u001b[0m \u001b[0mdoc\u001b[0m\u001b[0;34m=\u001b[0m\u001b[0;34m'Transport cost in thousands of dollar per case'\u001b[0m\u001b[0;34m)\u001b[0m\u001b[0;34m\u001b[0m\u001b[0;34m\u001b[0m\u001b[0m\n\u001b[0m",
            "\u001b[0;32m/usr/local/lib/python3.7/dist-packages/pyomo/core/base/block.py\u001b[0m in \u001b[0;36m__setattr__\u001b[0;34m(self, name, val)\u001b[0m\n\u001b[1;32m    540\u001b[0m                 \u001b[0;31m# Pyomo components are added with the add_component method.\u001b[0m\u001b[0;34m\u001b[0m\u001b[0;34m\u001b[0m\u001b[0;34m\u001b[0m\u001b[0m\n\u001b[1;32m    541\u001b[0m                 \u001b[0;31m#\u001b[0m\u001b[0;34m\u001b[0m\u001b[0;34m\u001b[0m\u001b[0;34m\u001b[0m\u001b[0m\n\u001b[0;32m--> 542\u001b[0;31m                 \u001b[0mself\u001b[0m\u001b[0;34m.\u001b[0m\u001b[0madd_component\u001b[0m\u001b[0;34m(\u001b[0m\u001b[0mname\u001b[0m\u001b[0;34m,\u001b[0m \u001b[0mval\u001b[0m\u001b[0;34m)\u001b[0m\u001b[0;34m\u001b[0m\u001b[0;34m\u001b[0m\u001b[0m\n\u001b[0m\u001b[1;32m    543\u001b[0m             \u001b[0;32melse\u001b[0m\u001b[0;34m:\u001b[0m\u001b[0;34m\u001b[0m\u001b[0;34m\u001b[0m\u001b[0m\n\u001b[1;32m    544\u001b[0m                 \u001b[0;31m#\u001b[0m\u001b[0;34m\u001b[0m\u001b[0;34m\u001b[0m\u001b[0;34m\u001b[0m\u001b[0m\n",
            "\u001b[0;32m/usr/local/lib/python3.7/dist-packages/pyomo/core/base/block.py\u001b[0m in \u001b[0;36madd_component\u001b[0;34m(self, name, val)\u001b[0m\n\u001b[1;32m   1085\u001b[0m                              _blockName, str(data))\n\u001b[1;32m   1086\u001b[0m             \u001b[0;32mtry\u001b[0m\u001b[0;34m:\u001b[0m\u001b[0;34m\u001b[0m\u001b[0;34m\u001b[0m\u001b[0m\n\u001b[0;32m-> 1087\u001b[0;31m                 \u001b[0mval\u001b[0m\u001b[0;34m.\u001b[0m\u001b[0mconstruct\u001b[0m\u001b[0;34m(\u001b[0m\u001b[0mdata\u001b[0m\u001b[0;34m)\u001b[0m\u001b[0;34m\u001b[0m\u001b[0;34m\u001b[0m\u001b[0m\n\u001b[0m\u001b[1;32m   1088\u001b[0m             \u001b[0;32mexcept\u001b[0m\u001b[0;34m:\u001b[0m\u001b[0;34m\u001b[0m\u001b[0;34m\u001b[0m\u001b[0m\n\u001b[1;32m   1089\u001b[0m                 \u001b[0merr\u001b[0m \u001b[0;34m=\u001b[0m \u001b[0msys\u001b[0m\u001b[0;34m.\u001b[0m\u001b[0mexc_info\u001b[0m\u001b[0;34m(\u001b[0m\u001b[0;34m)\u001b[0m\u001b[0;34m[\u001b[0m\u001b[0;36m1\u001b[0m\u001b[0;34m]\u001b[0m\u001b[0;34m\u001b[0m\u001b[0;34m\u001b[0m\u001b[0m\n",
            "\u001b[0;32m/usr/local/lib/python3.7/dist-packages/pyomo/core/base/param.py\u001b[0m in \u001b[0;36mconstruct\u001b[0;34m(self, data)\u001b[0m\n\u001b[1;32m    760\u001b[0m             \u001b[0;31m# Step #1: initialize data from rule value\u001b[0m\u001b[0;34m\u001b[0m\u001b[0;34m\u001b[0m\u001b[0;34m\u001b[0m\u001b[0m\n\u001b[1;32m    761\u001b[0m             \u001b[0;31m#\u001b[0m\u001b[0;34m\u001b[0m\u001b[0;34m\u001b[0m\u001b[0;34m\u001b[0m\u001b[0m\n\u001b[0;32m--> 762\u001b[0;31m             \u001b[0mself\u001b[0m\u001b[0;34m.\u001b[0m\u001b[0m_construct_from_rule_using_setitem\u001b[0m\u001b[0;34m(\u001b[0m\u001b[0;34m)\u001b[0m\u001b[0;34m\u001b[0m\u001b[0;34m\u001b[0m\u001b[0m\n\u001b[0m\u001b[1;32m    763\u001b[0m             \u001b[0;31m#\u001b[0m\u001b[0;34m\u001b[0m\u001b[0;34m\u001b[0m\u001b[0;34m\u001b[0m\u001b[0m\n\u001b[1;32m    764\u001b[0m             \u001b[0;31m# Step #2: allow any user-specified (external) data to override\u001b[0m\u001b[0;34m\u001b[0m\u001b[0;34m\u001b[0m\u001b[0;34m\u001b[0m\u001b[0m\n",
            "\u001b[0;32m/usr/local/lib/python3.7/dist-packages/pyomo/core/base/indexed_component.py\u001b[0m in \u001b[0;36m_construct_from_rule_using_setitem\u001b[0;34m(self)\u001b[0m\n\u001b[1;32m    708\u001b[0m             \u001b[0;32melse\u001b[0m\u001b[0;34m:\u001b[0m\u001b[0;34m\u001b[0m\u001b[0;34m\u001b[0m\u001b[0m\n\u001b[1;32m    709\u001b[0m                 \u001b[0;32mfor\u001b[0m \u001b[0mindex\u001b[0m \u001b[0;32min\u001b[0m \u001b[0mself\u001b[0m\u001b[0;34m.\u001b[0m\u001b[0mindex_set\u001b[0m\u001b[0;34m(\u001b[0m\u001b[0;34m)\u001b[0m\u001b[0;34m:\u001b[0m\u001b[0;34m\u001b[0m\u001b[0;34m\u001b[0m\u001b[0m\n\u001b[0;32m--> 710\u001b[0;31m                     \u001b[0mself\u001b[0m\u001b[0;34m.\u001b[0m\u001b[0m_setitem_when_not_present\u001b[0m\u001b[0;34m(\u001b[0m\u001b[0mindex\u001b[0m\u001b[0;34m,\u001b[0m \u001b[0mrule\u001b[0m\u001b[0;34m(\u001b[0m\u001b[0mblock\u001b[0m\u001b[0;34m,\u001b[0m \u001b[0mindex\u001b[0m\u001b[0;34m)\u001b[0m\u001b[0;34m)\u001b[0m\u001b[0;34m\u001b[0m\u001b[0;34m\u001b[0m\u001b[0m\n\u001b[0m\u001b[1;32m    711\u001b[0m         \u001b[0;32mexcept\u001b[0m\u001b[0;34m:\u001b[0m\u001b[0;34m\u001b[0m\u001b[0;34m\u001b[0m\u001b[0m\n\u001b[1;32m    712\u001b[0m             \u001b[0merr\u001b[0m \u001b[0;34m=\u001b[0m \u001b[0msys\u001b[0m\u001b[0;34m.\u001b[0m\u001b[0mexc_info\u001b[0m\u001b[0;34m(\u001b[0m\u001b[0;34m)\u001b[0m\u001b[0;34m[\u001b[0m\u001b[0;36m1\u001b[0m\u001b[0;34m]\u001b[0m\u001b[0;34m\u001b[0m\u001b[0;34m\u001b[0m\u001b[0m\n",
            "\u001b[0;32m/usr/local/lib/python3.7/dist-packages/pyomo/core/base/initializer.py\u001b[0m in \u001b[0;36m__call__\u001b[0;34m(self, parent, idx)\u001b[0m\n\u001b[1;32m    248\u001b[0m         \u001b[0;31m# the user's responsibility to sort things out.\u001b[0m\u001b[0;34m\u001b[0m\u001b[0;34m\u001b[0m\u001b[0;34m\u001b[0m\u001b[0m\n\u001b[1;32m    249\u001b[0m         \u001b[0;32mif\u001b[0m \u001b[0midx\u001b[0m\u001b[0;34m.\u001b[0m\u001b[0m__class__\u001b[0m \u001b[0;32mis\u001b[0m \u001b[0mtuple\u001b[0m\u001b[0;34m:\u001b[0m\u001b[0;34m\u001b[0m\u001b[0;34m\u001b[0m\u001b[0m\n\u001b[0;32m--> 250\u001b[0;31m             \u001b[0;32mreturn\u001b[0m \u001b[0mself\u001b[0m\u001b[0;34m.\u001b[0m\u001b[0m_fcn\u001b[0m\u001b[0;34m(\u001b[0m\u001b[0mparent\u001b[0m\u001b[0;34m,\u001b[0m \u001b[0;34m*\u001b[0m\u001b[0midx\u001b[0m\u001b[0;34m)\u001b[0m\u001b[0;34m\u001b[0m\u001b[0;34m\u001b[0m\u001b[0m\n\u001b[0m\u001b[1;32m    251\u001b[0m         \u001b[0;32melse\u001b[0m\u001b[0;34m:\u001b[0m\u001b[0;34m\u001b[0m\u001b[0;34m\u001b[0m\u001b[0m\n\u001b[1;32m    252\u001b[0m             \u001b[0;32mreturn\u001b[0m \u001b[0mself\u001b[0m\u001b[0;34m.\u001b[0m\u001b[0m_fcn\u001b[0m\u001b[0;34m(\u001b[0m\u001b[0mparent\u001b[0m\u001b[0;34m,\u001b[0m \u001b[0midx\u001b[0m\u001b[0;34m)\u001b[0m\u001b[0;34m\u001b[0m\u001b[0;34m\u001b[0m\u001b[0m\n",
            "\u001b[0;32m<ipython-input-34-89e30d7c703b>\u001b[0m in \u001b[0;36mc_init\u001b[0;34m(model, i, j)\u001b[0m\n\u001b[1;32m      2\u001b[0m \u001b[0;31m#            c(i,j) = f * d(i,j) / 1000 ;\u001b[0m\u001b[0;34m\u001b[0m\u001b[0;34m\u001b[0m\u001b[0;34m\u001b[0m\u001b[0m\n\u001b[1;32m      3\u001b[0m \u001b[0;32mdef\u001b[0m \u001b[0mc_init\u001b[0m\u001b[0;34m(\u001b[0m\u001b[0mmodel\u001b[0m\u001b[0;34m,\u001b[0m \u001b[0mi\u001b[0m\u001b[0;34m,\u001b[0m \u001b[0mj\u001b[0m\u001b[0;34m)\u001b[0m\u001b[0;34m:\u001b[0m\u001b[0;34m\u001b[0m\u001b[0;34m\u001b[0m\u001b[0m\n\u001b[0;32m----> 4\u001b[0;31m   \u001b[0;32mreturn\u001b[0m \u001b[0mmodel\u001b[0m\u001b[0;34m.\u001b[0m\u001b[0mf\u001b[0m \u001b[0;34m*\u001b[0m \u001b[0mmodel\u001b[0m\u001b[0;34m.\u001b[0m\u001b[0md\u001b[0m\u001b[0;34m[\u001b[0m\u001b[0mi\u001b[0m\u001b[0;34m,\u001b[0m\u001b[0mj\u001b[0m\u001b[0;34m]\u001b[0m \u001b[0;34m/\u001b[0m \u001b[0;36m1000\u001b[0m\u001b[0;34m\u001b[0m\u001b[0;34m\u001b[0m\u001b[0m\n\u001b[0m\u001b[1;32m      5\u001b[0m \u001b[0mmodel\u001b[0m\u001b[0;34m.\u001b[0m\u001b[0mc\u001b[0m \u001b[0;34m=\u001b[0m \u001b[0mParam\u001b[0m\u001b[0;34m(\u001b[0m\u001b[0mmodel\u001b[0m\u001b[0;34m.\u001b[0m\u001b[0mi\u001b[0m\u001b[0;34m,\u001b[0m \u001b[0mmodel\u001b[0m\u001b[0;34m.\u001b[0m\u001b[0mj\u001b[0m\u001b[0;34m,\u001b[0m \u001b[0minitialize\u001b[0m\u001b[0;34m=\u001b[0m\u001b[0mc_init\u001b[0m\u001b[0;34m,\u001b[0m \u001b[0mdoc\u001b[0m\u001b[0;34m=\u001b[0m\u001b[0;34m'Transport cost in thousands of dollar per case'\u001b[0m\u001b[0;34m)\u001b[0m\u001b[0;34m\u001b[0m\u001b[0;34m\u001b[0m\u001b[0m\n",
            "\u001b[0;32m/usr/local/lib/python3.7/dist-packages/pyomo/core/base/block.py\u001b[0m in \u001b[0;36m__getattr__\u001b[0;34m(self, val)\u001b[0m\n\u001b[1;32m    521\u001b[0m         \u001b[0;31m# throw the \"normal\" AttributeError\u001b[0m\u001b[0;34m\u001b[0m\u001b[0;34m\u001b[0m\u001b[0;34m\u001b[0m\u001b[0m\n\u001b[1;32m    522\u001b[0m         raise AttributeError(\"'%s' object has no attribute '%s'\"\n\u001b[0;32m--> 523\u001b[0;31m                              % (self.__class__.__name__, val))\n\u001b[0m\u001b[1;32m    524\u001b[0m \u001b[0;34m\u001b[0m\u001b[0m\n\u001b[1;32m    525\u001b[0m     \u001b[0;32mdef\u001b[0m \u001b[0m__setattr__\u001b[0m\u001b[0;34m(\u001b[0m\u001b[0mself\u001b[0m\u001b[0;34m,\u001b[0m \u001b[0mname\u001b[0m\u001b[0;34m,\u001b[0m \u001b[0mval\u001b[0m\u001b[0;34m)\u001b[0m\u001b[0;34m:\u001b[0m\u001b[0;34m\u001b[0m\u001b[0;34m\u001b[0m\u001b[0m\n",
            "\u001b[0;31mAttributeError\u001b[0m: 'ConcreteModel' object has no attribute 'd'"
          ]
        }
      ]
    },
    {
      "cell_type": "markdown",
      "source": [
        "#### **Variables**"
      ],
      "metadata": {
        "id": "O6KNx0wKY36I"
      }
    },
    {
      "cell_type": "markdown",
      "source": [
        "Similar to parameters, variables are created specifying their domain(s). For variables we can also specify the upper/lower bounds in the constructor.\n",
        "\n",
        "Differently from GAMS, we don't need to define the variable that is on the left hand side of the objective function."
      ],
      "metadata": {
        "id": "071fvWVzY3zM"
      }
    },
    {
      "cell_type": "code",
      "source": [
        "## Define variables ##\n",
        "#  Variables\n",
        "#       x(i,j)  shipment quantities in cases\n",
        "#       z       total transportation costs in thousands of dollars ;\n",
        "#  Positive Variable x ;\n",
        "model.x = Var(model.i, model.j, bounds=(0.0,None), doc='Shipment quantities in case')"
      ],
      "metadata": {
        "id": "XZsd99S4Y98J",
        "colab": {
          "base_uri": "https://localhost:8080/",
          "height": 450
        },
        "outputId": "0fb61547-3ab9-49fd-b0a3-7077b3bedd74"
      },
      "execution_count": null,
      "outputs": [
        {
          "output_type": "stream",
          "name": "stdout",
          "text": [
            "WARNING: Implicitly replacing the Component attribute x (type=<class\n",
            "    'pyomo.core.base.var.IndexedVar'>) on block unknown with a new Component\n",
            "    (type=<class 'pyomo.core.base.var.IndexedVar'>). This is usually\n",
            "    indicative of a modelling error. To avoid this warning, use\n",
            "    block.del_component() and block.add_component().\n"
          ]
        },
        {
          "output_type": "error",
          "ename": "RuntimeError",
          "evalue": "ignored",
          "traceback": [
            "\u001b[0;31m---------------------------------------------------------------------------\u001b[0m",
            "\u001b[0;31mRuntimeError\u001b[0m                              Traceback (most recent call last)",
            "\u001b[0;32m<ipython-input-35-6027d37833c8>\u001b[0m in \u001b[0;36m<module>\u001b[0;34m()\u001b[0m\n\u001b[1;32m      4\u001b[0m \u001b[0;31m#       z       total transportation costs in thousands of dollars ;\u001b[0m\u001b[0;34m\u001b[0m\u001b[0;34m\u001b[0m\u001b[0;34m\u001b[0m\u001b[0m\n\u001b[1;32m      5\u001b[0m \u001b[0;31m#  Positive Variable x ;\u001b[0m\u001b[0;34m\u001b[0m\u001b[0;34m\u001b[0m\u001b[0;34m\u001b[0m\u001b[0m\n\u001b[0;32m----> 6\u001b[0;31m \u001b[0mmodel\u001b[0m\u001b[0;34m.\u001b[0m\u001b[0mx\u001b[0m \u001b[0;34m=\u001b[0m \u001b[0mVar\u001b[0m\u001b[0;34m(\u001b[0m\u001b[0mmodel\u001b[0m\u001b[0;34m.\u001b[0m\u001b[0mi\u001b[0m\u001b[0;34m,\u001b[0m \u001b[0mmodel\u001b[0m\u001b[0;34m.\u001b[0m\u001b[0mj\u001b[0m\u001b[0;34m,\u001b[0m \u001b[0mbounds\u001b[0m\u001b[0;34m=\u001b[0m\u001b[0;34m(\u001b[0m\u001b[0;36m0.0\u001b[0m\u001b[0;34m,\u001b[0m\u001b[0;32mNone\u001b[0m\u001b[0;34m)\u001b[0m\u001b[0;34m,\u001b[0m \u001b[0mdoc\u001b[0m\u001b[0;34m=\u001b[0m\u001b[0;34m'Shipment quantities in case'\u001b[0m\u001b[0;34m)\u001b[0m\u001b[0;34m\u001b[0m\u001b[0;34m\u001b[0m\u001b[0m\n\u001b[0m",
            "\u001b[0;32m/usr/local/lib/python3.7/dist-packages/pyomo/core/base/block.py\u001b[0m in \u001b[0;36m__setattr__\u001b[0;34m(self, name, val)\u001b[0m\n\u001b[1;32m    570\u001b[0m                        type(val)))\n\u001b[1;32m    571\u001b[0m                 \u001b[0mself\u001b[0m\u001b[0;34m.\u001b[0m\u001b[0mdel_component\u001b[0m\u001b[0;34m(\u001b[0m\u001b[0mname\u001b[0m\u001b[0;34m)\u001b[0m\u001b[0;34m\u001b[0m\u001b[0;34m\u001b[0m\u001b[0m\n\u001b[0;32m--> 572\u001b[0;31m                 \u001b[0mself\u001b[0m\u001b[0;34m.\u001b[0m\u001b[0madd_component\u001b[0m\u001b[0;34m(\u001b[0m\u001b[0mname\u001b[0m\u001b[0;34m,\u001b[0m \u001b[0mval\u001b[0m\u001b[0;34m)\u001b[0m\u001b[0;34m\u001b[0m\u001b[0;34m\u001b[0m\u001b[0m\n\u001b[0m\u001b[1;32m    573\u001b[0m             \u001b[0;32melse\u001b[0m\u001b[0;34m:\u001b[0m\u001b[0;34m\u001b[0m\u001b[0;34m\u001b[0m\u001b[0m\n\u001b[1;32m    574\u001b[0m                 \u001b[0;31m#\u001b[0m\u001b[0;34m\u001b[0m\u001b[0;34m\u001b[0m\u001b[0;34m\u001b[0m\u001b[0m\n",
            "\u001b[0;32m/usr/local/lib/python3.7/dist-packages/pyomo/core/base/block.py\u001b[0m in \u001b[0;36madd_component\u001b[0;34m(self, name, val)\u001b[0m\n\u001b[1;32m    982\u001b[0m         \u001b[0;31m# components.\u001b[0m\u001b[0;34m\u001b[0m\u001b[0;34m\u001b[0m\u001b[0;34m\u001b[0m\u001b[0m\n\u001b[1;32m    983\u001b[0m         \u001b[0;31m#\u001b[0m\u001b[0;34m\u001b[0m\u001b[0;34m\u001b[0m\u001b[0;34m\u001b[0m\u001b[0m\n\u001b[0;32m--> 984\u001b[0;31m         \u001b[0mself\u001b[0m\u001b[0;34m.\u001b[0m\u001b[0m_add_implicit_sets\u001b[0m\u001b[0;34m(\u001b[0m\u001b[0mval\u001b[0m\u001b[0;34m)\u001b[0m\u001b[0;34m\u001b[0m\u001b[0;34m\u001b[0m\u001b[0m\n\u001b[0m\u001b[1;32m    985\u001b[0m         \u001b[0;31m#\u001b[0m\u001b[0;34m\u001b[0m\u001b[0;34m\u001b[0m\u001b[0;34m\u001b[0m\u001b[0m\n\u001b[1;32m    986\u001b[0m         \u001b[0;31m# Add the component to the underlying Component store\u001b[0m\u001b[0;34m\u001b[0m\u001b[0;34m\u001b[0m\u001b[0;34m\u001b[0m\u001b[0m\n",
            "\u001b[0;32m/usr/local/lib/python3.7/dist-packages/pyomo/core/base/block.py\u001b[0m in \u001b[0;36m_add_implicit_sets\u001b[0;34m(self, val)\u001b[0m\n\u001b[1;32m    804\u001b[0m                 \u001b[0;32mand\u001b[0m \u001b[0mval\u001b[0m\u001b[0;34m.\u001b[0m\u001b[0m_index\u001b[0m\u001b[0;34m.\u001b[0m\u001b[0mparent_component\u001b[0m\u001b[0;34m(\u001b[0m\u001b[0;34m)\u001b[0m\u001b[0;34m.\u001b[0m\u001b[0mparent_block\u001b[0m\u001b[0;34m(\u001b[0m\u001b[0;34m)\u001b[0m \u001b[0;32mis\u001b[0m \u001b[0;32mNone\u001b[0m\u001b[0;31m \u001b[0m\u001b[0;31m\\\u001b[0m\u001b[0;34m\u001b[0m\u001b[0;34m\u001b[0m\u001b[0m\n\u001b[1;32m    805\u001b[0m                 \u001b[0;32mand\u001b[0m \u001b[0;32mnot\u001b[0m \u001b[0misinstance\u001b[0m\u001b[0;34m(\u001b[0m\u001b[0mval\u001b[0m\u001b[0;34m.\u001b[0m\u001b[0m_index\u001b[0m\u001b[0;34m.\u001b[0m\u001b[0mparent_component\u001b[0m\u001b[0;34m(\u001b[0m\u001b[0;34m)\u001b[0m\u001b[0;34m,\u001b[0m \u001b[0mGlobalSetBase\u001b[0m\u001b[0;34m)\u001b[0m\u001b[0;34m:\u001b[0m\u001b[0;34m\u001b[0m\u001b[0;34m\u001b[0m\u001b[0m\n\u001b[0;32m--> 806\u001b[0;31m             \u001b[0mself\u001b[0m\u001b[0;34m.\u001b[0m\u001b[0madd_component\u001b[0m\u001b[0;34m(\u001b[0m\u001b[0;34m\"%s_index\"\u001b[0m \u001b[0;34m%\u001b[0m \u001b[0;34m(\u001b[0m\u001b[0mval\u001b[0m\u001b[0;34m.\u001b[0m\u001b[0mlocal_name\u001b[0m\u001b[0;34m,\u001b[0m\u001b[0;34m)\u001b[0m\u001b[0;34m,\u001b[0m \u001b[0mval\u001b[0m\u001b[0;34m.\u001b[0m\u001b[0m_index\u001b[0m\u001b[0;34m.\u001b[0m\u001b[0mparent_component\u001b[0m\u001b[0;34m(\u001b[0m\u001b[0;34m)\u001b[0m\u001b[0;34m)\u001b[0m\u001b[0;34m\u001b[0m\u001b[0;34m\u001b[0m\u001b[0m\n\u001b[0m\u001b[1;32m    807\u001b[0m         \u001b[0;32mif\u001b[0m \u001b[0mgetattr\u001b[0m\u001b[0;34m(\u001b[0m\u001b[0mval\u001b[0m\u001b[0;34m,\u001b[0m \u001b[0;34m'initialize'\u001b[0m\u001b[0;34m,\u001b[0m \u001b[0;32mNone\u001b[0m\u001b[0;34m)\u001b[0m \u001b[0;32mis\u001b[0m \u001b[0;32mnot\u001b[0m \u001b[0;32mNone\u001b[0m\u001b[0;31m \u001b[0m\u001b[0;31m\\\u001b[0m\u001b[0;34m\u001b[0m\u001b[0;34m\u001b[0m\u001b[0m\n\u001b[1;32m    808\u001b[0m                 \u001b[0;32mand\u001b[0m \u001b[0misinstance\u001b[0m\u001b[0;34m(\u001b[0m\u001b[0mval\u001b[0m\u001b[0;34m.\u001b[0m\u001b[0minitialize\u001b[0m\u001b[0;34m,\u001b[0m \u001b[0m_SetDataBase\u001b[0m\u001b[0;34m)\u001b[0m\u001b[0;31m \u001b[0m\u001b[0;31m\\\u001b[0m\u001b[0;34m\u001b[0m\u001b[0;34m\u001b[0m\u001b[0m\n",
            "\u001b[0;32m/usr/local/lib/python3.7/dist-packages/pyomo/core/base/block.py\u001b[0m in \u001b[0;36madd_component\u001b[0;34m(self, name, val)\u001b[0m\n\u001b[1;32m    925\u001b[0m                 \u001b[0;34m\"Cannot add component '%s' (type %s) to block '%s': a \"\u001b[0m\u001b[0;34m\u001b[0m\u001b[0;34m\u001b[0m\u001b[0m\n\u001b[1;32m    926\u001b[0m                 \u001b[0;34m\"component by that name (type %s) is already defined.\"\u001b[0m\u001b[0;34m\u001b[0m\u001b[0;34m\u001b[0m\u001b[0m\n\u001b[0;32m--> 927\u001b[0;31m                 % (name, type(val), self.name, type(getattr(self, name))))\n\u001b[0m\u001b[1;32m    928\u001b[0m         \u001b[0;31m#\u001b[0m\u001b[0;34m\u001b[0m\u001b[0;34m\u001b[0m\u001b[0;34m\u001b[0m\u001b[0m\n\u001b[1;32m    929\u001b[0m         \u001b[0;31m# Skip the add_component() logic if this is a\u001b[0m\u001b[0;34m\u001b[0m\u001b[0;34m\u001b[0m\u001b[0;34m\u001b[0m\u001b[0m\n",
            "\u001b[0;31mRuntimeError\u001b[0m: Cannot add component 'x_index' (type <class 'pyomo.core.base.set.SetProduct_OrderedSet'>) to block 'unknown': a component by that name (type <class 'pyomo.core.base.set.SetProduct_OrderedSet'>) is already defined."
          ]
        }
      ]
    },
    {
      "cell_type": "markdown",
      "source": [
        "#### **Constraints**"
      ],
      "metadata": {
        "id": "IImrHn00Y-U2"
      }
    },
    {
      "cell_type": "markdown",
      "source": [
        "At this point, it should not be a surprise that constrains are again defined as model objects with the required information passed as parameter in the constructor function."
      ],
      "metadata": {
        "id": "L4-BfDu8ZBTO"
      }
    },
    {
      "cell_type": "code",
      "source": [
        "## Define contrains ##\n",
        "# supply(i)   observe supply limit at plant i\n",
        "# supply(i) .. sum (j, x(i,j)) =l= a(i)\n",
        "def supply_rule(model, i):\n",
        "  return sum(model.x[i,j] for j in model.j) <= model.a[i]\n",
        "model.supply = Constraint(model.i, rule=supply_rule, doc='Observe supply limit at plant i')\n",
        "# demand(j)   satisfy demand at market j ;  \n",
        "# demand(j) .. sum(i, x(i,j)) =g= b(j);\n",
        "def demand_rule(model, j):\n",
        "  return sum(model.x[i,j] for i in model.i) >= model.b[j]  \n",
        "model.demand = Constraint(model.j, rule=demand_rule, doc='Satisfy demand at market j')"
      ],
      "metadata": {
        "id": "MLwH66IWZCCh",
        "colab": {
          "base_uri": "https://localhost:8080/",
          "height": 450
        },
        "outputId": "6ac057a2-3ed0-4955-e182-15258aa42b5d"
      },
      "execution_count": null,
      "outputs": [
        {
          "output_type": "stream",
          "name": "stdout",
          "text": [
            "ERROR: Rule failed when generating expression for Constraint supply with index\n",
            "    seattle: AttributeError: 'ConcreteModel' object has no attribute 'x'\n",
            "ERROR: Constructing component 'supply' from data=None failed: AttributeError:\n",
            "    'ConcreteModel' object has no attribute 'x'\n"
          ]
        },
        {
          "output_type": "error",
          "ename": "AttributeError",
          "evalue": "ignored",
          "traceback": [
            "\u001b[0;31m---------------------------------------------------------------------------\u001b[0m",
            "\u001b[0;31mAttributeError\u001b[0m                            Traceback (most recent call last)",
            "\u001b[0;32m<ipython-input-36-c423bac3038c>\u001b[0m in \u001b[0;36m<module>\u001b[0;34m()\u001b[0m\n\u001b[1;32m      4\u001b[0m \u001b[0;32mdef\u001b[0m \u001b[0msupply_rule\u001b[0m\u001b[0;34m(\u001b[0m\u001b[0mmodel\u001b[0m\u001b[0;34m,\u001b[0m \u001b[0mi\u001b[0m\u001b[0;34m)\u001b[0m\u001b[0;34m:\u001b[0m\u001b[0;34m\u001b[0m\u001b[0;34m\u001b[0m\u001b[0m\n\u001b[1;32m      5\u001b[0m   \u001b[0;32mreturn\u001b[0m \u001b[0msum\u001b[0m\u001b[0;34m(\u001b[0m\u001b[0mmodel\u001b[0m\u001b[0;34m.\u001b[0m\u001b[0mx\u001b[0m\u001b[0;34m[\u001b[0m\u001b[0mi\u001b[0m\u001b[0;34m,\u001b[0m\u001b[0mj\u001b[0m\u001b[0;34m]\u001b[0m \u001b[0;32mfor\u001b[0m \u001b[0mj\u001b[0m \u001b[0;32min\u001b[0m \u001b[0mmodel\u001b[0m\u001b[0;34m.\u001b[0m\u001b[0mj\u001b[0m\u001b[0;34m)\u001b[0m \u001b[0;34m<=\u001b[0m \u001b[0mmodel\u001b[0m\u001b[0;34m.\u001b[0m\u001b[0ma\u001b[0m\u001b[0;34m[\u001b[0m\u001b[0mi\u001b[0m\u001b[0;34m]\u001b[0m\u001b[0;34m\u001b[0m\u001b[0;34m\u001b[0m\u001b[0m\n\u001b[0;32m----> 6\u001b[0;31m \u001b[0mmodel\u001b[0m\u001b[0;34m.\u001b[0m\u001b[0msupply\u001b[0m \u001b[0;34m=\u001b[0m \u001b[0mConstraint\u001b[0m\u001b[0;34m(\u001b[0m\u001b[0mmodel\u001b[0m\u001b[0;34m.\u001b[0m\u001b[0mi\u001b[0m\u001b[0;34m,\u001b[0m \u001b[0mrule\u001b[0m\u001b[0;34m=\u001b[0m\u001b[0msupply_rule\u001b[0m\u001b[0;34m,\u001b[0m \u001b[0mdoc\u001b[0m\u001b[0;34m=\u001b[0m\u001b[0;34m'Observe supply limit at plant i'\u001b[0m\u001b[0;34m)\u001b[0m\u001b[0;34m\u001b[0m\u001b[0;34m\u001b[0m\u001b[0m\n\u001b[0m\u001b[1;32m      7\u001b[0m \u001b[0;31m# demand(j)   satisfy demand at market j ;\u001b[0m\u001b[0;34m\u001b[0m\u001b[0;34m\u001b[0m\u001b[0;34m\u001b[0m\u001b[0m\n\u001b[1;32m      8\u001b[0m \u001b[0;31m# demand(j) .. sum(i, x(i,j)) =g= b(j);\u001b[0m\u001b[0;34m\u001b[0m\u001b[0;34m\u001b[0m\u001b[0;34m\u001b[0m\u001b[0m\n",
            "\u001b[0;32m/usr/local/lib/python3.7/dist-packages/pyomo/core/base/block.py\u001b[0m in \u001b[0;36m__setattr__\u001b[0;34m(self, name, val)\u001b[0m\n\u001b[1;32m    540\u001b[0m                 \u001b[0;31m# Pyomo components are added with the add_component method.\u001b[0m\u001b[0;34m\u001b[0m\u001b[0;34m\u001b[0m\u001b[0;34m\u001b[0m\u001b[0m\n\u001b[1;32m    541\u001b[0m                 \u001b[0;31m#\u001b[0m\u001b[0;34m\u001b[0m\u001b[0;34m\u001b[0m\u001b[0;34m\u001b[0m\u001b[0m\n\u001b[0;32m--> 542\u001b[0;31m                 \u001b[0mself\u001b[0m\u001b[0;34m.\u001b[0m\u001b[0madd_component\u001b[0m\u001b[0;34m(\u001b[0m\u001b[0mname\u001b[0m\u001b[0;34m,\u001b[0m \u001b[0mval\u001b[0m\u001b[0;34m)\u001b[0m\u001b[0;34m\u001b[0m\u001b[0;34m\u001b[0m\u001b[0m\n\u001b[0m\u001b[1;32m    543\u001b[0m             \u001b[0;32melse\u001b[0m\u001b[0;34m:\u001b[0m\u001b[0;34m\u001b[0m\u001b[0;34m\u001b[0m\u001b[0m\n\u001b[1;32m    544\u001b[0m                 \u001b[0;31m#\u001b[0m\u001b[0;34m\u001b[0m\u001b[0;34m\u001b[0m\u001b[0;34m\u001b[0m\u001b[0m\n",
            "\u001b[0;32m/usr/local/lib/python3.7/dist-packages/pyomo/core/base/block.py\u001b[0m in \u001b[0;36madd_component\u001b[0;34m(self, name, val)\u001b[0m\n\u001b[1;32m   1085\u001b[0m                              _blockName, str(data))\n\u001b[1;32m   1086\u001b[0m             \u001b[0;32mtry\u001b[0m\u001b[0;34m:\u001b[0m\u001b[0;34m\u001b[0m\u001b[0;34m\u001b[0m\u001b[0m\n\u001b[0;32m-> 1087\u001b[0;31m                 \u001b[0mval\u001b[0m\u001b[0;34m.\u001b[0m\u001b[0mconstruct\u001b[0m\u001b[0;34m(\u001b[0m\u001b[0mdata\u001b[0m\u001b[0;34m)\u001b[0m\u001b[0;34m\u001b[0m\u001b[0;34m\u001b[0m\u001b[0m\n\u001b[0m\u001b[1;32m   1088\u001b[0m             \u001b[0;32mexcept\u001b[0m\u001b[0;34m:\u001b[0m\u001b[0;34m\u001b[0m\u001b[0;34m\u001b[0m\u001b[0m\n\u001b[1;32m   1089\u001b[0m                 \u001b[0merr\u001b[0m \u001b[0;34m=\u001b[0m \u001b[0msys\u001b[0m\u001b[0;34m.\u001b[0m\u001b[0mexc_info\u001b[0m\u001b[0;34m(\u001b[0m\u001b[0;34m)\u001b[0m\u001b[0;34m[\u001b[0m\u001b[0;36m1\u001b[0m\u001b[0;34m]\u001b[0m\u001b[0;34m\u001b[0m\u001b[0;34m\u001b[0m\u001b[0m\n",
            "\u001b[0;32m/usr/local/lib/python3.7/dist-packages/pyomo/core/base/constraint.py\u001b[0m in \u001b[0;36mconstruct\u001b[0;34m(self, data)\u001b[0m\n\u001b[1;32m    746\u001b[0m                 \u001b[0;31m# Bypass the index validation and create the member directly\u001b[0m\u001b[0;34m\u001b[0m\u001b[0;34m\u001b[0m\u001b[0;34m\u001b[0m\u001b[0m\n\u001b[1;32m    747\u001b[0m                 \u001b[0;32mfor\u001b[0m \u001b[0mindex\u001b[0m \u001b[0;32min\u001b[0m \u001b[0mself\u001b[0m\u001b[0;34m.\u001b[0m\u001b[0mindex_set\u001b[0m\u001b[0;34m(\u001b[0m\u001b[0;34m)\u001b[0m\u001b[0;34m:\u001b[0m\u001b[0;34m\u001b[0m\u001b[0;34m\u001b[0m\u001b[0m\n\u001b[0;32m--> 748\u001b[0;31m                     \u001b[0mself\u001b[0m\u001b[0;34m.\u001b[0m\u001b[0m_setitem_when_not_present\u001b[0m\u001b[0;34m(\u001b[0m\u001b[0mindex\u001b[0m\u001b[0;34m,\u001b[0m \u001b[0mrule\u001b[0m\u001b[0;34m(\u001b[0m\u001b[0mblock\u001b[0m\u001b[0;34m,\u001b[0m \u001b[0mindex\u001b[0m\u001b[0;34m)\u001b[0m\u001b[0;34m)\u001b[0m\u001b[0;34m\u001b[0m\u001b[0;34m\u001b[0m\u001b[0m\n\u001b[0m\u001b[1;32m    749\u001b[0m         \u001b[0;32mexcept\u001b[0m \u001b[0mException\u001b[0m\u001b[0;34m:\u001b[0m\u001b[0;34m\u001b[0m\u001b[0;34m\u001b[0m\u001b[0m\n\u001b[1;32m    750\u001b[0m             \u001b[0merr\u001b[0m \u001b[0;34m=\u001b[0m \u001b[0msys\u001b[0m\u001b[0;34m.\u001b[0m\u001b[0mexc_info\u001b[0m\u001b[0;34m(\u001b[0m\u001b[0;34m)\u001b[0m\u001b[0;34m[\u001b[0m\u001b[0;36m1\u001b[0m\u001b[0;34m]\u001b[0m\u001b[0;34m\u001b[0m\u001b[0;34m\u001b[0m\u001b[0m\n",
            "\u001b[0;32m/usr/local/lib/python3.7/dist-packages/pyomo/core/base/initializer.py\u001b[0m in \u001b[0;36m__call__\u001b[0;34m(self, parent, idx)\u001b[0m\n\u001b[1;32m    250\u001b[0m             \u001b[0;32mreturn\u001b[0m \u001b[0mself\u001b[0m\u001b[0;34m.\u001b[0m\u001b[0m_fcn\u001b[0m\u001b[0;34m(\u001b[0m\u001b[0mparent\u001b[0m\u001b[0;34m,\u001b[0m \u001b[0;34m*\u001b[0m\u001b[0midx\u001b[0m\u001b[0;34m)\u001b[0m\u001b[0;34m\u001b[0m\u001b[0;34m\u001b[0m\u001b[0m\n\u001b[1;32m    251\u001b[0m         \u001b[0;32melse\u001b[0m\u001b[0;34m:\u001b[0m\u001b[0;34m\u001b[0m\u001b[0;34m\u001b[0m\u001b[0m\n\u001b[0;32m--> 252\u001b[0;31m             \u001b[0;32mreturn\u001b[0m \u001b[0mself\u001b[0m\u001b[0;34m.\u001b[0m\u001b[0m_fcn\u001b[0m\u001b[0;34m(\u001b[0m\u001b[0mparent\u001b[0m\u001b[0;34m,\u001b[0m \u001b[0midx\u001b[0m\u001b[0;34m)\u001b[0m\u001b[0;34m\u001b[0m\u001b[0;34m\u001b[0m\u001b[0m\n\u001b[0m\u001b[1;32m    253\u001b[0m \u001b[0;34m\u001b[0m\u001b[0m\n\u001b[1;32m    254\u001b[0m \u001b[0;34m\u001b[0m\u001b[0m\n",
            "\u001b[0;32m<ipython-input-36-c423bac3038c>\u001b[0m in \u001b[0;36msupply_rule\u001b[0;34m(model, i)\u001b[0m\n\u001b[1;32m      3\u001b[0m \u001b[0;31m# supply(i) .. sum (j, x(i,j)) =l= a(i)\u001b[0m\u001b[0;34m\u001b[0m\u001b[0;34m\u001b[0m\u001b[0;34m\u001b[0m\u001b[0m\n\u001b[1;32m      4\u001b[0m \u001b[0;32mdef\u001b[0m \u001b[0msupply_rule\u001b[0m\u001b[0;34m(\u001b[0m\u001b[0mmodel\u001b[0m\u001b[0;34m,\u001b[0m \u001b[0mi\u001b[0m\u001b[0;34m)\u001b[0m\u001b[0;34m:\u001b[0m\u001b[0;34m\u001b[0m\u001b[0;34m\u001b[0m\u001b[0m\n\u001b[0;32m----> 5\u001b[0;31m   \u001b[0;32mreturn\u001b[0m \u001b[0msum\u001b[0m\u001b[0;34m(\u001b[0m\u001b[0mmodel\u001b[0m\u001b[0;34m.\u001b[0m\u001b[0mx\u001b[0m\u001b[0;34m[\u001b[0m\u001b[0mi\u001b[0m\u001b[0;34m,\u001b[0m\u001b[0mj\u001b[0m\u001b[0;34m]\u001b[0m \u001b[0;32mfor\u001b[0m \u001b[0mj\u001b[0m \u001b[0;32min\u001b[0m \u001b[0mmodel\u001b[0m\u001b[0;34m.\u001b[0m\u001b[0mj\u001b[0m\u001b[0;34m)\u001b[0m \u001b[0;34m<=\u001b[0m \u001b[0mmodel\u001b[0m\u001b[0;34m.\u001b[0m\u001b[0ma\u001b[0m\u001b[0;34m[\u001b[0m\u001b[0mi\u001b[0m\u001b[0;34m]\u001b[0m\u001b[0;34m\u001b[0m\u001b[0;34m\u001b[0m\u001b[0m\n\u001b[0m\u001b[1;32m      6\u001b[0m \u001b[0mmodel\u001b[0m\u001b[0;34m.\u001b[0m\u001b[0msupply\u001b[0m \u001b[0;34m=\u001b[0m \u001b[0mConstraint\u001b[0m\u001b[0;34m(\u001b[0m\u001b[0mmodel\u001b[0m\u001b[0;34m.\u001b[0m\u001b[0mi\u001b[0m\u001b[0;34m,\u001b[0m \u001b[0mrule\u001b[0m\u001b[0;34m=\u001b[0m\u001b[0msupply_rule\u001b[0m\u001b[0;34m,\u001b[0m \u001b[0mdoc\u001b[0m\u001b[0;34m=\u001b[0m\u001b[0;34m'Observe supply limit at plant i'\u001b[0m\u001b[0;34m)\u001b[0m\u001b[0;34m\u001b[0m\u001b[0;34m\u001b[0m\u001b[0m\n\u001b[1;32m      7\u001b[0m \u001b[0;31m# demand(j)   satisfy demand at market j ;\u001b[0m\u001b[0;34m\u001b[0m\u001b[0;34m\u001b[0m\u001b[0;34m\u001b[0m\u001b[0m\n",
            "\u001b[0;32m<ipython-input-36-c423bac3038c>\u001b[0m in \u001b[0;36m<genexpr>\u001b[0;34m(.0)\u001b[0m\n\u001b[1;32m      3\u001b[0m \u001b[0;31m# supply(i) .. sum (j, x(i,j)) =l= a(i)\u001b[0m\u001b[0;34m\u001b[0m\u001b[0;34m\u001b[0m\u001b[0;34m\u001b[0m\u001b[0m\n\u001b[1;32m      4\u001b[0m \u001b[0;32mdef\u001b[0m \u001b[0msupply_rule\u001b[0m\u001b[0;34m(\u001b[0m\u001b[0mmodel\u001b[0m\u001b[0;34m,\u001b[0m \u001b[0mi\u001b[0m\u001b[0;34m)\u001b[0m\u001b[0;34m:\u001b[0m\u001b[0;34m\u001b[0m\u001b[0;34m\u001b[0m\u001b[0m\n\u001b[0;32m----> 5\u001b[0;31m   \u001b[0;32mreturn\u001b[0m \u001b[0msum\u001b[0m\u001b[0;34m(\u001b[0m\u001b[0mmodel\u001b[0m\u001b[0;34m.\u001b[0m\u001b[0mx\u001b[0m\u001b[0;34m[\u001b[0m\u001b[0mi\u001b[0m\u001b[0;34m,\u001b[0m\u001b[0mj\u001b[0m\u001b[0;34m]\u001b[0m \u001b[0;32mfor\u001b[0m \u001b[0mj\u001b[0m \u001b[0;32min\u001b[0m \u001b[0mmodel\u001b[0m\u001b[0;34m.\u001b[0m\u001b[0mj\u001b[0m\u001b[0;34m)\u001b[0m \u001b[0;34m<=\u001b[0m \u001b[0mmodel\u001b[0m\u001b[0;34m.\u001b[0m\u001b[0ma\u001b[0m\u001b[0;34m[\u001b[0m\u001b[0mi\u001b[0m\u001b[0;34m]\u001b[0m\u001b[0;34m\u001b[0m\u001b[0;34m\u001b[0m\u001b[0m\n\u001b[0m\u001b[1;32m      6\u001b[0m \u001b[0mmodel\u001b[0m\u001b[0;34m.\u001b[0m\u001b[0msupply\u001b[0m \u001b[0;34m=\u001b[0m \u001b[0mConstraint\u001b[0m\u001b[0;34m(\u001b[0m\u001b[0mmodel\u001b[0m\u001b[0;34m.\u001b[0m\u001b[0mi\u001b[0m\u001b[0;34m,\u001b[0m \u001b[0mrule\u001b[0m\u001b[0;34m=\u001b[0m\u001b[0msupply_rule\u001b[0m\u001b[0;34m,\u001b[0m \u001b[0mdoc\u001b[0m\u001b[0;34m=\u001b[0m\u001b[0;34m'Observe supply limit at plant i'\u001b[0m\u001b[0;34m)\u001b[0m\u001b[0;34m\u001b[0m\u001b[0;34m\u001b[0m\u001b[0m\n\u001b[1;32m      7\u001b[0m \u001b[0;31m# demand(j)   satisfy demand at market j ;\u001b[0m\u001b[0;34m\u001b[0m\u001b[0;34m\u001b[0m\u001b[0;34m\u001b[0m\u001b[0m\n",
            "\u001b[0;32m/usr/local/lib/python3.7/dist-packages/pyomo/core/base/block.py\u001b[0m in \u001b[0;36m__getattr__\u001b[0;34m(self, val)\u001b[0m\n\u001b[1;32m    521\u001b[0m         \u001b[0;31m# throw the \"normal\" AttributeError\u001b[0m\u001b[0;34m\u001b[0m\u001b[0;34m\u001b[0m\u001b[0;34m\u001b[0m\u001b[0m\n\u001b[1;32m    522\u001b[0m         raise AttributeError(\"'%s' object has no attribute '%s'\"\n\u001b[0;32m--> 523\u001b[0;31m                              % (self.__class__.__name__, val))\n\u001b[0m\u001b[1;32m    524\u001b[0m \u001b[0;34m\u001b[0m\u001b[0m\n\u001b[1;32m    525\u001b[0m     \u001b[0;32mdef\u001b[0m \u001b[0m__setattr__\u001b[0m\u001b[0;34m(\u001b[0m\u001b[0mself\u001b[0m\u001b[0;34m,\u001b[0m \u001b[0mname\u001b[0m\u001b[0;34m,\u001b[0m \u001b[0mval\u001b[0m\u001b[0;34m)\u001b[0m\u001b[0;34m:\u001b[0m\u001b[0;34m\u001b[0m\u001b[0;34m\u001b[0m\u001b[0m\n",
            "\u001b[0;31mAttributeError\u001b[0m: 'ConcreteModel' object has no attribute 'x'"
          ]
        }
      ]
    },
    {
      "cell_type": "markdown",
      "source": [
        "The above code take advantage of [list comprehensions](https://docs.python.org/2/tutorial/datastructures.html#list-comprehensions), a powerful feature of the python language that provides a concise way to loop over a list. If we take the supply_rule as example, this is actually called two times by pyomo (once for each of the elements of i). Without list comprehensions we would have had to write our function using a for loop, like:"
      ],
      "metadata": {
        "id": "7NJFRI_jZEfZ"
      }
    },
    {
      "cell_type": "code",
      "source": [
        "def supply_rule(model, i):\n",
        "  supply = 0.0\n",
        "  for j in model.j:\n",
        "    supply += model.x[i,j]\n",
        "  return supply <= model.a[i]"
      ],
      "metadata": {
        "id": "9Xze8AUVZO-4"
      },
      "execution_count": null,
      "outputs": []
    },
    {
      "cell_type": "markdown",
      "source": [
        "Using list comprehension is however quicker to code and more readable."
      ],
      "metadata": {
        "id": "Ga4sPnXCZPWQ"
      }
    },
    {
      "cell_type": "markdown",
      "source": [
        "#### **Objective and Solving**"
      ],
      "metadata": {
        "id": "Sc5rp3MjZRZw"
      }
    },
    {
      "cell_type": "markdown",
      "source": [
        "The definition of the objective is similar to those of the constrains, except that most solvers require a scalar objective function, hence a unique function, and we can specify the sense (direction) of the optimisation"
      ],
      "metadata": {
        "id": "dl-JdZgIZVJA"
      }
    },
    {
      "cell_type": "code",
      "source": [
        "## Define Objective and solve ##\n",
        "#  cost        define objective function\n",
        "#  cost ..        z  =e=  sum((i,j), c(i,j)*x(i,j)) ;\n",
        "#  Model transport /all/ ;\n",
        "#  Solve transport using lp minimizing z ;\n",
        "def objective_rule(model):\n",
        "  return sum(model.c[i,j]*model.x[i,j] for i in model.i for j in model.j)\n",
        "model.objective = Objective(rule=objective_rule, sense=minimize, doc='Define objective function')"
      ],
      "metadata": {
        "id": "WNQq9ON6ZXk3"
      },
      "execution_count": null,
      "outputs": []
    },
    {
      "cell_type": "markdown",
      "source": [
        "As we are here looping over two distinct sets, we can see how list comprehension really simplifies the code. The objective function could have being written without list comprehension as:"
      ],
      "metadata": {
        "id": "BXRcHcppZX80"
      }
    },
    {
      "cell_type": "code",
      "source": [
        "def objective_rule(model):\n",
        "  obj = 0.0  \n",
        "  for ki in model.i:\n",
        "    for kj in model.j:\n",
        "      obj += model.c[ki,kj]*model.x[ki,kj]\n",
        "  return obj"
      ],
      "metadata": {
        "id": "n3mF4hBmZZFW"
      },
      "execution_count": null,
      "outputs": []
    },
    {
      "cell_type": "markdown",
      "source": [
        "#### **Retrieving the Output**"
      ],
      "metadata": {
        "id": "vnX4T67MZZ9o"
      }
    },
    {
      "cell_type": "markdown",
      "source": [
        "We use the `pyomo_postprocess()` function to retrieve the output and do something with it. For example, we could display solution values (see below), plot a graph with [matplotlib](https://matplotlib.org/) or save it in a csv file.\n",
        "\n",
        "This function is called by pyomo after the solver has finished."
      ],
      "metadata": {
        "id": "HA3_rgfKZcj0"
      }
    },
    {
      "cell_type": "code",
      "source": [
        "## Display of the output ##\n",
        "# Display x.l, x.m ;\n",
        "def pyomo_postprocess(options=None, instance=None, results=None):\n",
        "  model.x.display()"
      ],
      "metadata": {
        "id": "XzRFQD6MZmyM"
      },
      "execution_count": null,
      "outputs": []
    },
    {
      "cell_type": "markdown",
      "source": [
        "We can print model structure information with `model.pprint()` (“pprint” stand for “pretty print”). Results are also by default saved in a `results.json` file or, if PyYAML is installed in the system, in `results.yml`."
      ],
      "metadata": {
        "id": "ztVY5pjHZn97"
      }
    },
    {
      "cell_type": "markdown",
      "source": [
        "#### **Editing and Running the Script**"
      ],
      "metadata": {
        "id": "0qotITdZZscf"
      }
    },
    {
      "cell_type": "markdown",
      "source": [
        "Differently from GAMS, you can use whatever editor environment you wish to code a pyomo script. If you don't need debugging features, a simple text editor like Notepad++ (in windows), gedit or kate (in Linux) will suffice. They already have syntax highlight for python.\n",
        "\n",
        "If you want advanced features and debugging capabilities you can use a dedicated Python IDE, like e.g. Spyder.\n",
        "\n",
        "You will normally run the script as `pyomo solve –solver=glpk transport.py`. You can output solver specific output adding the option `–stream-output`. If you want to run the script as `python transport.py` add the following lines at the end:"
      ],
      "metadata": {
        "id": "MV57kYu2ZvLD"
      }
    },
    {
      "cell_type": "code",
      "source": [
        "# This is an optional code path that allows the script to be run outside of\n",
        "# pyomo command-line.  For example:  python transport.py\n",
        "if __name__ == '__main__':\n",
        "    # This emulates what the pyomo command-line tools does\n",
        "    from pyomo.opt import SolverFactory\n",
        "    import pyomo.environ\n",
        "    opt = SolverFactory(\"glpk\")\n",
        "    results = opt.solve(model)\n",
        "    #sends results to stdout\n",
        "    results.write()\n",
        "    print(\"\\nDisplaying Solution\\n\" + '-'*60)\n",
        "    pyomo_postprocess(None, model, results)"
      ],
      "metadata": {
        "id": "NkyxNzd8Z1QG",
        "colab": {
          "base_uri": "https://localhost:8080/"
        },
        "outputId": "6fc338a9-6800-4d5c-ec47-986143d479f4"
      },
      "execution_count": null,
      "outputs": [
        {
          "output_type": "stream",
          "name": "stdout",
          "text": [
            "# ==========================================================\n",
            "# = Solver Results                                         =\n",
            "# ==========================================================\n",
            "# ----------------------------------------------------------\n",
            "#   Problem Information\n",
            "# ----------------------------------------------------------\n",
            "Problem: \n",
            "- Name: unknown\n",
            "  Lower bound: 153.675\n",
            "  Upper bound: 153.675\n",
            "  Number of objectives: 1\n",
            "  Number of constraints: 6\n",
            "  Number of variables: 7\n",
            "  Number of nonzeros: 13\n",
            "  Sense: minimize\n",
            "# ----------------------------------------------------------\n",
            "#   Solver Information\n",
            "# ----------------------------------------------------------\n",
            "Solver: \n",
            "- Status: ok\n",
            "  Termination condition: optimal\n",
            "  Statistics: \n",
            "    Branch and bound: \n",
            "      Number of bounded subproblems: 0\n",
            "      Number of created subproblems: 0\n",
            "  Error rc: 0\n",
            "  Time: 0.014094352722167969\n",
            "# ----------------------------------------------------------\n",
            "#   Solution Information\n",
            "# ----------------------------------------------------------\n",
            "Solution: \n",
            "- number of solutions: 0\n",
            "  number of solutions displayed: 0\n",
            "\n",
            "Displaying Solution\n",
            "------------------------------------------------------------\n",
            "x : Shipment quantities in case\n",
            "    Size=6, Index=x_index\n",
            "    Key                       : Lower : Value : Upper : Fixed : Stale : Domain\n",
            "     ('san-diego', 'chicago') :   0.0 :   0.0 :  None : False : False :  Reals\n",
            "    ('san-diego', 'new-york') :   0.0 : 325.0 :  None : False : False :  Reals\n",
            "      ('san-diego', 'topeka') :   0.0 : 275.0 :  None : False : False :  Reals\n",
            "       ('seattle', 'chicago') :   0.0 : 300.0 :  None : False : False :  Reals\n",
            "      ('seattle', 'new-york') :   0.0 :   0.0 :  None : False : False :  Reals\n",
            "        ('seattle', 'topeka') :   0.0 :   0.0 :  None : False : False :  Reals\n"
          ]
        }
      ]
    },
    {
      "cell_type": "markdown",
      "source": [
        "Finally, if you are very lazy and want to run the script with just `./transport.py` (and you are in Linux) add the following lines at the top:"
      ],
      "metadata": {
        "id": "donEIqIsaOM3"
      }
    },
    {
      "cell_type": "code",
      "source": [
        "#!/usr/bin/env python\n",
        "# -*- coding: utf-8 -*-"
      ],
      "metadata": {
        "id": "nXppOn1DaQr1"
      },
      "execution_count": null,
      "outputs": []
    },
    {
      "cell_type": "markdown",
      "source": [
        "### 4.10 **Complete script**"
      ],
      "metadata": {
        "id": "hthKX8X2aTXP"
      }
    },
    {
      "cell_type": "markdown",
      "source": [
        "Here is the complete script:"
      ],
      "metadata": {
        "id": "UQtYTi2RaTIg"
      }
    },
    {
      "cell_type": "code",
      "source": [
        "!cat /content/gdrive/MyDrive/HW-11-Files/transport.py"
      ],
      "metadata": {
        "id": "fRos5P53aXS0",
        "colab": {
          "base_uri": "https://localhost:8080/"
        },
        "outputId": "c94bb250-eb33-4046-f49c-65c473cf5a62"
      },
      "execution_count": null,
      "outputs": [
        {
          "output_type": "stream",
          "name": "stdout",
          "text": [
            "from pyomo.environ import *\r\n",
            " \r\n",
            "# Creation of a Concrete Model\r\n",
            "model = ConcreteModel()\r\n",
            " \r\n",
            "## Define sets ##\r\n",
            "#  Sets\r\n",
            "#       i   canning plants   / seattle, san-diego /\r\n",
            "#       j   markets          / new-york, chicago, topeka / ;\r\n",
            "model.i = Set(initialize=['seattle','san-diego'], doc='Canning plans')\r\n",
            "model.j = Set(initialize=['new-york','chicago', 'topeka'], doc='Markets')\r\n",
            " \r\n",
            "## Define parameters ##\r\n",
            "#   Parameters\r\n",
            "#       a(i)  capacity of plant i in cases\r\n",
            "#         /    seattle     350\r\n",
            "#              san-diego   600  /\r\n",
            "#       b(j)  demand at market j in cases\r\n",
            "#         /    new-york    325\r\n",
            "#              chicago     300\r\n",
            "#              topeka      275  / ;\r\n",
            "model.a = Param(model.i, initialize={'seattle':350,'san-diego':600}, doc='Capacity of plant i in cases')\r\n",
            "model.b = Param(model.j, initialize={'new-york':325,'chicago':300,'topeka':275}, doc='Demand at market j in cases')\r\n",
            "#  Table d(i,j)  distance in thousands of miles\r\n",
            "#                    new-york       chicago      topeka\r\n",
            "#      seattle          2.5           1.7          1.8\r\n",
            "#      san-diego        2.5           1.8          1.4  ;\r\n",
            "dtab = {\r\n",
            "    ('seattle',  'new-york') : 2.5,\r\n",
            "    ('seattle',  'chicago')  : 1.7,\r\n",
            "    ('seattle',  'topeka')   : 1.8,\r\n",
            "    ('san-diego','new-york') : 2.5,\r\n",
            "    ('san-diego','chicago')  : 1.8,\r\n",
            "    ('san-diego','topeka')   : 1.4,\r\n",
            "    }\r\n",
            "model.d = Param(model.i, model.j, initialize=dtab, doc='Distance in thousands of miles')\r\n",
            "#  Scalar f  freight in dollars per case per thousand miles  /90/ ;\r\n",
            "model.f = Param(initialize=90, doc='Freight in dollars per case per thousand miles')\r\n",
            "#  Parameter c(i,j)  transport cost in thousands of dollars per case ;\r\n",
            "#            c(i,j) = f * d(i,j) / 1000 ;\r\n",
            "def c_init(model, i, j):\r\n",
            "  return model.f * model.d[i,j] / 1000\r\n",
            "model.c = Param(model.i, model.j, initialize=c_init, doc='Transport cost in thousands of dollar per case')\r\n",
            " \r\n",
            "## Define variables ##\r\n",
            "#  Variables\r\n",
            "#       x(i,j)  shipment quantities in cases\r\n",
            "#       z       total transportation costs in thousands of dollars ;\r\n",
            "#  Positive Variable x ;\r\n",
            "model.x = Var(model.i, model.j, bounds=(0.0,None), doc='Shipment quantities in case')\r\n",
            " \r\n",
            "## Define contrains ##\r\n",
            "# supply(i)   observe supply limit at plant i\r\n",
            "# supply(i) .. sum (j, x(i,j)) =l= a(i)\r\n",
            "def supply_rule(model, i):\r\n",
            "  return sum(model.x[i,j] for j in model.j) <= model.a[i]\r\n",
            "model.supply = Constraint(model.i, rule=supply_rule, doc='Observe supply limit at plant i')\r\n",
            "# demand(j)   satisfy demand at market j ;  \r\n",
            "# demand(j) .. sum(i, x(i,j)) =g= b(j);\r\n",
            "def demand_rule(model, j):\r\n",
            "  return sum(model.x[i,j] for i in model.i) >= model.b[j]  \r\n",
            "model.demand = Constraint(model.j, rule=demand_rule, doc='Satisfy demand at market j')\r\n",
            " \r\n",
            "## Define Objective and solve ##\r\n",
            "#  cost        define objective function\r\n",
            "#  cost ..        z  =e=  sum((i,j), c(i,j)*x(i,j)) ;\r\n",
            "#  Model transport /all/ ;\r\n",
            "#  Solve transport using lp minimizing z ;\r\n",
            "def objective_rule(model):\r\n",
            "  return sum(model.c[i,j]*model.x[i,j] for i in model.i for j in model.j)\r\n",
            "model.objective = Objective(rule=objective_rule, sense=minimize, doc='Define objective function')\r\n",
            " \r\n",
            " \r\n",
            "## Display of the output ##\r\n",
            "# Display x.l, x.m ;\r\n",
            "def pyomo_postprocess(options=None, instance=None, results=None):\r\n",
            "  model.x.display()\r\n",
            " \r\n",
            "# This is an optional code path that allows the script to be run outside of\r\n",
            "# pyomo command-line.  For example:  python transport.py\r\n",
            "if __name__ == '__main__':\r\n",
            "    # This emulates what the pyomo command-line tools does\r\n",
            "    from pyomo.opt import SolverFactory\r\n",
            "    import pyomo.environ\r\n",
            "    opt = SolverFactory(\"glpk\")\r\n",
            "    results = opt.solve(model)\r\n",
            "    #sends results to stdout\r\n",
            "    results.write()\r\n",
            "    print(\"\\nDisplaying Solution\\n\" + '-'*60)\r\n",
            "    pyomo_postprocess(None, model, results)"
          ]
        }
      ]
    },
    {
      "cell_type": "markdown",
      "source": [
        "### **4.11 Solution**"
      ],
      "metadata": {
        "id": "3v09ARhUWiFe"
      }
    },
    {
      "cell_type": "markdown",
      "source": [
        "Running the model lead to the following output:"
      ],
      "metadata": {
        "id": "9ChHUARXWiFf"
      }
    },
    {
      "cell_type": "code",
      "source": [
        "!pyomo solve --solver=glpk /content/gdrive/MyDrive/HW-11-Files/transport.py"
      ],
      "metadata": {
        "id": "hdUoQzkUWiFf",
        "colab": {
          "base_uri": "https://localhost:8080/"
        },
        "outputId": "5ebba13f-5d03-4f9d-c7e4-2fc3e0d87065"
      },
      "execution_count": null,
      "outputs": [
        {
          "output_type": "stream",
          "name": "stdout",
          "text": [
            "[    0.00] Setting up Pyomo environment\n",
            "[    0.00] Applying Pyomo preprocessing actions\n",
            "[    0.02] Creating model\n",
            "[    0.02] Applying solver\n",
            "[    0.04] Processing results\n",
            "    Number of solutions: 1\n",
            "    Solution Information\n",
            "      Gap: 0.0\n",
            "      Status: feasible\n",
            "      Function Value: 153.675\n",
            "    Solver results file: results.yml\n",
            "[    0.04] Applying Pyomo postprocessing actions\n",
            "x : Shipment quantities in case\n",
            "    Size=6, Index=x_index\n",
            "    Key                       : Lower : Value : Upper : Fixed : Stale : Domain\n",
            "     ('san-diego', 'chicago') :   0.0 :   0.0 :  None : False : False :  Reals\n",
            "    ('san-diego', 'new-york') :   0.0 : 325.0 :  None : False : False :  Reals\n",
            "      ('san-diego', 'topeka') :   0.0 : 275.0 :  None : False : False :  Reals\n",
            "       ('seattle', 'chicago') :   0.0 : 300.0 :  None : False : False :  Reals\n",
            "      ('seattle', 'new-york') :   0.0 :   0.0 :  None : False : False :  Reals\n",
            "        ('seattle', 'topeka') :   0.0 :   0.0 :  None : False : False :  Reals\n",
            "[    0.04] Pyomo Finished\n"
          ]
        }
      ]
    },
    {
      "cell_type": "markdown",
      "source": [
        "By default, the optimization results are stored in the file `results.yml`:"
      ],
      "metadata": {
        "id": "i6Njk7TDWiFf"
      }
    },
    {
      "cell_type": "code",
      "source": [
        "!cat results.yml"
      ],
      "metadata": {
        "id": "hBXNHzsaWiFg",
        "colab": {
          "base_uri": "https://localhost:8080/"
        },
        "outputId": "8d600669-d972-424e-d826-1dd598088c59"
      },
      "execution_count": null,
      "outputs": [
        {
          "output_type": "stream",
          "name": "stdout",
          "text": [
            "# ==========================================================\n",
            "# = Solver Results                                         =\n",
            "# ==========================================================\n",
            "# ----------------------------------------------------------\n",
            "#   Problem Information\n",
            "# ----------------------------------------------------------\n",
            "Problem: \n",
            "- Name: unknown\n",
            "  Lower bound: 153.675\n",
            "  Upper bound: 153.675\n",
            "  Number of objectives: 1\n",
            "  Number of constraints: 6\n",
            "  Number of variables: 7\n",
            "  Number of nonzeros: 13\n",
            "  Sense: minimize\n",
            "# ----------------------------------------------------------\n",
            "#   Solver Information\n",
            "# ----------------------------------------------------------\n",
            "Solver: \n",
            "- Status: ok\n",
            "  Termination condition: optimal\n",
            "  Statistics: \n",
            "    Branch and bound: \n",
            "      Number of bounded subproblems: 0\n",
            "      Number of created subproblems: 0\n",
            "  Error rc: 0\n",
            "  Time: 0.008152484893798828\n",
            "# ----------------------------------------------------------\n",
            "#   Solution Information\n",
            "# ----------------------------------------------------------\n",
            "Solution: \n",
            "- number of solutions: 1\n",
            "  number of solutions displayed: 1\n",
            "- Gap: 0.0\n",
            "  Status: feasible\n",
            "  Message: None\n",
            "  Objective:\n",
            "    objective:\n",
            "      Value: 153.675\n",
            "  Variable:\n",
            "    x[san-diego,new-york]:\n",
            "      Value: 325\n",
            "    x[san-diego,topeka]:\n",
            "      Value: 275\n",
            "    x[seattle,chicago]:\n",
            "      Value: 300\n",
            "  Constraint: No values\n"
          ]
        }
      ]
    },
    {
      "cell_type": "markdown",
      "source": [
        "This solution shows that the minimum transport costs is attained when 300 cases are sent from the Seattle plant to the Chicago market, 50 cases from Seattle to New-York and 275 cases each are sent from San-Diego plant to New-York and Topeka markets.\n",
        "\n",
        "The total transport costs will be $153,675."
      ],
      "metadata": {
        "id": "qYiedDBnWiFg"
      }
    },
    {
      "cell_type": "markdown",
      "source": [
        "### **4.12 References**"
      ],
      "metadata": {
        "id": "H-Nc-RF_WiFg"
      }
    },
    {
      "cell_type": "markdown",
      "source": [
        "*  Original problem formulation:\n",
        "  *  Dantzig, G B, Chapter 3.3. In Linear Programming and Extensions. Princeton University Press, Princeton, New Jersey, 1963.\n",
        "*  GAMS implementation:\n",
        "  *  Rosenthal, R E, Chapter 2: A GAMS Tutorial. In GAMS: A User's Guide. The Scientific Press, Redwood City, California, 1988.\n",
        "*  Pyomo translation: Antonello Lobianco\n"
      ],
      "metadata": {
        "id": "Jhu5zQnWWiFg"
      }
    },
    {
      "cell_type": "markdown",
      "source": [
        "## 5.- [Min-cost-flow](https://github.com/Pyomo/PyomoGallery/wiki/Min-cost-flow)"
      ],
      "metadata": {
        "id": "yN4CpGk48XUm"
      }
    },
    {
      "cell_type": "markdown",
      "source": [
        "The example in *pandas_min_cost_flow* example is a model for solving min-cost-flow problems."
      ],
      "metadata": {
        "id": "egGim8U3kBFn"
      }
    },
    {
      "cell_type": "markdown",
      "source": [
        "The example does not use Pyomo params, but instead reads in all the model data from CSV files using pandas dataframes. This can be useful for creating models within more complex programs, that pre and post-process a model's input and output data. The code includes comments and the ipython notebook includes an example run using the provided sample input data files."
      ],
      "metadata": {
        "id": "hQ7BgE7WkEcS"
      }
    },
    {
      "cell_type": "code",
      "source": [
        "!cat /content/gdrive/MyDrive/HW-11-Files/min_cost_flow.py"
      ],
      "metadata": {
        "id": "t9KbWZoc84kr",
        "colab": {
          "base_uri": "https://localhost:8080/"
        },
        "outputId": "94d667a2-c27c-4eff-84d8-5f5e7226e82e"
      },
      "execution_count": null,
      "outputs": [
        {
          "output_type": "stream",
          "name": "stdout",
          "text": [
            "import pyomo\r\n",
            "import pandas\r\n",
            "import pyomo.opt\r\n",
            "import pyomo.environ as pe\r\n",
            "\r\n",
            "class MinCostFlow:\r\n",
            "    \"\"\"This class implements a standard min-cost-flow model.  \r\n",
            "    \r\n",
            "    It takes as input two csv files, providing data for the nodes and the arcs of the network.  The nodes file should have columns:\r\n",
            "    \r\n",
            "    Node, Imbalance\r\n",
            "\r\n",
            "    that specify the node name and the flow imbalance at the node.  The arcs file should have columns:\r\n",
            "\r\n",
            "    Start, End, Cost, UpperBound, LowerBound\r\n",
            "\r\n",
            "    that specify an arc start node, an arc end node, a cost for the arc, and upper and lower bounds for the flow.\"\"\"\r\n",
            "    def __init__(self, nodesfile, arcsfile):\r\n",
            "        \"\"\"Read in the csv data.\"\"\"\r\n",
            "        # Read in the nodes file\r\n",
            "        self.node_data = pandas.read_csv('nodes.csv')\r\n",
            "        self.node_data.set_index(['Node'], inplace=True)\r\n",
            "        self.node_data.sort_index(inplace=True)\r\n",
            "        # Read in the arcs file\r\n",
            "        self.arc_data = pandas.read_csv('arcs.csv')\r\n",
            "        self.arc_data.set_index(['Start','End'], inplace=True)\r\n",
            "        self.arc_data.sort_index(inplace=True)\r\n",
            "\r\n",
            "        self.node_set = self.node_data.index.unique()\r\n",
            "        self.arc_set = self.arc_data.index.unique()\r\n",
            "\r\n",
            "        self.createModel()\r\n",
            "\r\n",
            "    def createModel(self):\r\n",
            "        \"\"\"Create the pyomo model given the csv data.\"\"\"\r\n",
            "        self.m = pe.ConcreteModel()\r\n",
            "\r\n",
            "        # Create sets\r\n",
            "        self.m.node_set = pe.Set( initialize=self.node_set )\r\n",
            "        self.m.arc_set = pe.Set( initialize=self.arc_set , dimen=2)\r\n",
            "\r\n",
            "        # Create variables\r\n",
            "        self.m.Y = pe.Var(self.m.arc_set, domain=pe.NonNegativeReals)\r\n",
            "\r\n",
            "        # Create objective\r\n",
            "        def obj_rule(m):\r\n",
            "            return sum(m.Y[e] * self.arc_data.ix[e,'Cost'] for e in self.arc_set)\r\n",
            "        self.m.OBJ = pe.Objective(rule=obj_rule, sense=pe.minimize)\r\n",
            "        \r\n",
            "        # Flow Ballance rule\r\n",
            "        def flow_bal_rule(m, n):\r\n",
            "            arcs = self.arc_data.reset_index()\r\n",
            "            preds = arcs[ arcs.End == n ]['Start']\r\n",
            "            succs = arcs[ arcs.Start == n ]['End']\r\n",
            "            return sum(m.Y[(p,n)] for p in preds) - sum(m.Y[(n,s)] for s in succs) == self.node_data.ix[n,'Imbalance']\r\n",
            "        self.m.FlowBal = pe.Constraint(self.m.node_set, rule=flow_bal_rule)\r\n",
            "\r\n",
            "        # Upper bounds rule\r\n",
            "        def upper_bounds_rule(m, n1, n2):\r\n",
            "            e = (n1,n2)\r\n",
            "            if self.arc_data.ix[e, 'UpperBound'] < 0:\r\n",
            "                return pe.Constraint.Skip\r\n",
            "            return m.Y[e] <= self.arc_data.ix[e, 'UpperBound']\r\n",
            "        self.m.UpperBound = pe.Constraint(self.m.arc_set, rule=upper_bounds_rule)\r\n",
            "        \r\n",
            "        # Lower bounds rule\r\n",
            "        def lower_bounds_rule(m, n1, n2):\r\n",
            "            e = (n1,n2)\r\n",
            "            if self.arc_data.ix[e, 'LowerBound'] < 0:\r\n",
            "                return pe.Constraint.Skip\r\n",
            "            return m.Y[e] >= self.arc_data.ix[e, 'LowerBound']\r\n",
            "        self.m.LowerBound = pe.Constraint(self.m.arc_set, rule=lower_bounds_rule)\r\n",
            "\r\n",
            "    def solve(self):\r\n",
            "        \"\"\"Solve the model.\"\"\"\r\n",
            "        solver = pyomo.opt.SolverFactory('gurobi')\r\n",
            "        results = solver.solve(self.m, tee=True, keepfiles=False, options_string=\"mip_tolerances_integrality=1e-9 mip_tolerances_mipgap=0\")\r\n",
            "\r\n",
            "        if (results.solver.status != pyomo.opt.SolverStatus.ok):\r\n",
            "            logging.warning('Check solver not ok?')\r\n",
            "        if (results.solver.termination_condition != pyomo.opt.TerminationCondition.optimal):  \r\n",
            "            logging.warning('Check solver optimality?') \r\n",
            "\r\n",
            "\r\n",
            "if __name__ == '__main__':\r\n",
            "       sp = MinCostFlow('nodes.csv', 'arcs.csv') \r\n",
            "       sp.solve()\r\n",
            "       print('\\n\\n---------------------------')\r\n",
            "       print('Cost: ', sp.m.OBJ())"
          ]
        }
      ]
    },
    {
      "cell_type": "code",
      "source": [
        "!python min_cost_flow.py"
      ],
      "metadata": {
        "id": "tKD-9PEtj66W",
        "colab": {
          "base_uri": "https://localhost:8080/"
        },
        "outputId": "0a48f136-4241-456d-a15a-10b0bc72dbdd"
      },
      "execution_count": null,
      "outputs": [
        {
          "output_type": "stream",
          "name": "stdout",
          "text": [
            "python3: can't open file 'min_cost_flow.py': [Errno 2] No such file or directory\n"
          ]
        }
      ]
    },
    {
      "cell_type": "markdown",
      "source": [
        "## 6.- [Network Interdiction](https://github.com/Pyomo/PyomoGallery/wiki/Network-Interdiction)"
      ],
      "metadata": {
        "id": "m7elseAa8W7m"
      }
    },
    {
      "cell_type": "markdown",
      "source": [
        "The network_interdiction examples directory contains several examples of network interdiction models. From least complicated to most complicated, they are:"
      ],
      "metadata": {
        "id": "zeiGkicLknsx"
      }
    },
    {
      "cell_type": "markdown",
      "source": [
        "1. Shortest path interdiction\n",
        "2. Max flow interdiction\n",
        "3. Min cost flow interdiction\n",
        "4. Multi commodity flow interdiction"
      ],
      "metadata": {
        "id": "n1BQTdI6krtw"
      }
    },
    {
      "cell_type": "markdown",
      "source": [
        "Each of the examples is structured in a similar way. There is a main class that contains the Pyomo model. That class takes as input several CSV files, describing the network structure and its associated data, as well as the number of attacks for the interdiction model. Calling the solve solve() and printSolution() methods solves the model, and prints the solution in a human legible format."
      ],
      "metadata": {
        "id": "s85Y9FPEkqn6"
      }
    },
    {
      "cell_type": "markdown",
      "source": [
        "### 6.1 Shortest Path Interdiction"
      ],
      "metadata": {
        "id": "9H_27vMpkZ6O"
      }
    },
    {
      "cell_type": "code",
      "source": [
        "!cat /content/gdrive/MyDrive/HW-11-Files/sp_interdict.py"
      ],
      "metadata": {
        "id": "9RHqt7Ke84DF",
        "colab": {
          "base_uri": "https://localhost:8080/"
        },
        "outputId": "1fdd9132-4351-4e24-ddd9-e13b4b42c4c0"
      },
      "execution_count": null,
      "outputs": [
        {
          "output_type": "stream",
          "name": "stdout",
          "text": [
            "import pandas\r\n",
            "import pyomo\r\n",
            "import pyomo.opt\r\n",
            "import pyomo.environ as pe\r\n",
            "import logging\r\n",
            "\r\n",
            "class SPInterdiction:\r\n",
            "    \"\"\"A class to compute shortest path interdictions.\"\"\"\r\n",
            "\r\n",
            "    def __init__(self, nodefile, arcfile, attacks=0):\r\n",
            "        \"\"\"\r\n",
            "        All the files are CSVs with columns described below.  Attacks is the number of attacks.\r\n",
            "        - nodefile:\r\n",
            "            Node, SupplyDemand\r\n",
            "        Every node must appear as a line in the nodefile.  SupplyDemand describes the flow imbalance at the node.\r\n",
            "        - arcfile:\r\n",
            "            StartNode,EndNode,Cost,Attackable\r\n",
            "        Every arc must appear in the arcfile.  The data also describes the arc's cost and whether we can attack this arc.\r\n",
            "        \"\"\"\r\n",
            "        # Read in the node_data\r\n",
            "        self.node_data = pandas.read_csv(nodefile)\r\n",
            "        self.node_data.set_index(['Node'], inplace=True)\r\n",
            "        self.node_data.sort_index(inplace=True)\r\n",
            "        # Read in the arc_data\r\n",
            "        self.arc_data = pandas.read_csv(arcfile)\r\n",
            "        self.arc_data['xbar'] = 0\r\n",
            "        self.arc_data.set_index(['StartNode','EndNode'], inplace=True)\r\n",
            "        self.arc_data.sort_index(inplace=True)\r\n",
            "\r\n",
            "        self.attacks = attacks\r\n",
            "     \r\n",
            "        self.node_set = self.node_data.index.unique()\r\n",
            "        self.arc_set = self.arc_data.index.unique()\r\n",
            "        \r\n",
            "        # Compute nCmax\r\n",
            "        self.nCmax = len(self.node_set) * self.arc_data['Cost'].max()\r\n",
            "\r\n",
            "        self.createPrimal()\r\n",
            "        self.createInterdictionDual()\r\n",
            "\r\n",
            "\r\n",
            "    def createPrimal(self):  \r\n",
            "        \"\"\"Create the primal pyomo model.  \r\n",
            "        \r\n",
            "        This is used to compute flows after interdiction.  The interdiction is stored in arc_data.xbar.\"\"\"\r\n",
            "\r\n",
            "        model = pe.ConcreteModel()\r\n",
            "        # Tell pyomo to read in dual-variable information from the solver\r\n",
            "        model.dual = pe.Suffix(direction=pe.Suffix.IMPORT) \r\n",
            "\r\n",
            "        # Add the sets\r\n",
            "        model.node_set = pe.Set( initialize=self.node_set )\r\n",
            "        model.edge_set = pe.Set( initialize=self.arc_set, dimen=2)\r\n",
            "\r\n",
            "        # Create the variables\r\n",
            "        model.y = pe.Var(model.edge_set, domain=pe.NonNegativeReals) \r\n",
            "        model.UnsatSupply = pe.Var(model.node_set, domain=pe.NonNegativeReals)\r\n",
            "        model.UnsatDemand = pe.Var(model.node_set, domain=pe.NonNegativeReals)\r\n",
            "        \r\n",
            "        # Create the objective\r\n",
            "        def obj_rule(model):\r\n",
            "            return  sum( (data['Cost']+data['xbar']*(2*self.nCmax+1))*model.y[e] for e,data in self.arc_data.iterrows()) + sum(self.nCmax*(model.UnsatSupply[n] + model.UnsatDemand[n]) for n,data in self.node_data.iterrows())\r\n",
            "        model.OBJ = pe.Objective(rule=obj_rule, sense=pe.minimize)\r\n",
            "\r\n",
            "        # Create the constraints, one for each node\r\n",
            "        def flow_bal_rule(model, n):\r\n",
            "            tmp = self.arc_data.reset_index()\r\n",
            "            successors = tmp.ix[ tmp.StartNode == n, 'EndNode'].values\r\n",
            "            predecessors = tmp.ix[ tmp.EndNode == n, 'StartNode'].values \r\n",
            "            lhs = sum(model.y[(i,n)] for i in predecessors) - sum(model.y[(n,i)] for i in successors) \r\n",
            "            imbalance = self.node_data['SupplyDemand'].get(n,0)\r\n",
            "            supply_node = int(imbalance < 0)\r\n",
            "            demand_node = int(imbalance > 0)\r\n",
            "            rhs = (imbalance + model.UnsatSupply[n]*(supply_node) - model.UnsatDemand[n]*(demand_node))\r\n",
            "            constr = (lhs == rhs)\r\n",
            "            if isinstance(constr, bool):\r\n",
            "                return pe.Constraint.Skip\r\n",
            "            return constr\r\n",
            "\r\n",
            "        model.FlowBalance = pe.Constraint(model.node_set, rule=flow_bal_rule)\r\n",
            "         \r\n",
            "        # Store the model\r\n",
            "        self.primal = model\r\n",
            "\r\n",
            "    def createInterdictionDual(self):\r\n",
            "        # Create the model\r\n",
            "        model = pe.ConcreteModel()\r\n",
            "        \r\n",
            "        # Add the sets\r\n",
            "        model.node_set = pe.Set( initialize=self.node_set )\r\n",
            "        model.edge_set = pe.Set( initialize=self.arc_set, dimen=2)\r\n",
            "\r\n",
            "        # Create the variables\r\n",
            "        model.rho = pe.Var(model.node_set, domain=pe.Reals)\r\n",
            "        \r\n",
            "        model.x = pe.Var(model.edge_set, domain=pe.Binary)\r\n",
            "\r\n",
            "        # Create the objective\r\n",
            "        def obj_rule(model):\r\n",
            "            return  sum(data['SupplyDemand']*model.rho[n] for n,data in self.node_data.iterrows())\r\n",
            "\r\n",
            "        model.OBJ = pe.Objective(rule=obj_rule, sense=pe.maximize)\r\n",
            "\r\n",
            "        # Create the constraints for y_ij\r\n",
            "        def edge_constraint_rule(model, i, j):\r\n",
            "            attackable = int(self.arc_data['Attackable'].get((i,j),0))\r\n",
            "            return model.rho[j] - model.rho[i] <=  self.arc_data['Cost'].get((i,j),0) + (2*self.nCmax+1)*model.x[(i,j)]*attackable\r\n",
            "\r\n",
            "        model.DualEdgeConstraint = pe.Constraint(model.edge_set, rule=edge_constraint_rule)\r\n",
            "        \r\n",
            "        # Create constraints for the UnsatDemand variables \r\n",
            "        def unsat_constraint_rule(model, n):\r\n",
            "            imbalance = self.node_data['SupplyDemand'].get(n,0)\r\n",
            "            supply_node = int(imbalance < 0)\r\n",
            "            demand_node = int(imbalance > 0)\r\n",
            "            if (supply_node):\r\n",
            "                return -model.rho[n] <= self.nCmax\r\n",
            "            if (demand_node):\r\n",
            "                return model.rho[n] <= self.nCmax\r\n",
            "            return pe.Constraint.Skip\r\n",
            "\r\n",
            "        model.UnsatConstraint = pe.Constraint(model.node_set, rule=unsat_constraint_rule)\r\n",
            "     \r\n",
            "        # Create the interdiction budget constraint \r\n",
            "        def block_limit_rule(model):\r\n",
            "            model.attacks = self.attacks\r\n",
            "            return pe.summation(model.x) <= model.attacks\r\n",
            "\r\n",
            "        model.BlockLimit = pe.Constraint(rule=block_limit_rule)\r\n",
            "\r\n",
            "        # Create, save the model\r\n",
            "        self.Idual = model\r\n",
            "\r\n",
            "    def solve(self, tee=False):\r\n",
            "        solver = pyomo.opt.SolverFactory('gurobi')\r\n",
            "\r\n",
            "        # Solve the dual first\r\n",
            "        self.Idual.BlockLimit.construct()\r\n",
            "        self.Idual.BlockLimit._constructed = False\r\n",
            "        del self.Idual.BlockLimit._data[None] \r\n",
            "        self.Idual.BlockLimit.reconstruct()\r\n",
            "        self.Idual.preprocess()\r\n",
            "        results = solver.solve(self.Idual, tee=tee, keepfiles=False, options_string=\"mip_tolerances_integrality=1e-9 mip_tolerances_mipgap=0\")\r\n",
            "\r\n",
            "        # Check that we actually computed an optimal solution, load results\r\n",
            "        if (results.solver.status != pyomo.opt.SolverStatus.ok):\r\n",
            "            logging.warning('Check solver not ok?')\r\n",
            "        if (results.solver.termination_condition != pyomo.opt.TerminationCondition.optimal):  \r\n",
            "            logging.warning('Check solver optimality?')\r\n",
            "\r\n",
            "        self.Idual.solutions.load_from(results)\r\n",
            "        # Now put interdictions into xbar and solve primal\r\n",
            "       \r\n",
            "        for e in self.arc_data.index:\r\n",
            "            self.arc_data.ix[e,'xbar'] = self.Idual.x[e].value\r\n",
            "\r\n",
            "        self.primal.OBJ.construct()\r\n",
            "        self.primal.OBJ._constructed = False\r\n",
            "        self.primal.OBJ._init_sense = pe.minimize\r\n",
            "        del self.primal.OBJ._data[None] \r\n",
            "        self.primal.OBJ.reconstruct()\r\n",
            "        self.primal.preprocess()\r\n",
            "        results = solver.solve(self.primal, tee=tee, keepfiles=False, options_string=\"mip_tolerances_integrality=1e-9 mip_tolerances_mipgap=0\")\r\n",
            "\r\n",
            "        # Check that we actually computed an optimal solution, load results\r\n",
            "        if (results.solver.status != pyomo.opt.SolverStatus.ok):\r\n",
            "            logging.warning('Check solver not ok?')\r\n",
            "        if (results.solver.termination_condition != pyomo.opt.TerminationCondition.optimal):  \r\n",
            "            logging.warning('Check solver optimality?')\r\n",
            "\r\n",
            "        self.primal.solutions.load_from(results)\r\n",
            "\r\n",
            "    def printSolution(self):\r\n",
            "        print()\r\n",
            "        print('Using %d attacks:' % self.attacks)\r\n",
            "        print()\r\n",
            "        edges = sorted(self.arc_set)\r\n",
            "        for e in edges:\r\n",
            "            if self.Idual.x[e].value > 0:\r\n",
            "                print('Interdict arc %s -> %s'%(str(e[0]), str(e[1])))\r\n",
            "        print()\r\n",
            "        \r\n",
            "        nodes = sorted(self.node_data.index)\r\n",
            "        for n in nodes:\r\n",
            "            remaining_supply = self.primal.UnsatSupply[n].value\r\n",
            "            if remaining_supply > 0:\r\n",
            "                print('Remaining supply on node %s: %.2f'%(str(n), remaining_supply))\r\n",
            "        for n in nodes:\r\n",
            "            remaining_demand = self.primal.UnsatDemand[n].value\r\n",
            "            if remaining_demand > 0:\r\n",
            "                print('Remaining demand on node %s: %.2f'%(str(n), remaining_demand))\r\n",
            "        print()\r\n",
            "        \r\n",
            "        for e0,e1 in self.arc_set:\r\n",
            "            flow = self.primal.y[(e0,e1)].value\r\n",
            "            if flow > 0:\r\n",
            "                print('Flow on arc %s -> %s: %.2f'%(str(e0), str(e1), flow))\r\n",
            "        print()\r\n",
            "\r\n",
            "        print('----------')\r\n",
            "        print('Total cost = %.2f (primal) %.2f (dual)'%(self.primal.OBJ(), self.Idual.OBJ()))\r\n",
            "\r\n",
            "\r\n",
            "########################\r\n",
            "# Now lets do something\r\n",
            "########################\r\n",
            "\r\n",
            "if __name__ == '__main__':\r\n",
            "    m = SPInterdiction('sample_nodes_data.csv', 'sample_arcs_data.csv')\r\n",
            "    m.solve()\r\n",
            "    m.printSolution()\r\n",
            "    m.attacks = 1\r\n",
            "    m.solve()\r\n",
            "    m.printSolution()\r\n",
            "    m.attacks = 2\r\n",
            "    m.solve()\r\n",
            "    m.printSolution()"
          ]
        }
      ]
    },
    {
      "cell_type": "code",
      "source": [
        "!python sp_interdict.py"
      ],
      "metadata": {
        "id": "M2O77RRAlM2Q",
        "colab": {
          "base_uri": "https://localhost:8080/"
        },
        "outputId": "cc717f6f-6491-4374-a88e-7d3c10d00c74"
      },
      "execution_count": null,
      "outputs": [
        {
          "output_type": "stream",
          "name": "stdout",
          "text": [
            "python3: can't open file 'sp_interdict.py': [Errno 2] No such file or directory\n"
          ]
        }
      ]
    },
    {
      "cell_type": "markdown",
      "source": [
        "### 6.2 Max Flow Interdiction"
      ],
      "metadata": {
        "id": "23Vo3rE7m4J5"
      }
    },
    {
      "cell_type": "code",
      "source": [
        "!cat /content/gdrive/MyDrive/HW-11-Files/max_flow_interdict.py"
      ],
      "metadata": {
        "id": "JEPhV5ifnEP-",
        "colab": {
          "base_uri": "https://localhost:8080/"
        },
        "outputId": "e6cc1f67-e076-452f-f376-bad24dc9df91"
      },
      "execution_count": null,
      "outputs": [
        {
          "output_type": "stream",
          "name": "stdout",
          "text": [
            "import pandas\r\n",
            "import pyomo\r\n",
            "import pyomo.opt\r\n",
            "import pyomo.environ as pe\r\n",
            "import logging\r\n",
            "\r\n",
            "class MaxFlowInterdiction:\r\n",
            "    \"\"\"A class to compute max-flow interdictions.\"\"\"\r\n",
            "\r\n",
            "    def __init__(self, nodefile, arcfile, attacks=0):\r\n",
            "        \"\"\"\r\n",
            "        All the files are CSVs with columns described below.  Attacks is the number of attacks.\r\n",
            "\r\n",
            "        - nodefile:\r\n",
            "            Node\r\n",
            "\r\n",
            "        Every node must appear as a line in the nodefile. There are two special nodes called 'Start' and 'End' that define the source and sink of the max-flow problem. \r\n",
            "\r\n",
            "        - arcfile:\r\n",
            "            StartNode,EndNode,Capacity,Attackable\r\n",
            "\r\n",
            "        Every arc must appear in the arcfile.  The data also describes the arc's capacity and whether we can attack this arc.\r\n",
            "        \"\"\"\r\n",
            "        # Read in the node_data\r\n",
            "        self.node_data = pandas.read_csv(nodefile)\r\n",
            "        self.node_data.set_index(['Node'], inplace=True)\r\n",
            "        self.node_data.sort_index(inplace=True)\r\n",
            "        # Read in the arc_data\r\n",
            "        self.arc_data = pandas.read_csv(arcfile)\r\n",
            "        self.arc_data['xbar'] = 0\r\n",
            "        self.arc_data.set_index(['StartNode','EndNode'], inplace=True)\r\n",
            "        self.arc_data.sort_index(inplace=True)\r\n",
            "\r\n",
            "        self.attacks = attacks\r\n",
            "     \r\n",
            "        self.node_set = self.node_data.index.unique()\r\n",
            "        self.arc_set = self.arc_data.index.unique()\r\n",
            "        \r\n",
            "        self.createPrimal()\r\n",
            "        self.createInterdictionDual()\r\n",
            "\r\n",
            "\r\n",
            "    def createPrimal(self):  \r\n",
            "        \"\"\"Create the primal pyomo model.  \r\n",
            "        \r\n",
            "        This is used to compute flows after interdiction.  The interdiction is stored in arc_data.xbar.\"\"\"\r\n",
            "\r\n",
            "        model = pe.ConcreteModel()\r\n",
            "        # Tell pyomo to read in dual-variable information from the solver\r\n",
            "        model.dual = pe.Suffix(direction=pe.Suffix.IMPORT) \r\n",
            "\r\n",
            "        # Add the sets\r\n",
            "        model.node_set = pe.Set( initialize=self.node_set )\r\n",
            "        model.edge_set = pe.Set( initialize=self.arc_set, dimen=2)\r\n",
            "\r\n",
            "        # Create the variables\r\n",
            "        model.y = pe.Var(model.edge_set, domain=pe.NonNegativeReals) \r\n",
            "        model.v = pe.Var(domain=pe.NonNegativeReals)\r\n",
            "\r\n",
            "        \r\n",
            "        # Create the objective\r\n",
            "        def obj_rule(model):\r\n",
            "            return  model.v - 1.1*sum( data['xbar']*model.y[e] for e,data in self.arc_data.iterrows())\r\n",
            "        model.OBJ = pe.Objective(rule=obj_rule, sense=pe.maximize)\r\n",
            "\r\n",
            "        # Create the constraints, one for each node\r\n",
            "        def flow_bal_rule(model, n):\r\n",
            "            tmp = self.arc_data.reset_index()\r\n",
            "            successors = tmp.ix[ tmp.StartNode == n, 'EndNode'].values\r\n",
            "            predecessors = tmp.ix[ tmp.EndNode == n, 'StartNode'].values \r\n",
            "            lhs = sum(model.y[(i,n)] for i in predecessors) - sum(model.y[(n,i)] for i in successors) \r\n",
            "            start_node = int(n == 'Start')\r\n",
            "            end_node = int(n == 'End')\r\n",
            "            rhs = 0 - model.v*(start_node) + model.v*(end_node)\r\n",
            "            constr = (lhs == rhs)\r\n",
            "            if isinstance(constr, bool):\r\n",
            "                return pe.Constraint.Skip\r\n",
            "            return constr\r\n",
            "\r\n",
            "        model.FlowBalance = pe.Constraint(model.node_set, rule=flow_bal_rule)\r\n",
            "        \r\n",
            "        # Capacity constraints, one for each edge\r\n",
            "        def capacity_rule(model, i, j):\r\n",
            "            capacity = self.arc_data['Capacity'].get((i,j),-1)\r\n",
            "            if capacity < 0:\r\n",
            "                return pe.Constraint.Skip\r\n",
            "            return model.y[(i,j)] <= capacity \r\n",
            "\r\n",
            "        model.Capacity = pe.Constraint(model.edge_set, rule=capacity_rule)\r\n",
            " \r\n",
            "        # Store the model\r\n",
            "        self.primal = model\r\n",
            "\r\n",
            "    def createInterdictionDual(self):\r\n",
            "        # Create the model\r\n",
            "        model = pe.ConcreteModel()\r\n",
            "        \r\n",
            "        # Add the sets\r\n",
            "        model.node_set = pe.Set( initialize=self.node_set )\r\n",
            "        model.edge_set = pe.Set( initialize=self.arc_set, dimen=2)\r\n",
            "\r\n",
            "        # Create the variables\r\n",
            "        model.rho = pe.Var(model.node_set, domain=pe.Reals)\r\n",
            "        model.pi = pe.Var(model.edge_set, domain=pe.NonNegativeReals)\r\n",
            "        \r\n",
            "        model.x = pe.Var(model.edge_set, domain=pe.Binary)\r\n",
            "\r\n",
            "        # Create the objective\r\n",
            "        def obj_rule(model):\r\n",
            "            return  sum(data['Capacity']*model.pi[e] for e,data in self.arc_data.iterrows() if data['Capacity']>=0)\r\n",
            "\r\n",
            "        model.OBJ = pe.Objective(rule=obj_rule, sense=pe.minimize)\r\n",
            "\r\n",
            "        # Create the constraints for y_ij\r\n",
            "        def edge_constraint_rule(model, i, j):\r\n",
            "            attackable = int(self.arc_data['Attackable'].get((i,j),0))\r\n",
            "            hasCap = int(self.arc_data['Capacity'].get((i,j),-1)>=0)\r\n",
            "            return model.rho[j] - model.rho[i] + model.pi[(i,j)]*hasCap >=  0 - 1.1*model.x[(i,j)]*attackable\r\n",
            "\r\n",
            "        model.DualEdgeConstraint = pe.Constraint(model.edge_set, rule=edge_constraint_rule)\r\n",
            "\r\n",
            "        # Set the x's for non-blockable arcs\r\n",
            "        def v_constraint_rule(model):\r\n",
            "            return model.rho['Start'] - model.rho['End'] == 1\r\n",
            "\r\n",
            "        model.VConstraint = pe.Constraint(rule=v_constraint_rule)\r\n",
            "     \r\n",
            "        # Create the interdiction budget constraint \r\n",
            "        def block_limit_rule(model):\r\n",
            "            model.attacks = self.attacks\r\n",
            "            return pe.summation(model.x) <= model.attacks\r\n",
            "\r\n",
            "        model.BlockLimit = pe.Constraint(rule=block_limit_rule)\r\n",
            "\r\n",
            "        # Create, save the model\r\n",
            "        self.Idual = model\r\n",
            "\r\n",
            "    def solve(self, tee=False):\r\n",
            "        solver = pyomo.opt.SolverFactory('gurobi')\r\n",
            "\r\n",
            "        # Solve the dual first\r\n",
            "        self.Idual.BlockLimit.construct()\r\n",
            "        self.Idual.BlockLimit._constructed = False\r\n",
            "        del self.Idual.BlockLimit._data[None] \r\n",
            "        self.Idual.BlockLimit.reconstruct()\r\n",
            "        self.Idual.preprocess()\r\n",
            "        results = solver.solve(self.Idual, tee=tee, keepfiles=False, options_string=\"mip_tolerances_integrality=1e-9 mip_tolerances_mipgap=0\")\r\n",
            "\r\n",
            "        # Check that we actually computed an optimal solution, load results\r\n",
            "        if (results.solver.status != pyomo.opt.SolverStatus.ok):\r\n",
            "            logging.warning('Check solver not ok?')\r\n",
            "        if (results.solver.termination_condition != pyomo.opt.TerminationCondition.optimal):  \r\n",
            "            logging.warning('Check solver optimality?')\r\n",
            "\r\n",
            "        self.Idual.solutions.load_from(results)\r\n",
            "        # Now put interdictions into xbar and solve primal\r\n",
            "       \r\n",
            "        for e in self.arc_data.index:\r\n",
            "            self.arc_data.ix[e,'xbar'] = self.Idual.x[e].value\r\n",
            "\r\n",
            "        self.primal.OBJ.construct()\r\n",
            "        self.primal.OBJ._constructed = False\r\n",
            "        self.primal.OBJ._init_sense = pe.maximize\r\n",
            "        del self.primal.OBJ._data[None] \r\n",
            "        self.primal.OBJ.reconstruct()\r\n",
            "        self.primal.preprocess()\r\n",
            "        results = solver.solve(self.primal, tee=tee, keepfiles=False, options_string=\"mip_tolerances_integrality=1e-9 mip_tolerances_mipgap=0\")\r\n",
            "\r\n",
            "        # Check that we actually computed an optimal solution, load results\r\n",
            "        if (results.solver.status != pyomo.opt.SolverStatus.ok):\r\n",
            "            logging.warning('Check solver not ok?')\r\n",
            "        if (results.solver.termination_condition != pyomo.opt.TerminationCondition.optimal):  \r\n",
            "            logging.warning('Check solver optimality?')\r\n",
            "\r\n",
            "        self.primal.solutions.load_from(results)\r\n",
            "\r\n",
            "    def printSolution(self):\r\n",
            "        print()\r\n",
            "        print('Using %d attacks:'%self.attacks)\r\n",
            "        print()\r\n",
            "        edges = sorted(self.arc_set)\r\n",
            "        for e in edges:\r\n",
            "            if self.Idual.x[e].value > 0:\r\n",
            "                print('Interdict arc %s -> %s'%(str(e[0]), str(e[1])))\r\n",
            "        print()\r\n",
            "         \r\n",
            "        for e0,e1 in self.arc_set:\r\n",
            "            flow = self.primal.y[(e0,e1)].value\r\n",
            "            if flow > 0:\r\n",
            "                print('Flow on arc %s -> %s: %.2f'%(str(e0), str(e1), flow))\r\n",
            "        print()\r\n",
            "\r\n",
            "        print('----------')\r\n",
            "        print('Total flow = %.2f (primal) %.2f (dual)'%(self.primal.OBJ(), self.Idual.OBJ()))\r\n",
            "\r\n",
            "\r\n",
            "########################\r\n",
            "# Now lets do something\r\n",
            "########################\r\n",
            "\r\n",
            "if __name__ == '__main__':\r\n",
            "    m = MaxFlowInterdiction('sample_nodes_data.csv', 'sample_arcs_data.csv')\r\n",
            "    m.solve()\r\n",
            "    m.printSolution()\r\n",
            "    m.attacks = 1\r\n",
            "    m.solve()\r\n",
            "    m.printSolution()\r\n",
            "    m.attacks = 2\r\n",
            "    m.solve()\r\n",
            "    m.printSolution()"
          ]
        }
      ]
    },
    {
      "cell_type": "code",
      "source": [
        "!python max_flow_interdict.py"
      ],
      "metadata": {
        "id": "B1TDjdNGtmkx",
        "colab": {
          "base_uri": "https://localhost:8080/"
        },
        "outputId": "284f9b4e-9006-490a-9139-603881c5107d"
      },
      "execution_count": null,
      "outputs": [
        {
          "output_type": "stream",
          "name": "stdout",
          "text": [
            "python3: can't open file 'max_flow_interdict.py': [Errno 2] No such file or directory\n"
          ]
        }
      ]
    },
    {
      "cell_type": "markdown",
      "source": [
        "### 6.3 Min Cost Flow Interdiction"
      ],
      "metadata": {
        "id": "Bv9QQsE_t6ke"
      }
    },
    {
      "cell_type": "code",
      "source": [
        "!cat /content/gdrive/MyDrive/HW-11-Files/min_cost_flow_interdict.py"
      ],
      "metadata": {
        "id": "MCrUo2KvHSnn",
        "colab": {
          "base_uri": "https://localhost:8080/"
        },
        "outputId": "51681f97-3b92-4114-cb6b-774a0cdac188"
      },
      "execution_count": null,
      "outputs": [
        {
          "output_type": "stream",
          "name": "stdout",
          "text": [
            "{\r\n",
            " \"metadata\": {\r\n",
            "  \"name\": \"\",\r\n",
            "  \"signature\": \"sha256:3203a62c794b056e9202075c3d2f3cde57af44eeb452a1c3f9b1d52b52e69f8a\"\r\n",
            " },\r\n",
            " \"nbformat\": 3,\r\n",
            " \"nbformat_minor\": 0,\r\n",
            " \"worksheets\": [\r\n",
            "  {\r\n",
            "   \"cells\": [\r\n",
            "    {\r\n",
            "     \"cell_type\": \"code\",\r\n",
            "     \"collapsed\": false,\r\n",
            "     \"input\": [\r\n",
            "      \"%load min_cost_flow_interdict.py\"\r\n",
            "     ],\r\n",
            "     \"language\": \"python\",\r\n",
            "     \"metadata\": {},\r\n",
            "     \"outputs\": [],\r\n",
            "     \"prompt_number\": 1\r\n",
            "    },\r\n",
            "    {\r\n",
            "     \"cell_type\": \"code\",\r\n",
            "     \"collapsed\": false,\r\n",
            "     \"input\": [\r\n",
            "      \"import networkx\\n\",\r\n",
            "      \"import pandas\\n\",\r\n",
            "      \"import pyomo\\n\",\r\n",
            "      \"import pyomo.opt\\n\",\r\n",
            "      \"import pyomo.environ as pe\\n\",\r\n",
            "      \"import scipy\\n\",\r\n",
            "      \"import itertools\\n\",\r\n",
            "      \"import logging\\n\",\r\n",
            "      \"\\n\",\r\n",
            "      \"class MinCostFlowInterdiction:\\n\",\r\n",
            "      \"    \\\"\\\"\\\"A class to compute min-cost-flow interdictions.\\\"\\\"\\\"\\n\",\r\n",
            "      \"\\n\",\r\n",
            "      \"    def __init__(self, nodefile, arcfile, attacks=0):\\n\",\r\n",
            "      \"        \\\"\\\"\\\"\\n\",\r\n",
            "      \"        All the files are CSVs with columns described below.  Attacks is the number of attacks.\\n\",\r\n",
            "      \"\\n\",\r\n",
            "      \"        - nodefile:\\n\",\r\n",
            "      \"            Node, SupplyDemand\\n\",\r\n",
            "      \"\\n\",\r\n",
            "      \"        Every node must appear as a line in the nodefile.  SupplyDemand describes the flow imbalance at the node.\\n\",\r\n",
            "      \"\\n\",\r\n",
            "      \"        - arcfile:\\n\",\r\n",
            "      \"            StartNode,EndNode,Capacity,Cost,Attackable\\n\",\r\n",
            "      \"\\n\",\r\n",
            "      \"        Every arc must appear in the arcfile.  The data also describes the arc's capacity, cost, and whether we can attack this arc.\\n\",\r\n",
            "      \"        \\\"\\\"\\\"\\n\",\r\n",
            "      \"        # Read in the node_data\\n\",\r\n",
            "      \"        self.node_data = pandas.read_csv(nodefile)\\n\",\r\n",
            "      \"        self.node_data.set_index(['Node'], inplace=True)\\n\",\r\n",
            "      \"        self.node_data.sort_index(inplace=True)\\n\",\r\n",
            "      \"        # Read in the arc_data\\n\",\r\n",
            "      \"        self.arc_data = pandas.read_csv(arcfile)\\n\",\r\n",
            "      \"        self.arc_data['xbar'] = 0\\n\",\r\n",
            "      \"        self.arc_data.set_index(['StartNode','EndNode'], inplace=True)\\n\",\r\n",
            "      \"        self.arc_data.sort_index(inplace=True)\\n\",\r\n",
            "      \"\\n\",\r\n",
            "      \"        self.attacks = attacks\\n\",\r\n",
            "      \"     \\n\",\r\n",
            "      \"        self.node_set = self.node_data.index.unique()\\n\",\r\n",
            "      \"        self.arc_set = self.arc_data.index.unique()\\n\",\r\n",
            "      \"        \\n\",\r\n",
            "      \"        # Compute nCmax\\n\",\r\n",
            "      \"        self.nCmax = len(self.node_set) * self.arc_data['Cost'].max()\\n\",\r\n",
            "      \"\\n\",\r\n",
            "      \"        self.createPrimal()\\n\",\r\n",
            "      \"        self.createInterdictionDual()\\n\",\r\n",
            "      \"\\n\",\r\n",
            "      \"\\n\",\r\n",
            "      \"    def createPrimal(self):  \\n\",\r\n",
            "      \"        \\\"\\\"\\\"Create the primal pyomo model.  \\n\",\r\n",
            "      \"        \\n\",\r\n",
            "      \"        This is used to compute flows after interdiction.  The interdiction is stored in arc_data.xbar.\\\"\\\"\\\"\\n\",\r\n",
            "      \"\\n\",\r\n",
            "      \"        model = pe.ConcreteModel()\\n\",\r\n",
            "      \"        # Tell pyomo to read in dual-variable information from the solver\\n\",\r\n",
            "      \"        model.dual = pe.Suffix(direction=pe.Suffix.IMPORT) \\n\",\r\n",
            "      \"\\n\",\r\n",
            "      \"        # Add the sets\\n\",\r\n",
            "      \"        model.node_set = pe.Set( initialize=self.node_set )\\n\",\r\n",
            "      \"        model.edge_set = pe.Set( initialize=self.arc_set, dimen=2)\\n\",\r\n",
            "      \"\\n\",\r\n",
            "      \"        # Create the variables\\n\",\r\n",
            "      \"        model.y = pe.Var(model.edge_set, domain=pe.NonNegativeReals) \\n\",\r\n",
            "      \"        model.UnsatSupply = pe.Var(model.node_set, domain=pe.NonNegativeReals)\\n\",\r\n",
            "      \"        model.UnsatDemand = pe.Var(model.node_set, domain=pe.NonNegativeReals)\\n\",\r\n",
            "      \"        \\n\",\r\n",
            "      \"        # Create the objective\\n\",\r\n",
            "      \"        def obj_rule(model):\\n\",\r\n",
            "      \"            return  sum( (data['Cost']+data['xbar']*(2*self.nCmax+1))*model.y[e] for e,data in self.arc_data.iterrows()) + sum(self.nCmax*(model.UnsatSupply[n] + model.UnsatDemand[n]) for n,data in self.node_data.iterrows())\\n\",\r\n",
            "      \"        model.OBJ = pe.Objective(rule=obj_rule, sense=pe.minimize)\\n\",\r\n",
            "      \"\\n\",\r\n",
            "      \"        # Create the constraints, one for each node\\n\",\r\n",
            "      \"        def flow_bal_rule(model, n):\\n\",\r\n",
            "      \"            tmp = self.arc_data.reset_index()\\n\",\r\n",
            "      \"            successors = tmp.ix[ tmp.StartNode == n, 'EndNode'].values\\n\",\r\n",
            "      \"            predecessors = tmp.ix[ tmp.EndNode == n, 'StartNode'].values \\n\",\r\n",
            "      \"            lhs = sum(model.y[(i,n)] for i in predecessors) - sum(model.y[(n,i)] for i in successors) \\n\",\r\n",
            "      \"            imbalance = self.node_data['SupplyDemand'].get(n,0)\\n\",\r\n",
            "      \"            supply_node = int(imbalance < 0)\\n\",\r\n",
            "      \"            demand_node = int(imbalance > 0)\\n\",\r\n",
            "      \"            rhs = (imbalance + model.UnsatSupply[n]*(supply_node) - model.UnsatDemand[n]*(demand_node))\\n\",\r\n",
            "      \"            constr = (lhs == rhs)\\n\",\r\n",
            "      \"            if isinstance(constr, bool):\\n\",\r\n",
            "      \"                return pe.Constraint.Skip\\n\",\r\n",
            "      \"            return constr\\n\",\r\n",
            "      \"\\n\",\r\n",
            "      \"        model.FlowBalance = pe.Constraint(model.node_set, rule=flow_bal_rule)\\n\",\r\n",
            "      \"        \\n\",\r\n",
            "      \"        # Capacity constraints, one for each edge\\n\",\r\n",
            "      \"        def capacity_rule(model, i, j):\\n\",\r\n",
            "      \"            capacity = self.arc_data['Capacity'].get((i,j),-1)\\n\",\r\n",
            "      \"            if capacity < 0:\\n\",\r\n",
            "      \"                return pe.Constraint.Skip\\n\",\r\n",
            "      \"            return model.y[(i,j)] <= capacity \\n\",\r\n",
            "      \"\\n\",\r\n",
            "      \"        model.Capacity = pe.Constraint(model.edge_set, rule=capacity_rule)\\n\",\r\n",
            "      \" \\n\",\r\n",
            "      \"        # Store the model\\n\",\r\n",
            "      \"        self.primal = model\\n\",\r\n",
            "      \"\\n\",\r\n",
            "      \"    def createInterdictionDual(self):\\n\",\r\n",
            "      \"        # Create the model\\n\",\r\n",
            "      \"        model = pe.ConcreteModel()\\n\",\r\n",
            "      \"        \\n\",\r\n",
            "      \"        # Add the sets\\n\",\r\n",
            "      \"        model.node_set = pe.Set( initialize=self.node_set )\\n\",\r\n",
            "      \"        model.edge_set = pe.Set( initialize=self.arc_set, dimen=2)\\n\",\r\n",
            "      \"\\n\",\r\n",
            "      \"        # Create the variables\\n\",\r\n",
            "      \"        model.rho = pe.Var(model.node_set, domain=pe.Reals)\\n\",\r\n",
            "      \"        model.pi = pe.Var(model.edge_set, domain=pe.NonPositiveReals)\\n\",\r\n",
            "      \"        \\n\",\r\n",
            "      \"        model.x = pe.Var(model.edge_set, domain=pe.Binary)\\n\",\r\n",
            "      \"\\n\",\r\n",
            "      \"        # Create the objective\\n\",\r\n",
            "      \"        def obj_rule(model):\\n\",\r\n",
            "      \"            return  sum(data['Capacity']*model.pi[e] for e,data in self.arc_data.iterrows() if data['Capacity']>=0) +\\\\\\n\",\r\n",
            "      \"                    sum(data['SupplyDemand']*model.rho[n] for n,data in self.node_data.iterrows())\\n\",\r\n",
            "      \"\\n\",\r\n",
            "      \"        model.OBJ = pe.Objective(rule=obj_rule, sense=pe.maximize)\\n\",\r\n",
            "      \"\\n\",\r\n",
            "      \"        # Create the constraints for y_ij\\n\",\r\n",
            "      \"        def edge_constraint_rule(model, i, j):\\n\",\r\n",
            "      \"            attackable = int(self.arc_data['Attackable'].get((i,j),0))\\n\",\r\n",
            "      \"            hasCap = int(self.arc_data['Capacity'].get((i,j),-1)>=0)\\n\",\r\n",
            "      \"            return model.rho[j] - model.rho[i] + model.pi[(i,j)]*hasCap <=  self.arc_data['Cost'].get((i,j),0) + (2*self.nCmax+1)*model.x[(i,j)]*attackable\\n\",\r\n",
            "      \"\\n\",\r\n",
            "      \"        model.DualEdgeConstraint = pe.Constraint(model.edge_set, rule=edge_constraint_rule)\\n\",\r\n",
            "      \"        \\n\",\r\n",
            "      \"        # Create constraints for the UnsatDemand variables \\n\",\r\n",
            "      \"        def unsat_constraint_rule(model, n):\\n\",\r\n",
            "      \"            imbalance = self.node_data['SupplyDemand'].get(n,0)\\n\",\r\n",
            "      \"            supply_node = int(imbalance < 0)\\n\",\r\n",
            "      \"            demand_node = int(imbalance > 0)\\n\",\r\n",
            "      \"            if (supply_node):\\n\",\r\n",
            "      \"                return -model.rho[n] <= self.nCmax\\n\",\r\n",
            "      \"            if (demand_node):\\n\",\r\n",
            "      \"                return model.rho[n] <= self.nCmax\\n\",\r\n",
            "      \"            return pe.Constraint.Skip\\n\",\r\n",
            "      \"\\n\",\r\n",
            "      \"        model.UnsatConstraint = pe.Constraint(model.node_set, rule=unsat_constraint_rule)\\n\",\r\n",
            "      \"     \\n\",\r\n",
            "      \"        # Create the interdiction budget constraint \\n\",\r\n",
            "      \"        def block_limit_rule(model):\\n\",\r\n",
            "      \"            model.attacks = self.attacks\\n\",\r\n",
            "      \"            return pe.summation(model.x) <= model.attacks\\n\",\r\n",
            "      \"\\n\",\r\n",
            "      \"        model.BlockLimit = pe.Constraint(rule=block_limit_rule)\\n\",\r\n",
            "      \"\\n\",\r\n",
            "      \"        # Create, save the model\\n\",\r\n",
            "      \"        self.Idual = model\\n\",\r\n",
            "      \"\\n\",\r\n",
            "      \"    def solve(self, tee=False):\\n\",\r\n",
            "      \"        solver = pyomo.opt.SolverFactory('cplex')\\n\",\r\n",
            "      \"\\n\",\r\n",
            "      \"        # Solve the dual first\\n\",\r\n",
            "      \"        self.Idual.BlockLimit.construct()\\n\",\r\n",
            "      \"        self.Idual.BlockLimit._constructed = False\\n\",\r\n",
            "      \"        del self.Idual.BlockLimit._data[None] \\n\",\r\n",
            "      \"        self.Idual.BlockLimit.reconstruct()\\n\",\r\n",
            "      \"        self.Idual.preprocess()\\n\",\r\n",
            "      \"        results = solver.solve(self.Idual, tee=tee, keepfiles=False, options_string=\\\"mip_tolerances_integrality=1e-9 mip_tolerances_mipgap=0\\\")\\n\",\r\n",
            "      \"\\n\",\r\n",
            "      \"        # Check that we actually computed an optimal solution, load results\\n\",\r\n",
            "      \"        if (results.solver.status != pyomo.opt.SolverStatus.ok):\\n\",\r\n",
            "      \"            logging.warning('Check solver not ok?')\\n\",\r\n",
            "      \"        if (results.solver.termination_condition != pyomo.opt.TerminationCondition.optimal):  \\n\",\r\n",
            "      \"            logging.warning('Check solver optimality?')\\n\",\r\n",
            "      \"\\n\",\r\n",
            "      \"        self.Idual.solutions.load_from(results)\\n\",\r\n",
            "      \"        # Now put interdictions into xbar and solve primal\\n\",\r\n",
            "      \"       \\n\",\r\n",
            "      \"        for e in self.arc_data.index:\\n\",\r\n",
            "      \"            self.arc_data.ix[e,'xbar'] = self.Idual.x[e].value\\n\",\r\n",
            "      \"\\n\",\r\n",
            "      \"        self.primal.OBJ.construct()\\n\",\r\n",
            "      \"        self.primal.OBJ._constructed = False\\n\",\r\n",
            "      \"        self.primal.OBJ._init_sense = pe.minimize\\n\",\r\n",
            "      \"        del self.primal.OBJ._data[None] \\n\",\r\n",
            "      \"        self.primal.OBJ.reconstruct()\\n\",\r\n",
            "      \"        self.primal.preprocess()\\n\",\r\n",
            "      \"        results = solver.solve(self.primal, tee=tee, keepfiles=False, options_string=\\\"mip_tolerances_integrality=1e-9 mip_tolerances_mipgap=0\\\")\\n\",\r\n",
            "      \"\\n\",\r\n",
            "      \"        # Check that we actually computed an optimal solution, load results\\n\",\r\n",
            "      \"        if (results.solver.status != pyomo.opt.SolverStatus.ok):\\n\",\r\n",
            "      \"            logging.warning('Check solver not ok?')\\n\",\r\n",
            "      \"        if (results.solver.termination_condition != pyomo.opt.TerminationCondition.optimal):  \\n\",\r\n",
            "      \"            logging.warning('Check solver optimality?')\\n\",\r\n",
            "      \"\\n\",\r\n",
            "      \"        self.primal.solutions.load_from(results)\\n\",\r\n",
            "      \"\\n\",\r\n",
            "      \"    def printSolution(self):\\n\",\r\n",
            "      \"        print\\n\",\r\n",
            "      \"        print 'Using %d attacks:'%self.attacks\\n\",\r\n",
            "      \"        print\\n\",\r\n",
            "      \"        edges = sorted(self.arc_set)\\n\",\r\n",
            "      \"        for e in edges:\\n\",\r\n",
            "      \"            if self.Idual.x[e].value > 0:\\n\",\r\n",
            "      \"                print 'Interdict arc %s -> %s'%(str(e[0]), str(e[1]))\\n\",\r\n",
            "      \"        print\\n\",\r\n",
            "      \"        \\n\",\r\n",
            "      \"        nodes = sorted(self.node_data.index)\\n\",\r\n",
            "      \"        for n in nodes:\\n\",\r\n",
            "      \"            remaining_supply = self.primal.UnsatSupply[n].value\\n\",\r\n",
            "      \"            if remaining_supply > 0:\\n\",\r\n",
            "      \"                print 'Remaining supply on node %s: %.2f'%(str(n), remaining_supply)\\n\",\r\n",
            "      \"        for n in nodes:\\n\",\r\n",
            "      \"            remaining_demand = self.primal.UnsatDemand[n].value\\n\",\r\n",
            "      \"            if remaining_demand > 0:\\n\",\r\n",
            "      \"                print 'Remaining demand on node %s: %.2f'%(str(n), remaining_demand)\\n\",\r\n",
            "      \"        print\\n\",\r\n",
            "      \"        \\n\",\r\n",
            "      \"        for e0,e1 in self.arc_set:\\n\",\r\n",
            "      \"            flow = self.primal.y[(e0,e1)].value\\n\",\r\n",
            "      \"            if flow > 0:\\n\",\r\n",
            "      \"                print 'Flow on arc %s -> %s: %.2f'%(str(e0), str(e1), flow)\\n\",\r\n",
            "      \"        print\\n\",\r\n",
            "      \"\\n\",\r\n",
            "      \"        print '----------'\\n\",\r\n",
            "      \"        print 'Total cost = %.2f (primal) %.2f (dual)'%(self.primal.OBJ(), self.Idual.OBJ())\\n\",\r\n",
            "      \"\\n\",\r\n",
            "      \"\\n\",\r\n",
            "      \"########################\\n\",\r\n",
            "      \"# Now lets do something\\n\",\r\n",
            "      \"########################\\n\",\r\n",
            "      \"\\n\",\r\n",
            "      \"if __name__ == '__main__':\\n\",\r\n",
            "      \"    m = MinCostFlowInterdiction('sample_nodes_data.csv', 'sample_arcs_data.csv')\\n\",\r\n",
            "      \"    m.solve()\\n\",\r\n",
            "      \"    m.printSolution()\\n\",\r\n",
            "      \"    m.attacks = 1\\n\",\r\n",
            "      \"    m.solve()\\n\",\r\n",
            "      \"    m.printSolution()\\n\",\r\n",
            "      \"    m.attacks = 2\\n\",\r\n",
            "      \"    m.solve()\\n\",\r\n",
            "      \"    m.printSolution()\\n\"\r\n",
            "     ],\r\n",
            "     \"language\": \"python\",\r\n",
            "     \"metadata\": {},\r\n",
            "     \"outputs\": [\r\n",
            "      {\r\n",
            "       \"output_type\": \"stream\",\r\n",
            "       \"stream\": \"stdout\",\r\n",
            "       \"text\": [\r\n",
            "        \"\\n\",\r\n",
            "        \"Using 0 attacks:\\n\",\r\n",
            "        \"\\n\",\r\n",
            "        \"\\n\",\r\n",
            "        \"\\n\",\r\n",
            "        \"Flow on arc B -> End: 30.00\\n\",\r\n",
            "        \"Flow on arc C -> B: 20.00\\n\",\r\n",
            "        \"Flow on arc Start -> B: 10.00\\n\",\r\n",
            "        \"Flow on arc Start -> C: 10.00\\n\",\r\n",
            "        \"\\n\",\r\n",
            "        \"----------\\n\",\r\n",
            "        \"Total cost = 700.00 (primal) 700.00 (dual)\\n\"\r\n",
            "       ]\r\n",
            "      },\r\n",
            "      {\r\n",
            "       \"output_type\": \"stream\",\r\n",
            "       \"stream\": \"stdout\",\r\n",
            "       \"text\": [\r\n",
            "        \"\\n\",\r\n",
            "        \"Using 1 attacks:\\n\",\r\n",
            "        \"\\n\",\r\n",
            "        \"Interdict arc Start -> C\\n\",\r\n",
            "        \"\\n\",\r\n",
            "        \"Remaining supply on node Start: 10.00\\n\",\r\n",
            "        \"Remaining demand on node End: 10.00\\n\",\r\n",
            "        \"\\n\",\r\n",
            "        \"Flow on arc B -> End: 20.00\\n\",\r\n",
            "        \"Flow on arc C -> B: 10.00\\n\",\r\n",
            "        \"Flow on arc Start -> B: 10.00\\n\",\r\n",
            "        \"\\n\",\r\n",
            "        \"----------\\n\",\r\n",
            "        \"Total cost = 7300.00 (primal) 7300.00 (dual)\\n\"\r\n",
            "       ]\r\n",
            "      },\r\n",
            "      {\r\n",
            "       \"output_type\": \"stream\",\r\n",
            "       \"stream\": \"stdout\",\r\n",
            "       \"text\": [\r\n",
            "        \"\\n\",\r\n",
            "        \"Using 2 attacks:\\n\",\r\n",
            "        \"\\n\",\r\n",
            "        \"Interdict arc B -> End\\n\",\r\n",
            "        \"Interdict arc C -> D\\n\",\r\n",
            "        \"\\n\",\r\n",
            "        \"Remaining supply on node C: 10.00\\n\",\r\n",
            "        \"Remaining supply on node Start: 20.00\\n\",\r\n",
            "        \"Remaining demand on node End: 30.00\\n\",\r\n",
            "        \"\\n\",\r\n",
            "        \"\\n\",\r\n",
            "        \"----------\\n\",\r\n",
            "        \"Total cost = 21000.00 (primal) 21000.00 (dual)\\n\"\r\n",
            "       ]\r\n",
            "      }\r\n",
            "     ],\r\n",
            "     \"prompt_number\": 2\r\n",
            "    },\r\n",
            "    {\r\n",
            "     \"cell_type\": \"code\",\r\n",
            "     \"collapsed\": false,\r\n",
            "     \"input\": [],\r\n",
            "     \"language\": \"python\",\r\n",
            "     \"metadata\": {},\r\n",
            "     \"outputs\": []\r\n",
            "    }\r\n",
            "   ],\r\n",
            "   \"metadata\": {}\r\n",
            "  }\r\n",
            " ]\r\n",
            "}"
          ]
        }
      ]
    },
    {
      "cell_type": "code",
      "source": [
        "!python min_cost_flow_interdict.py"
      ],
      "metadata": {
        "id": "zIgY35adTUFR",
        "colab": {
          "base_uri": "https://localhost:8080/"
        },
        "outputId": "a1e6114e-1ed2-473f-d2f4-ad34d8270ece"
      },
      "execution_count": null,
      "outputs": [
        {
          "output_type": "stream",
          "name": "stdout",
          "text": [
            "python3: can't open file 'min_cost_flow_interdict.py': [Errno 2] No such file or directory\n"
          ]
        }
      ]
    },
    {
      "cell_type": "markdown",
      "source": [
        "### 6.4 Multi Commodity Flow Interdiction"
      ],
      "metadata": {
        "id": "ZKDPiya7uB5V"
      }
    },
    {
      "cell_type": "code",
      "source": [
        "!cat /content/gdrive/MyDrive/HW-11-Files/multi_commodity_flow_interdict.py"
      ],
      "metadata": {
        "id": "1D8_nvV4HTIe",
        "colab": {
          "base_uri": "https://localhost:8080/"
        },
        "outputId": "bf353858-618a-47be-ea39-20c737b995f0"
      },
      "execution_count": null,
      "outputs": [
        {
          "output_type": "stream",
          "name": "stdout",
          "text": [
            "import pandas\r\n",
            "import pyomo\r\n",
            "import pyomo.opt\r\n",
            "import pyomo.environ as pe\r\n",
            "import logging\r\n",
            "\r\n",
            "class MultiCommodityInterdiction:\r\n",
            "    \"\"\"A class to compute multicommodity flow interdictions.\"\"\"\r\n",
            "\r\n",
            "    def __init__(self, nodefile, node_commodity_file, arcfile, arc_commodity_file, attacks=0):\r\n",
            "        \"\"\"\r\n",
            "        All the files are CSVs with columns described below.  Attacks is the number of attacks.\r\n",
            "\r\n",
            "        - nodefile:\r\n",
            "            Node\r\n",
            "\r\n",
            "        Every node must appear as a line in the nodefile.  You can have additional columns as well.\r\n",
            "\r\n",
            "        - node_commodity_file:\r\n",
            "            Node,Commodity,SupplyDemand\r\n",
            "\r\n",
            "        Every commodity node imbalance that is not zero must appear in the node_commodity_file\r\n",
            "\r\n",
            "        - arcfile:\r\n",
            "            StartNode,EndNode,Capacity,Attackable\r\n",
            "\r\n",
            "        Every arc must appear in the arcfile.  Also the arcs total capacity and whether we can attack this arc.\r\n",
            "\r\n",
            "        - arc_commodity_file:\r\n",
            "            StartNode,EndNode,Commodity,Cost,Capacity\r\n",
            "\r\n",
            "        This file specifies the costs and capacities of moving each commodity across each arc.  If an (node, node, commodity) tuple does not appear in this file, then it means the commodity cannot flow across that edge.\r\n",
            "        \"\"\"\r\n",
            "        # Read in the node_data\r\n",
            "        self.node_data = pandas.read_csv(nodefile)\r\n",
            "        self.node_data.set_index(['Node'], inplace=True)\r\n",
            "        self.node_data.sort_index(inplace=True)\r\n",
            "        # Read in the node_commodity_data\r\n",
            "        self.node_commodity_data = pandas.read_csv(node_commodity_file)\r\n",
            "        self.node_commodity_data.set_index(['Node','Commodity'], inplace=True)\r\n",
            "        self.node_commodity_data.sort_index(inplace=True)\r\n",
            "        # Read in the arc_data\r\n",
            "        self.arc_data = pandas.read_csv(arcfile)\r\n",
            "        self.arc_data.set_index(['StartNode','EndNode'], inplace=True)\r\n",
            "        self.arc_data.sort_index(inplace=True)\r\n",
            "        # Read in the arc_commodity_data\r\n",
            "        self.arc_commodity_data = pandas.read_csv(arc_commodity_file)\r\n",
            "        self.arc_commodity_data['xbar'] = 0\r\n",
            "        self.arc_commodity_data.set_index(['StartNode','EndNode','Commodity'], inplace=True)\r\n",
            "        self.arc_commodity_data.sort_index(inplace=True)\r\n",
            "        # Can df.reset_index() to go back\r\n",
            "\r\n",
            "        self.attacks = attacks\r\n",
            "     \r\n",
            "        self.node_set = self.node_data.index.unique()\r\n",
            "        self.commodity_set = self.node_commodity_data.index.levels[1].unique()\r\n",
            "        self.arc_set = self.arc_data.index.unique()\r\n",
            "        \r\n",
            "        # Compute nCmax\r\n",
            "        self.nCmax = len(self.node_set) * self.arc_commodity_data['Cost'].max()\r\n",
            "\r\n",
            "        self.createPrimal()\r\n",
            "        self.createInterdictionDual()\r\n",
            "\r\n",
            "\r\n",
            "    def createPrimal(self):  \r\n",
            "        \"\"\"Create the primal pyomo model.  \r\n",
            "        \r\n",
            "        This is used to compute flows after interdiction.  The interdiction is stored in arc_commodity_data.xbar.\"\"\"\r\n",
            "\r\n",
            "        model = pe.ConcreteModel()\r\n",
            "        # Tell pyomo to read in dual-variable information from the solver\r\n",
            "        model.dual = pe.Suffix(direction=pe.Suffix.IMPORT) \r\n",
            "\r\n",
            "        # Add the sets\r\n",
            "        model.node_set = pe.Set( initialize=self.node_set )\r\n",
            "        model.edge_set = pe.Set( initialize=self.arc_set, dimen=2)\r\n",
            "        model.commodity_set = pe.Set( initialize=self.commodity_set )\r\n",
            "\r\n",
            "        # Create the variables\r\n",
            "        model.y = pe.Var(model.edge_set*model.commodity_set, domain=pe.NonNegativeReals) \r\n",
            "        model.UnsatSupply = pe.Var(model.node_set*model.commodity_set, domain=pe.NonNegativeReals)\r\n",
            "        model.UnsatDemand = pe.Var(model.node_set*model.commodity_set, domain=pe.NonNegativeReals)\r\n",
            "        \r\n",
            "        # Create the objective\r\n",
            "        def obj_rule(model):\r\n",
            "            return  sum( (data['Cost']+data['xbar']*(2*self.nCmax+1))*model.y[e] for e,data in self.arc_commodity_data.iterrows()) + sum(self.nCmax*(model.UnsatSupply[n] + model.UnsatDemand[n]) for n,data in self.node_commodity_data.iterrows())\r\n",
            "        model.OBJ = pe.Objective(rule=obj_rule, sense=pe.minimize)\r\n",
            "\r\n",
            "        # Create the constraints, one for each node\r\n",
            "        def flow_bal_rule(model, n,k):\r\n",
            "            tmp = self.arc_data.reset_index()\r\n",
            "            successors = tmp.ix[ tmp.StartNode == n, 'EndNode'].values\r\n",
            "            predecessors = tmp.ix[ tmp.EndNode == n, 'StartNode'].values \r\n",
            "            lhs = sum(model.y[(i,n,k)] for i in predecessors) - sum(model.y[(n,i,k)] for i in successors) \r\n",
            "            imbalance = self.node_commodity_data['SupplyDemand'].get((n,k),0)\r\n",
            "            supply_node = int(imbalance < 0)\r\n",
            "            demand_node = int(imbalance > 0)\r\n",
            "            rhs = (imbalance + model.UnsatSupply[n,k]*(supply_node) - model.UnsatDemand[n,k]*(demand_node))\r\n",
            "            constr = (lhs == rhs)\r\n",
            "            if isinstance(constr, bool):\r\n",
            "                return pe.Constraint.Skip\r\n",
            "            return constr\r\n",
            "\r\n",
            "        model.FlowBalance = pe.Constraint(model.node_set*model.commodity_set, rule=flow_bal_rule)\r\n",
            "        \r\n",
            "        # Capacity constraints, one for each edge and commodity\r\n",
            "        def capacity_rule(model, i, j, k):\r\n",
            "            capacity = self.arc_commodity_data['Capacity'].get((i,j,k),-1)\r\n",
            "            if capacity < 0:\r\n",
            "                return pe.Constraint.Skip\r\n",
            "            return model.y[(i,j,k)] <= capacity \r\n",
            "\r\n",
            "        model.Capacity = pe.Constraint(model.edge_set*model.commodity_set, rule=capacity_rule)\r\n",
            " \r\n",
            "        # Joint capacity constraints, one for each edge\r\n",
            "        def joint_capacity_rule(model, i, j):\r\n",
            "            capacity = self.arc_data['Capacity'].get((i,j), -1)\r\n",
            "            if capacity < 0:\r\n",
            "                return pe.Constraint.Skip\r\n",
            "            return sum(model.y[(i,j,k)] for k in self.commodity_set) <= capacity\r\n",
            "\r\n",
            "        model.JointCapacity = pe.Constraint(model.edge_set, rule=joint_capacity_rule)\r\n",
            "\r\n",
            "        # Store the model\r\n",
            "        self.primal = model\r\n",
            "\r\n",
            "    def createInterdictionDual(self):\r\n",
            "        # Create the model\r\n",
            "        model = pe.ConcreteModel()\r\n",
            "        \r\n",
            "        # Add the sets\r\n",
            "        model.node_set = pe.Set( initialize=self.node_set )\r\n",
            "        model.edge_set = pe.Set( initialize=self.arc_set, dimen=2)\r\n",
            "        model.commodity_set = pe.Set( initialize=self.commodity_set )\r\n",
            "\r\n",
            "        # Create the variables\r\n",
            "        model.rho = pe.Var(model.node_set*model.commodity_set, domain=pe.Reals)\r\n",
            "        model.piSingle = pe.Var(model.edge_set*model.commodity_set, domain=pe.NonPositiveReals)\r\n",
            "        model.piJoint = pe.Var(model.edge_set, domain=pe.NonPositiveReals)\r\n",
            "        \r\n",
            "        model.x = pe.Var(model.edge_set, domain=pe.Binary)\r\n",
            "\r\n",
            "        # Create the objective\r\n",
            "        def obj_rule(model):\r\n",
            "            return  sum(data['Capacity']*model.piJoint[e] for e,data in self.arc_data.iterrows() if data['Capacity']>=0) +\\\r\n",
            "                    sum(data['Capacity']*model.piSingle[e] for e,data in self.arc_commodity_data.iterrows() if data['Capacity']>=0)+\\\r\n",
            "                    sum(data['SupplyDemand']*model.rho[n] for n,data in self.node_commodity_data.iterrows())\r\n",
            "\r\n",
            "        model.OBJ = pe.Objective(rule=obj_rule, sense=pe.maximize)\r\n",
            "\r\n",
            "        # Create the constraints for y_ijk\r\n",
            "        def edge_constraint_rule(model, i, j, k):\r\n",
            "            if (i,j,k) not in self.arc_commodity_data.index:\r\n",
            "                return pe.Constraint.Skip\r\n",
            "            attackable = int(self.arc_data['Attackable'].get((i,j),0))\r\n",
            "            hasSingleCap = int(self.arc_commodity_data['Capacity'].get((i,j,k),-1)>=0)\r\n",
            "            hasJointCap = int(self.arc_data['Capacity'].get((i,j),-1)>=0)\r\n",
            "            return model.rho[(j,k)] - model.rho[(i,k)] + model.piSingle[(i,j,k)]*hasSingleCap + model.piJoint[(i,j)]*hasJointCap <=  self.arc_commodity_data['Cost'].get((i,j,k)) + (2*self.nCmax+1)*model.x[(i,j)]*attackable\r\n",
            "\r\n",
            "        model.DualEdgeConstraint = pe.Constraint(model.edge_set*model.commodity_set, rule=edge_constraint_rule)\r\n",
            "        \r\n",
            "        # Create constraints for the UnsatDemand variables \r\n",
            "        def unsat_constraint_rule(model, n, k):\r\n",
            "            if (n,k) not in self.node_commodity_data.index:\r\n",
            "                return pe.Constraint.Skip\r\n",
            "            imbalance = self.node_commodity_data['SupplyDemand'].get((n,k),0)\r\n",
            "            supply_node = int(imbalance < 0)\r\n",
            "            demand_node = int(imbalance > 0)\r\n",
            "            if (supply_node):\r\n",
            "                return -model.rho[(n,k)] <= self.nCmax\r\n",
            "            if (demand_node):\r\n",
            "                return model.rho[(n,k)] <= self.nCmax\r\n",
            "            return pe.Constraint.Skip\r\n",
            "\r\n",
            "        model.UnsatConstraint = pe.Constraint(model.node_set*model.commodity_set, rule=unsat_constraint_rule)\r\n",
            "     \r\n",
            "        # Create the interdiction budget constraint \r\n",
            "        def block_limit_rule(model):\r\n",
            "            model.attacks = self.attacks\r\n",
            "            return pe.summation(model.x) <= model.attacks\r\n",
            "\r\n",
            "        model.BlockLimit = pe.Constraint(rule=block_limit_rule)\r\n",
            "\r\n",
            "        # Create, save the model\r\n",
            "        self.Idual = model\r\n",
            "\r\n",
            "    def solve(self, tee=False):\r\n",
            "        solver = pyomo.opt.SolverFactory('cplex')\r\n",
            "\r\n",
            "        # Solve the dual first\r\n",
            "        self.Idual.BlockLimit.construct()\r\n",
            "        self.Idual.BlockLimit._constructed = False\r\n",
            "        del self.Idual.BlockLimit._data[None] \r\n",
            "        self.Idual.BlockLimit.reconstruct()\r\n",
            "        self.Idual.preprocess()\r\n",
            "        results = solver.solve(self.Idual, tee=tee, keepfiles=False, options_string=\"mip_tolerances_integrality=1e-9 mip_tolerances_mipgap=0\")\r\n",
            "\r\n",
            "        # Check that we actually computed an optimal solution, load results\r\n",
            "        if (results.solver.status != pyomo.opt.SolverStatus.ok):\r\n",
            "            logging.warning('Check solver not ok?')\r\n",
            "        if (results.solver.termination_condition != pyomo.opt.TerminationCondition.optimal):  \r\n",
            "            logging.warning('Check solver optimality?')\r\n",
            "\r\n",
            "        self.Idual.solutions.load_from(results)\r\n",
            "        # Now put interdictions into xbar and solve primal\r\n",
            "       \r\n",
            "        for e in self.arc_data.index:\r\n",
            "            self.arc_commodity_data.ix[e,'xbar'] = self.Idual.x[e].value\r\n",
            "\r\n",
            "        self.primal.OBJ.construct()\r\n",
            "        self.primal.OBJ._constructed = False\r\n",
            "        self.primal.OBJ._init_sense = pe.minimize\r\n",
            "        del self.primal.OBJ._data[None] \r\n",
            "        self.primal.OBJ.reconstruct()\r\n",
            "        self.primal.preprocess()\r\n",
            "        results = solver.solve(self.primal, tee=tee, keepfiles=False, options_string=\"mip_tolerances_integrality=1e-9 mip_tolerances_mipgap=0\")\r\n",
            "\r\n",
            "        # Check that we actually computed an optimal solution, load results\r\n",
            "        if (results.solver.status != pyomo.opt.SolverStatus.ok):\r\n",
            "            logging.warning('Check solver not ok?')\r\n",
            "        if (results.solver.termination_condition != pyomo.opt.TerminationCondition.optimal):  \r\n",
            "            logging.warning('Check solver optimality?')\r\n",
            "\r\n",
            "        self.primal.solutions.load_from(results)\r\n",
            "\r\n",
            "    def printSolution(self):\r\n",
            "        print()\r\n",
            "        print('Using %d attacks:'%self.attacks)\r\n",
            "        print()\r\n",
            "        edges = sorted(self.arc_set)\r\n",
            "        for e in edges:\r\n",
            "            if self.Idual.x[e].value > 0:\r\n",
            "                print('Interdict arc %s -> %s'%(str(e[0]), str(e[1])))\r\n",
            "        print()\r\n",
            "        \r\n",
            "        nodes = sorted(self.node_commodity_data.index)\r\n",
            "        for n in nodes:\r\n",
            "            remaining_supply = self.primal.UnsatSupply[n].value\r\n",
            "            if remaining_supply > 0:\r\n",
            "                print('Remaining supply of %s on node %s: %.2f'%(str(n[1]), str(n[0]), remaining_supply))\r\n",
            "        for n in nodes:\r\n",
            "            remaining_demand = self.primal.UnsatDemand[n].value\r\n",
            "            if remaining_demand > 0:\r\n",
            "                print('Remaining demand of %s on node %s: %.2f'%(str(n[1]), str(n[0]), remaining_demand))\r\n",
            "        print()\r\n",
            "        \r\n",
            "        for e0,e1 in self.arc_set:\r\n",
            "            for k in self.commodity_set:\r\n",
            "                flow = self.primal.y[(e0,e1,k)].value\r\n",
            "                if flow > 0:\r\n",
            "                    print('Flow on arc %s -> %s: %.2f %s'%(str(e0), str(e1), flow, str(k)))\r\n",
            "        print()\r\n",
            "\r\n",
            "        print('----------')\r\n",
            "        print('Total cost = %.2f (primal) %.2f (dual)'%(self.primal.OBJ(), self.Idual.OBJ()))\r\n",
            "\r\n",
            "\r\n",
            "########################\r\n",
            "# Now lets do something\r\n",
            "########################\r\n",
            "\r\n",
            "if __name__ == '__main__':\r\n",
            "    m = MultiCommodityInterdiction('sample_nodes_data.csv', 'sample_nodes_commodity_data.csv', 'sample_arcs_data.csv', 'sample_arcs_commodity_data.csv')\r\n",
            "    m.solve()\r\n",
            "    m.printSolution()\r\n",
            "    m.attacks = 1\r\n",
            "    m.solve()\r\n",
            "    m.printSolution()\r\n",
            "    m.attacks = 2\r\n",
            "    m.solve()\r\n",
            "    m.printSolution()"
          ]
        }
      ]
    },
    {
      "cell_type": "code",
      "source": [
        "!python multi_commodity_flow_interdict.py"
      ],
      "metadata": {
        "id": "pejPh7mpTeZE",
        "colab": {
          "base_uri": "https://localhost:8080/"
        },
        "outputId": "be5c38e4-e172-4bdb-92f4-fd2600e762fa"
      },
      "execution_count": null,
      "outputs": [
        {
          "output_type": "stream",
          "name": "stdout",
          "text": [
            "python3: can't open file 'multi_commodity_flow_interdict.py': [Errno 2] No such file or directory\n"
          ]
        }
      ]
    },
    {
      "cell_type": "markdown",
      "source": [
        "## 7.- [Row Generation and MST](https://github.com/Pyomo/PyomoGallery/wiki/Row-Generation-and-MST)"
      ],
      "metadata": {
        "id": "LgE0SsvF82bW"
      }
    },
    {
      "cell_type": "code",
      "source": [
        "!cat /content/gdrive/MyDrive/HW-11-Files/mst.py"
      ],
      "metadata": {
        "id": "e3Uf-Enp83nZ",
        "colab": {
          "base_uri": "https://localhost:8080/"
        },
        "outputId": "1d05c469-34c2-4ba6-fbba-047b81c9d2ed"
      },
      "execution_count": null,
      "outputs": [
        {
          "output_type": "stream",
          "name": "stdout",
          "text": [
            "import pyomo\r\n",
            "import pyomo.opt\r\n",
            "import pyomo.environ as pe\r\n",
            "import pandas\r\n",
            "import networkx\r\n",
            "\r\n",
            "class MSTRowGeneration:\r\n",
            "    \"\"\"A class to find Minimum Spanning Tree using a row-generation algorithm.\"\"\"\r\n",
            "\r\n",
            "    def __init__(self, nfile):\r\n",
            "        \"\"\"The input is a CSV file describing the undirected network's edges.\"\"\"\r\n",
            "        self.df = pandas.read_csv(nfile)\r\n",
            "\r\n",
            "        self.createRelaxedModel()\r\n",
            "\r\n",
            "    def createRelaxedModel(self):\r\n",
            "        \"\"\"Create the relaxed model, without any subtour elimination constraints.\"\"\"\r\n",
            "        df = self.df\r\n",
            "        node_set = set( list( df.startNode ) + list(df.destNode) )\r\n",
            "\r\n",
            "        # Create the model and sets\r\n",
            "        m = pe.ConcreteModel()\r\n",
            "\r\n",
            "        df.set_index(['startNode','destNode'], inplace=True)\r\n",
            "        edge_set = df.index.unique()\r\n",
            "\r\n",
            "        m.edge_set = pe.Set(initialize=edge_set, dimen=2)\r\n",
            "        m.node_set = pe.Set(initialize=node_set)\r\n",
            "    \r\n",
            "        # Define variables\r\n",
            "        m.Y = pe.Var(m.edge_set, domain=pe.Binary)\r\n",
            "\r\n",
            "        # Objective\r\n",
            "        def obj_rule(m):\r\n",
            "            return sum( m.Y[e] * df.ix[e,'dist'] for e in m.edge_set)\r\n",
            "        m.OBJ = pe.Objective(rule=obj_rule, sense=pe.minimize)\r\n",
            "\r\n",
            "        # Add the n-1 constraint\r\n",
            "        def simple_const_rule(m):\r\n",
            "            return sum( m.Y[e] for e in m.edge_set ) == len(node_set) - 1\r\n",
            "        m.simpleConst = pe.Constraint(rule = simple_const_rule)\r\n",
            "       \r\n",
            "        # Empty constraint list for subtour elimination constraints\r\n",
            "        # This is where the generated rows will go\r\n",
            "        m.ccConstraints = pe.ConstraintList()\r\n",
            "\r\n",
            "        self.m = m\r\n",
            "\r\n",
            "    def convertYsToNetworkx(self):\r\n",
            "        \"\"\"Convert the model's Y variables into a networkx object.\"\"\"\r\n",
            "        ans = networkx.Graph()\r\n",
            "        edges = [e for e in self.m.edge_set if self.m.Y[e].value > .99]\r\n",
            "        ans.add_edges_from(edges)\r\n",
            "        return ans\r\n",
            "\r\n",
            "    def solve(self):\r\n",
            "        \"\"\"Solve for the MST, using row generation for subtour elimination constraints.\"\"\"\r\n",
            "        def createConstForCC(m, cc):\r\n",
            "            cc = dict.fromkeys(cc)\r\n",
            "            return sum( m.Y[e] for e in m.edge_set if ((e[0] in cc) and (e[1] in cc))) <= len(cc) - 1\r\n",
            "        \r\n",
            "        if not hasattr(self, 'solver'):\r\n",
            "            solver = pyomo.opt.SolverFactory('gurobi')\r\n",
            "\r\n",
            "        done = False\r\n",
            "        while not done:\r\n",
            "            # Solve once and add subtour elimination constraints if necessary\r\n",
            "            # Finish when there are no more subtours\r\n",
            "            results = solver.solve(self.m, tee=False, keepfiles=False, options_string=\"mip_tolerances_integrality=1e-9 mip_tolerances_mipgap=0\")\r\n",
            "            # Construct a graph from the answer, and look for subtours\r\n",
            "            graph = self.convertYsToNetworkx()\r\n",
            "            ccs = list(networkx.connected_component_subgraphs(graph))\r\n",
            "            for cc in ccs:\r\n",
            "                print('Adding constraint for connected component:')\r\n",
            "                print(cc.nodes())\r\n",
            "                print(createConstForCC(self.m, cc))\r\n",
            "                print('--------------\\n')\r\n",
            "                self.m.ccConstraints.add( createConstForCC(self.m, cc) )\r\n",
            "            if ccs[0].number_of_nodes() == len(self.m.node_set):\r\n",
            "                done = True\r\n",
            "\r\n",
            "mst = MSTRowGeneration('mst.csv')\r\n",
            "mst.solve()\r\n",
            "\r\n",
            "mst.m.Y.pprint()\r\n",
            "print(mst.m.OBJ())"
          ]
        }
      ]
    },
    {
      "cell_type": "code",
      "source": [
        "!python mst.py"
      ],
      "metadata": {
        "id": "arzDcDNQtvgk",
        "colab": {
          "base_uri": "https://localhost:8080/"
        },
        "outputId": "c49f4e24-f747-48ca-ed66-334992307b47"
      },
      "execution_count": null,
      "outputs": [
        {
          "output_type": "stream",
          "name": "stdout",
          "text": [
            "python3: can't open file 'mst.py': [Errno 2] No such file or directory\n"
          ]
        }
      ]
    },
    {
      "cell_type": "markdown",
      "source": [
        "## 8.- [Loading ASL Results in a Model](asl_io/asl_io.ipynb)"
      ],
      "metadata": {
        "id": "OuI0_knov5rQ"
      }
    },
    {
      "cell_type": "markdown",
      "source": [
        "**Summary**"
      ],
      "metadata": {
        "id": "35d4kH0MwisN"
      }
    },
    {
      "cell_type": "markdown",
      "source": [
        "In this scripting example we break apart the work flow that occurs when a Pyomo model is solved using the ASL solver plugin. The ASL solver plugin is a generic interface designed for solvers that utilize the AMPL Solver Library. This library takes model input in the form of an NL file and provides a solver solution in the form of an SOL file. As such, it provides a single unifying framework for interacting with a wide array of optimization solvers.\n",
        "\n",
        "Pyomo includes separate tools for writing NL files and reading SOL files. In this example, we will show how to use these tools directly, as an alternative to calling the ASL solver plugin. In particular, we show how to save information about the symbol map created by the NL writer to a file so that it can be recovered at a later time. The symbol map that is recovered can be used to load a solution from the SOL file reader into any Pyomo model with component names that match those on the model used by the NL writer."
      ],
      "metadata": {
        "id": "7D_NZNzbwkFF"
      }
    },
    {
      "cell_type": "markdown",
      "source": [
        "**Solving With ASL**"
      ],
      "metadata": {
        "id": "m4_n4kNxwp5R"
      }
    },
    {
      "cell_type": "markdown",
      "source": [
        "Consider the case below where we solve a simple Pyomo model using Ipopt through the ASL solver plugin and then verify that the solver termination condition is optimal before loading the solution into the model. Note that this example assumes Pyomo version 4.1 or later is installed. Since Pyomo 4.1, the **load_solutions** keyword must be assigned a value of *False* when calling the *solve* method on a solver plugin in order to prevent the solution from being automatically loaded into the model. This allows us to check the solver termination condition before manually loading the solution via the call to *model.solutions.load_from*."
      ],
      "metadata": {
        "id": "OMaidix5wm66"
      }
    },
    {
      "cell_type": "code",
      "source": [
        "#%load script.py\n",
        "from pyomo.environ import *\n",
        "import pyomo\n",
        "from pyomo.opt import SolverFactory, TerminationCondition\n",
        "\n",
        "def create_model():\n",
        "    model = ConcreteModel()\n",
        "    model.x = Var()\n",
        "    model.o = Objective(expr=model.x)\n",
        "    model.c = Constraint(expr=model.x >= 1)\n",
        "    model.x.set_value(1.0)\n",
        "    return model\n",
        "\n",
        "if __name__ == \"__main__\":\n",
        "\n",
        "    with SolverFactory(\"ipopt\") as opt:\n",
        "        model = create_model()\n",
        "        results = opt.solve(model, load_solutions=False)\n",
        "        if results.solver.termination_condition != TerminationCondition.optimal:\n",
        "            raise RuntimeError('Solver did not report optimality:\\n%s'\n",
        "                               % (results.solver))\n",
        "        model.solutions.load_from(results)\n",
        "        print(\"Objective: %s\" % (model.o()))"
      ],
      "metadata": {
        "id": "DKxDJUxQwfdt",
        "colab": {
          "base_uri": "https://localhost:8080/",
          "height": 415
        },
        "outputId": "edb18aa2-8d9b-4b2a-981d-44b109712c2f"
      },
      "execution_count": null,
      "outputs": [
        {
          "output_type": "stream",
          "name": "stdout",
          "text": [
            "WARNING: Could not locate the 'ipopt' executable, which is required for solver\n",
            "    ipopt\n"
          ]
        },
        {
          "output_type": "error",
          "ename": "ApplicationError",
          "evalue": "ignored",
          "traceback": [
            "\u001b[0;31m---------------------------------------------------------------------------\u001b[0m",
            "\u001b[0;31mApplicationError\u001b[0m                          Traceback (most recent call last)",
            "\u001b[0;32m<ipython-input-43-7d59c58364ef>\u001b[0m in \u001b[0;36m<module>\u001b[0;34m()\u001b[0m\n\u001b[1;32m     16\u001b[0m     \u001b[0;32mwith\u001b[0m \u001b[0mSolverFactory\u001b[0m\u001b[0;34m(\u001b[0m\u001b[0;34m\"ipopt\"\u001b[0m\u001b[0;34m)\u001b[0m \u001b[0;32mas\u001b[0m \u001b[0mopt\u001b[0m\u001b[0;34m:\u001b[0m\u001b[0;34m\u001b[0m\u001b[0;34m\u001b[0m\u001b[0m\n\u001b[1;32m     17\u001b[0m         \u001b[0mmodel\u001b[0m \u001b[0;34m=\u001b[0m \u001b[0mcreate_model\u001b[0m\u001b[0;34m(\u001b[0m\u001b[0;34m)\u001b[0m\u001b[0;34m\u001b[0m\u001b[0;34m\u001b[0m\u001b[0m\n\u001b[0;32m---> 18\u001b[0;31m         \u001b[0mresults\u001b[0m \u001b[0;34m=\u001b[0m \u001b[0mopt\u001b[0m\u001b[0;34m.\u001b[0m\u001b[0msolve\u001b[0m\u001b[0;34m(\u001b[0m\u001b[0mmodel\u001b[0m\u001b[0;34m,\u001b[0m \u001b[0mload_solutions\u001b[0m\u001b[0;34m=\u001b[0m\u001b[0;32mFalse\u001b[0m\u001b[0;34m)\u001b[0m\u001b[0;34m\u001b[0m\u001b[0;34m\u001b[0m\u001b[0m\n\u001b[0m\u001b[1;32m     19\u001b[0m         \u001b[0;32mif\u001b[0m \u001b[0mresults\u001b[0m\u001b[0;34m.\u001b[0m\u001b[0msolver\u001b[0m\u001b[0;34m.\u001b[0m\u001b[0mtermination_condition\u001b[0m \u001b[0;34m!=\u001b[0m \u001b[0mTerminationCondition\u001b[0m\u001b[0;34m.\u001b[0m\u001b[0moptimal\u001b[0m\u001b[0;34m:\u001b[0m\u001b[0;34m\u001b[0m\u001b[0;34m\u001b[0m\u001b[0m\n\u001b[1;32m     20\u001b[0m             raise RuntimeError('Solver did not report optimality:\\n%s'\n",
            "\u001b[0;32m/usr/local/lib/python3.7/dist-packages/pyomo/opt/base/solvers.py\u001b[0m in \u001b[0;36msolve\u001b[0;34m(self, *args, **kwds)\u001b[0m\n\u001b[1;32m    510\u001b[0m         \u001b[0;34m\"\"\" Solve the problem \"\"\"\u001b[0m\u001b[0;34m\u001b[0m\u001b[0;34m\u001b[0m\u001b[0m\n\u001b[1;32m    511\u001b[0m \u001b[0;34m\u001b[0m\u001b[0m\n\u001b[0;32m--> 512\u001b[0;31m         \u001b[0mself\u001b[0m\u001b[0;34m.\u001b[0m\u001b[0mavailable\u001b[0m\u001b[0;34m(\u001b[0m\u001b[0mexception_flag\u001b[0m\u001b[0;34m=\u001b[0m\u001b[0;32mTrue\u001b[0m\u001b[0;34m)\u001b[0m\u001b[0;34m\u001b[0m\u001b[0;34m\u001b[0m\u001b[0m\n\u001b[0m\u001b[1;32m    513\u001b[0m         \u001b[0;31m#\u001b[0m\u001b[0;34m\u001b[0m\u001b[0;34m\u001b[0m\u001b[0;34m\u001b[0m\u001b[0m\n\u001b[1;32m    514\u001b[0m         \u001b[0;31m# If the inputs are models, then validate that they have been\u001b[0m\u001b[0;34m\u001b[0m\u001b[0;34m\u001b[0m\u001b[0;34m\u001b[0m\u001b[0m\n",
            "\u001b[0;32m/usr/local/lib/python3.7/dist-packages/pyomo/opt/solver/shellcmd.py\u001b[0m in \u001b[0;36mavailable\u001b[0;34m(self, exception_flag)\u001b[0m\n\u001b[1;32m    126\u001b[0m             \u001b[0;32mif\u001b[0m \u001b[0mexception_flag\u001b[0m\u001b[0;34m:\u001b[0m\u001b[0;34m\u001b[0m\u001b[0;34m\u001b[0m\u001b[0m\n\u001b[1;32m    127\u001b[0m                 \u001b[0mmsg\u001b[0m \u001b[0;34m=\u001b[0m \u001b[0;34m\"No executable found for solver '%s'\"\u001b[0m\u001b[0;34m\u001b[0m\u001b[0;34m\u001b[0m\u001b[0m\n\u001b[0;32m--> 128\u001b[0;31m                 \u001b[0;32mraise\u001b[0m \u001b[0mApplicationError\u001b[0m\u001b[0;34m(\u001b[0m\u001b[0mmsg\u001b[0m \u001b[0;34m%\u001b[0m \u001b[0mself\u001b[0m\u001b[0;34m.\u001b[0m\u001b[0mname\u001b[0m\u001b[0;34m)\u001b[0m\u001b[0;34m\u001b[0m\u001b[0;34m\u001b[0m\u001b[0m\n\u001b[0m\u001b[1;32m    129\u001b[0m             \u001b[0;32mreturn\u001b[0m \u001b[0;32mFalse\u001b[0m\u001b[0;34m\u001b[0m\u001b[0;34m\u001b[0m\u001b[0m\n\u001b[1;32m    130\u001b[0m         \u001b[0;32mreturn\u001b[0m \u001b[0;32mTrue\u001b[0m\u001b[0;34m\u001b[0m\u001b[0;34m\u001b[0m\u001b[0m\n",
            "\u001b[0;31mApplicationError\u001b[0m: No executable found for solver 'ipopt'"
          ]
        }
      ]
    },
    {
      "cell_type": "markdown",
      "source": [
        "The basic work flow that takes place above can be summarized as:\n",
        "\n",
        "1. Create an ASL solver plugin that uses the ipopt executable appearing in the shell search PATH.\n",
        "2. Construct a Pyomo model.\n",
        "3. Solve the Pyomo model.\n",
        "  A. Output the Pyomo model as an NL file.\n",
        "  B. Invoke the solver (which produces an SOL file).\n",
        "  C. Read the SOL file into a Pyomo results object.\n",
        "4. Check the solver termination condition stored in the results object.\n",
        "5. Load the solution stored in the results object into the Pyomo model."
      ],
      "metadata": {
        "id": "gZJJ7WoExCOF"
      }
    },
    {
      "cell_type": "markdown",
      "source": [
        "The remainder of this example shows how to implement step 3 without the use of the ASL solver plugin."
      ],
      "metadata": {
        "id": "QfzeAIUwxFyH"
      }
    },
    {
      "cell_type": "markdown",
      "source": [
        "A note about using the **with** statement"
      ],
      "metadata": {
        "id": "H0uYSoMhxcKl"
      }
    },
    {
      "cell_type": "markdown",
      "source": [
        "In the code provided with this example we make use of Python's **with** statement when dealing with objects returned from Pyomo Factory functions such as SolverFactory and ReaderFactory. Pyomo makes use of a Plugin system to instantiate these objects. As a result, they must be deactivated before going out of scope in order to prevent a memory leak. Deactivation of Plugins is managed automatically by the **with** statement, but can also be done by calling the deactivate method directly on the Plugin object."
      ],
      "metadata": {
        "id": "hA8LAJaWxgh_"
      }
    },
    {
      "cell_type": "markdown",
      "source": [
        "**Writing the NL File**"
      ],
      "metadata": {
        "id": "exn7859pxnHo"
      }
    },
    {
      "cell_type": "markdown",
      "source": [
        "The code block below defines the function ***write_nl*** that outputs a Pyomo model as an NL file and saves the pertinent symbol map data to a file using pickle. This symbol map data will allow a solution stored in an SOL file to be loaded into any Pyomo model with matching component names. The last section of this code block shows how this function can be used with a small example model."
      ],
      "metadata": {
        "id": "Bs3LYKVsxrKJ"
      }
    },
    {
      "cell_type": "code",
      "source": [
        "%load write.py\n",
        "import pyomo.environ\n",
        "from pyomo.core import ComponentUID\n",
        "from pyomo.opt import ProblemFormat\n",
        "# use fast version of pickle (python 2 or 3)\n",
        "from six.moves import cPickle as pickle\n",
        "\n",
        "def write_nl(model, nl_filename, **kwds):\n",
        "    \"\"\"\n",
        "    Writes a Pyomo model in NL file format and stores\n",
        "    information about the symbol map that allows it to be\n",
        "    recovered at a later time for a Pyomo model with\n",
        "    matching component names.\n",
        "    \"\"\"\n",
        "    symbol_map_filename = nl_filename+\".symbol_map.pickle\"\n",
        "\n",
        "    # write the model and obtain the symbol_map\n",
        "    _, smap_id = model.write(nl_filename,\n",
        "                             format=ProblemFormat.nl,\n",
        "                             io_options=kwds)\n",
        "    symbol_map = model.solutions.symbol_map[smap_id]\n",
        "\n",
        "    # save a persistent form of the symbol_map (using pickle) by\n",
        "    # storing the NL file label with a ComponentUID, which is\n",
        "    # an efficient lookup code for model components (created\n",
        "    # by John Siirola)\n",
        "    tmp_buffer = {} # this makes the process faster\n",
        "    symbol_cuid_pairs = tuple(\n",
        "        (symbol, ComponentUID(var_weakref(), cuid_buffer=tmp_buffer))\n",
        "        for symbol, var_weakref in symbol_map.bySymbol.items())\n",
        "    with open(symbol_map_filename, \"wb\") as f:\n",
        "        pickle.dump(symbol_cuid_pairs, f)\n",
        "\n",
        "    return symbol_map_filename\n",
        "\n",
        "if __name__ == \"__main__\":\n",
        "    from script import create_model\n",
        "\n",
        "    model = create_model()\n",
        "    nl_filename = \"example.nl\"\n",
        "    symbol_map_filename = write_nl(model, nl_filename)\n",
        "    print(\"        NL File: %s\" % (nl_filename))\n",
        "    print(\"Symbol Map File: %s\" % (symbol_map_filename))"
      ],
      "metadata": {
        "id": "75VF4hwdxvGA",
        "colab": {
          "base_uri": "https://localhost:8080/",
          "height": 502
        },
        "outputId": "c5540dfa-48c8-4bc5-c009-7877a9450ecd"
      },
      "execution_count": null,
      "outputs": [
        {
          "output_type": "error",
          "ename": "ValueError",
          "evalue": "ignored",
          "traceback": [
            "\u001b[0;31m---------------------------------------------------------------------------\u001b[0m",
            "\u001b[0;31mNameError\u001b[0m                                 Traceback (most recent call last)",
            "\u001b[0;32m/usr/local/lib/python3.7/dist-packages/IPython/core/interactiveshell.py\u001b[0m in \u001b[0;36mfind_user_code\u001b[0;34m(self, target, raw, py_only, skip_encoding_cookie, search_ns)\u001b[0m\n\u001b[1;32m   3184\u001b[0m         \u001b[0;32mtry\u001b[0m\u001b[0;34m:\u001b[0m                                              \u001b[0;31m# User namespace\u001b[0m\u001b[0;34m\u001b[0m\u001b[0;34m\u001b[0m\u001b[0m\n\u001b[0;32m-> 3185\u001b[0;31m             \u001b[0mcodeobj\u001b[0m \u001b[0;34m=\u001b[0m \u001b[0meval\u001b[0m\u001b[0;34m(\u001b[0m\u001b[0mtarget\u001b[0m\u001b[0;34m,\u001b[0m \u001b[0mself\u001b[0m\u001b[0;34m.\u001b[0m\u001b[0muser_ns\u001b[0m\u001b[0;34m)\u001b[0m\u001b[0;34m\u001b[0m\u001b[0;34m\u001b[0m\u001b[0m\n\u001b[0m\u001b[1;32m   3186\u001b[0m         \u001b[0;32mexcept\u001b[0m \u001b[0mException\u001b[0m\u001b[0;34m:\u001b[0m\u001b[0;34m\u001b[0m\u001b[0;34m\u001b[0m\u001b[0m\n",
            "\u001b[0;32m<string>\u001b[0m in \u001b[0;36m<module>\u001b[0;34m()\u001b[0m\n",
            "\u001b[0;31mNameError\u001b[0m: name 'write' is not defined",
            "\nDuring handling of the above exception, another exception occurred:\n",
            "\u001b[0;31mValueError\u001b[0m                                Traceback (most recent call last)",
            "\u001b[0;32m<ipython-input-41-88d9067be08f>\u001b[0m in \u001b[0;36m<module>\u001b[0;34m()\u001b[0m\n\u001b[0;32m----> 1\u001b[0;31m \u001b[0mget_ipython\u001b[0m\u001b[0;34m(\u001b[0m\u001b[0;34m)\u001b[0m\u001b[0;34m.\u001b[0m\u001b[0mmagic\u001b[0m\u001b[0;34m(\u001b[0m\u001b[0;34m'load write.py'\u001b[0m\u001b[0;34m)\u001b[0m\u001b[0;34m\u001b[0m\u001b[0;34m\u001b[0m\u001b[0m\n\u001b[0m\u001b[1;32m      2\u001b[0m \u001b[0;32mimport\u001b[0m \u001b[0mpyomo\u001b[0m\u001b[0;34m.\u001b[0m\u001b[0menviron\u001b[0m\u001b[0;34m\u001b[0m\u001b[0;34m\u001b[0m\u001b[0m\n\u001b[1;32m      3\u001b[0m \u001b[0;32mfrom\u001b[0m \u001b[0mpyomo\u001b[0m\u001b[0;34m.\u001b[0m\u001b[0mcore\u001b[0m \u001b[0;32mimport\u001b[0m \u001b[0mComponentUID\u001b[0m\u001b[0;34m\u001b[0m\u001b[0;34m\u001b[0m\u001b[0m\n\u001b[1;32m      4\u001b[0m \u001b[0;32mfrom\u001b[0m \u001b[0mpyomo\u001b[0m\u001b[0;34m.\u001b[0m\u001b[0mopt\u001b[0m \u001b[0;32mimport\u001b[0m \u001b[0mProblemFormat\u001b[0m\u001b[0;34m\u001b[0m\u001b[0;34m\u001b[0m\u001b[0m\n\u001b[1;32m      5\u001b[0m \u001b[0;31m# use fast version of pickle (python 2 or 3)\u001b[0m\u001b[0;34m\u001b[0m\u001b[0;34m\u001b[0m\u001b[0;34m\u001b[0m\u001b[0m\n",
            "\u001b[0;32m/usr/local/lib/python3.7/dist-packages/IPython/core/interactiveshell.py\u001b[0m in \u001b[0;36mmagic\u001b[0;34m(self, arg_s)\u001b[0m\n\u001b[1;32m   2158\u001b[0m         \u001b[0mmagic_name\u001b[0m\u001b[0;34m,\u001b[0m \u001b[0m_\u001b[0m\u001b[0;34m,\u001b[0m \u001b[0mmagic_arg_s\u001b[0m \u001b[0;34m=\u001b[0m \u001b[0marg_s\u001b[0m\u001b[0;34m.\u001b[0m\u001b[0mpartition\u001b[0m\u001b[0;34m(\u001b[0m\u001b[0;34m' '\u001b[0m\u001b[0;34m)\u001b[0m\u001b[0;34m\u001b[0m\u001b[0;34m\u001b[0m\u001b[0m\n\u001b[1;32m   2159\u001b[0m         \u001b[0mmagic_name\u001b[0m \u001b[0;34m=\u001b[0m \u001b[0mmagic_name\u001b[0m\u001b[0;34m.\u001b[0m\u001b[0mlstrip\u001b[0m\u001b[0;34m(\u001b[0m\u001b[0mprefilter\u001b[0m\u001b[0;34m.\u001b[0m\u001b[0mESC_MAGIC\u001b[0m\u001b[0;34m)\u001b[0m\u001b[0;34m\u001b[0m\u001b[0;34m\u001b[0m\u001b[0m\n\u001b[0;32m-> 2160\u001b[0;31m         \u001b[0;32mreturn\u001b[0m \u001b[0mself\u001b[0m\u001b[0;34m.\u001b[0m\u001b[0mrun_line_magic\u001b[0m\u001b[0;34m(\u001b[0m\u001b[0mmagic_name\u001b[0m\u001b[0;34m,\u001b[0m \u001b[0mmagic_arg_s\u001b[0m\u001b[0;34m)\u001b[0m\u001b[0;34m\u001b[0m\u001b[0;34m\u001b[0m\u001b[0m\n\u001b[0m\u001b[1;32m   2161\u001b[0m \u001b[0;34m\u001b[0m\u001b[0m\n\u001b[1;32m   2162\u001b[0m     \u001b[0;31m#-------------------------------------------------------------------------\u001b[0m\u001b[0;34m\u001b[0m\u001b[0;34m\u001b[0m\u001b[0;34m\u001b[0m\u001b[0m\n",
            "\u001b[0;32m/usr/local/lib/python3.7/dist-packages/IPython/core/interactiveshell.py\u001b[0m in \u001b[0;36mrun_line_magic\u001b[0;34m(self, magic_name, line)\u001b[0m\n\u001b[1;32m   2079\u001b[0m                 \u001b[0mkwargs\u001b[0m\u001b[0;34m[\u001b[0m\u001b[0;34m'local_ns'\u001b[0m\u001b[0;34m]\u001b[0m \u001b[0;34m=\u001b[0m \u001b[0msys\u001b[0m\u001b[0;34m.\u001b[0m\u001b[0m_getframe\u001b[0m\u001b[0;34m(\u001b[0m\u001b[0mstack_depth\u001b[0m\u001b[0;34m)\u001b[0m\u001b[0;34m.\u001b[0m\u001b[0mf_locals\u001b[0m\u001b[0;34m\u001b[0m\u001b[0;34m\u001b[0m\u001b[0m\n\u001b[1;32m   2080\u001b[0m             \u001b[0;32mwith\u001b[0m \u001b[0mself\u001b[0m\u001b[0;34m.\u001b[0m\u001b[0mbuiltin_trap\u001b[0m\u001b[0;34m:\u001b[0m\u001b[0;34m\u001b[0m\u001b[0;34m\u001b[0m\u001b[0m\n\u001b[0;32m-> 2081\u001b[0;31m                 \u001b[0mresult\u001b[0m \u001b[0;34m=\u001b[0m \u001b[0mfn\u001b[0m\u001b[0;34m(\u001b[0m\u001b[0;34m*\u001b[0m\u001b[0margs\u001b[0m\u001b[0;34m,\u001b[0m\u001b[0;34m**\u001b[0m\u001b[0mkwargs\u001b[0m\u001b[0;34m)\u001b[0m\u001b[0;34m\u001b[0m\u001b[0;34m\u001b[0m\u001b[0m\n\u001b[0m\u001b[1;32m   2082\u001b[0m             \u001b[0;32mreturn\u001b[0m \u001b[0mresult\u001b[0m\u001b[0;34m\u001b[0m\u001b[0;34m\u001b[0m\u001b[0m\n\u001b[1;32m   2083\u001b[0m \u001b[0;34m\u001b[0m\u001b[0m\n",
            "\u001b[0;32m<decorator-gen-39>\u001b[0m in \u001b[0;36mload\u001b[0;34m(self, arg_s)\u001b[0m\n",
            "\u001b[0;32m/usr/local/lib/python3.7/dist-packages/IPython/core/magic.py\u001b[0m in \u001b[0;36m<lambda>\u001b[0;34m(f, *a, **k)\u001b[0m\n\u001b[1;32m    186\u001b[0m     \u001b[0;31m# but it's overkill for just that one bit of state.\u001b[0m\u001b[0;34m\u001b[0m\u001b[0;34m\u001b[0m\u001b[0;34m\u001b[0m\u001b[0m\n\u001b[1;32m    187\u001b[0m     \u001b[0;32mdef\u001b[0m \u001b[0mmagic_deco\u001b[0m\u001b[0;34m(\u001b[0m\u001b[0marg\u001b[0m\u001b[0;34m)\u001b[0m\u001b[0;34m:\u001b[0m\u001b[0;34m\u001b[0m\u001b[0;34m\u001b[0m\u001b[0m\n\u001b[0;32m--> 188\u001b[0;31m         \u001b[0mcall\u001b[0m \u001b[0;34m=\u001b[0m \u001b[0;32mlambda\u001b[0m \u001b[0mf\u001b[0m\u001b[0;34m,\u001b[0m \u001b[0;34m*\u001b[0m\u001b[0ma\u001b[0m\u001b[0;34m,\u001b[0m \u001b[0;34m**\u001b[0m\u001b[0mk\u001b[0m\u001b[0;34m:\u001b[0m \u001b[0mf\u001b[0m\u001b[0;34m(\u001b[0m\u001b[0;34m*\u001b[0m\u001b[0ma\u001b[0m\u001b[0;34m,\u001b[0m \u001b[0;34m**\u001b[0m\u001b[0mk\u001b[0m\u001b[0;34m)\u001b[0m\u001b[0;34m\u001b[0m\u001b[0;34m\u001b[0m\u001b[0m\n\u001b[0m\u001b[1;32m    189\u001b[0m \u001b[0;34m\u001b[0m\u001b[0m\n\u001b[1;32m    190\u001b[0m         \u001b[0;32mif\u001b[0m \u001b[0mcallable\u001b[0m\u001b[0;34m(\u001b[0m\u001b[0marg\u001b[0m\u001b[0;34m)\u001b[0m\u001b[0;34m:\u001b[0m\u001b[0;34m\u001b[0m\u001b[0;34m\u001b[0m\u001b[0m\n",
            "\u001b[0;32m/usr/local/lib/python3.7/dist-packages/IPython/core/magics/code.py\u001b[0m in \u001b[0;36mload\u001b[0;34m(self, arg_s)\u001b[0m\n\u001b[1;32m    348\u001b[0m         \u001b[0msearch_ns\u001b[0m \u001b[0;34m=\u001b[0m \u001b[0;34m'n'\u001b[0m \u001b[0;32min\u001b[0m \u001b[0mopts\u001b[0m\u001b[0;34m\u001b[0m\u001b[0;34m\u001b[0m\u001b[0m\n\u001b[1;32m    349\u001b[0m \u001b[0;34m\u001b[0m\u001b[0m\n\u001b[0;32m--> 350\u001b[0;31m         \u001b[0mcontents\u001b[0m \u001b[0;34m=\u001b[0m \u001b[0mself\u001b[0m\u001b[0;34m.\u001b[0m\u001b[0mshell\u001b[0m\u001b[0;34m.\u001b[0m\u001b[0mfind_user_code\u001b[0m\u001b[0;34m(\u001b[0m\u001b[0margs\u001b[0m\u001b[0;34m,\u001b[0m \u001b[0msearch_ns\u001b[0m\u001b[0;34m=\u001b[0m\u001b[0msearch_ns\u001b[0m\u001b[0;34m)\u001b[0m\u001b[0;34m\u001b[0m\u001b[0;34m\u001b[0m\u001b[0m\n\u001b[0m\u001b[1;32m    351\u001b[0m \u001b[0;34m\u001b[0m\u001b[0m\n\u001b[1;32m    352\u001b[0m         \u001b[0;32mif\u001b[0m \u001b[0;34m's'\u001b[0m \u001b[0;32min\u001b[0m \u001b[0mopts\u001b[0m\u001b[0;34m:\u001b[0m\u001b[0;34m\u001b[0m\u001b[0;34m\u001b[0m\u001b[0m\n",
            "\u001b[0;32m/usr/local/lib/python3.7/dist-packages/IPython/core/interactiveshell.py\u001b[0m in \u001b[0;36mfind_user_code\u001b[0;34m(self, target, raw, py_only, skip_encoding_cookie, search_ns)\u001b[0m\n\u001b[1;32m   3186\u001b[0m         \u001b[0;32mexcept\u001b[0m \u001b[0mException\u001b[0m\u001b[0;34m:\u001b[0m\u001b[0;34m\u001b[0m\u001b[0;34m\u001b[0m\u001b[0m\n\u001b[1;32m   3187\u001b[0m             raise ValueError((\"'%s' was not found in history, as a file, url, \"\n\u001b[0;32m-> 3188\u001b[0;31m                                 \"nor in the user namespace.\") % target)\n\u001b[0m\u001b[1;32m   3189\u001b[0m \u001b[0;34m\u001b[0m\u001b[0m\n\u001b[1;32m   3190\u001b[0m         \u001b[0;32mif\u001b[0m \u001b[0misinstance\u001b[0m\u001b[0;34m(\u001b[0m\u001b[0mcodeobj\u001b[0m\u001b[0;34m,\u001b[0m \u001b[0mstring_types\u001b[0m\u001b[0;34m)\u001b[0m\u001b[0;34m:\u001b[0m\u001b[0;34m\u001b[0m\u001b[0;34m\u001b[0m\u001b[0m\n",
            "\u001b[0;31mValueError\u001b[0m: 'write.py' was not found in history, as a file, url, nor in the user namespace."
          ]
        }
      ]
    },
    {
      "cell_type": "markdown",
      "source": [
        "The first argument to this function is the Pyomo model. The second argument is the name to use for the NL file. Along with the NL file, another file with the suffix \".symbol_map.pickle\" will be created that contains information that can be used to efficiently rebuild the symbol map for any Pyomo model with component names matching those used to build the NL file. Additional options can be passed to the NL writer as keywords to this function. These include:"
      ],
      "metadata": {
        "id": "8c6GweHjx6rj"
      }
    },
    {
      "cell_type": "markdown",
      "source": [
        "**show_section_timing:** Print timing after writing major sections of the NL file. (default=False)\n",
        "\n",
        "**skip_trivial_constraints:** Skip writing constraints whose body section is fixed (i.e., no variables). (default=False)\n",
        "\n",
        "**file_determinism:** Sets the level of effort placed on ensuring the NL file is written deterministically. The value of this keyword will affect the row and column ordering assigned to Pyomo constraints and variables in the NLP matrix, respectively.\n",
        "\n",
        "  0: declaration order only\n",
        "\n",
        "  1: sort index sets of indexed components after declaration order (default)\n",
        "\n",
        "  2: sort component names (overriding declaration order) as well as index sets\n",
        "\n",
        "**symbolic_solver_labels:** Generate .row and .col files identifying constraint and variable indices in the NLP matrix. (default=False)\n",
        "\n",
        "**include_all_variable_bounds:** Include all variables that are on active blocks of the Pyomo model in the bounds section of the NL file. This includes variables that do not appear in any objective or constraint expressions. (default=False)\n",
        "\n",
        "**output_fixed_variable_bounds:** Allow variables that are fixed to appear in the body of preprocessed expressions. Fixing takes place by using a variable's current value as the upper and lower bound in the bounds section of the NL file. This option is experimental. (default=False)"
      ],
      "metadata": {
        "id": "Q4aGqjimx91M"
      }
    },
    {
      "cell_type": "markdown",
      "source": [
        "The **symbolic_solver_labels** option, when set to True, outputs files containing similar information to what is output by this function to recover the symbol map. The difference is that this function outputs component lookup codes (the ComponentUID class) that are meant to allow efficient recovery of components on models that make use of index Sets and/or Blocks. The .row and .col files are meant as debugging tools and use human readable names that are not efficient for recovering model components."
      ],
      "metadata": {
        "id": "C8O_xWXUyeeu"
      }
    },
    {
      "cell_type": "markdown",
      "source": [
        "**Invoking the Solver**"
      ],
      "metadata": {
        "id": "SOY8Mm51yiXl"
      }
    },
    {
      "cell_type": "markdown",
      "source": [
        "The solver can be invoked directly from the command shell or by using Python's built-in utilities for executing shell commands. For most ASL-based solvers, we need to use an additional command-line option such as \"-s\" (before the input file) or \"-AMPL\" (after the input file) in order to tell the AMPL Solver Library we want it to store the solution into an SOL file. The code block below issues a bash command that uses the ipopt executable to solve our example model and generate an SOL file. This command requires that the *ipopt* executable can be found in the shell search PATH and that the code block from the previous section has been executed."
      ],
      "metadata": {
        "id": "tD7iJ6LWyjz8"
      }
    },
    {
      "cell_type": "code",
      "source": [
        "%%bash\n",
        "ipopt -s example.nl"
      ],
      "metadata": {
        "id": "ONQKP0HVypgW"
      },
      "execution_count": null,
      "outputs": []
    },
    {
      "cell_type": "markdown",
      "source": [
        "**Loading the SOL File**"
      ],
      "metadata": {
        "id": "x0QjQ252ys1l"
      }
    },
    {
      "cell_type": "markdown",
      "source": [
        "The code block below defines the function **read_so**l that produces a results object that can be loaded into a Pyomo model from a given SOL file. The function first calls Pyomo's built-in SOL file reader to produce a bare results object. Symbols used by the SOL file reader take the form < type character >< index >, where < type character > is one of 'o' (objective), 'v' (variable), or 'c' (constraint) and < index > is the row / column index for constraints / variables in the NLP matrix and 0 for the objective (e.g., 'o0', 'v3', 'c1'). These symbols are mapped to component identifiers in the symbol map file created by the **write_nl** function from above. The results object returned from the **read_sol** function can be loaded into a Pyomo model just like that returned from the solve method on a Pyomo solver plugin when the **load_solutions** keyword is set to False. The last section of this code block shows how this function can be used to load a solution into a copy of the model used in the section on writing the NL file. It assumes the code blocks in the previous two sections have been executed."
      ],
      "metadata": {
        "id": "0hu0GC0jzEPV"
      }
    },
    {
      "cell_type": "code",
      "source": [
        "# %load read.py\n",
        "import pyomo.environ\n",
        "from pyomo.core import SymbolMap\n",
        "from pyomo.opt import (ReaderFactory,\n",
        "                       ResultsFormat)\n",
        "# use fast version of pickle (python 2 or 3)\n",
        "from six.moves import cPickle as pickle\n",
        "\n",
        "def read_sol(model, sol_filename, symbol_map_filename, suffixes=[\".*\"]):\n",
        "    \"\"\"\n",
        "    Reads the solution from the SOL file and generates a\n",
        "    results object with an appropriate symbol map for\n",
        "    loading it into the given Pyomo model. By default all\n",
        "    suffixes found in the NL file will be extracted. This\n",
        "    can be overridden using the suffixes keyword, which\n",
        "    should be a list of suffix names or regular expressions\n",
        "    (or None).\n",
        "    \"\"\"\n",
        "    if suffixes is None:\n",
        "        suffixes = []\n",
        "\n",
        "    # parse the SOL file\n",
        "    with ReaderFactory(ResultsFormat.sol) as reader:\n",
        "        results = reader(sol_filename, suffixes=suffixes)\n",
        "\n",
        "    # regenerate the symbol_map for this model\n",
        "    with open(symbol_map_filename, \"rb\") as f:\n",
        "        symbol_cuid_pairs = pickle.load(f)\n",
        "    symbol_map = SymbolMap()\n",
        "    symbol_map.addSymbols((cuid.find_component(model), symbol)\n",
        "                          for symbol, cuid in symbol_cuid_pairs)\n",
        "\n",
        "    # tag the results object with the symbol_map\n",
        "    results._smap = symbol_map\n",
        "\n",
        "    return results\n",
        "\n",
        "if __name__ == \"__main__\":\n",
        "    from pyomo.opt import TerminationCondition\n",
        "    from script import create_model\n",
        "\n",
        "    model = create_model()\n",
        "    sol_filename = \"example.sol\"\n",
        "    symbol_map_filename = \"example.nl.symbol_map.pickle\"\n",
        "    results = read_sol(model, sol_filename, symbol_map_filename)\n",
        "    if results.solver.termination_condition != \\\n",
        "       TerminationCondition.optimal:\n",
        "        raise RuntimeError(\"Solver did not terminate with status = optimal\")\n",
        "    model.solutions.load_from(results)\n",
        "    print(\"Objective: %s\" % (model.o()))"
      ],
      "metadata": {
        "id": "1KeTxV3DzS1v"
      },
      "execution_count": null,
      "outputs": []
    },
    {
      "cell_type": "markdown",
      "source": [
        "---\n",
        "# Problem 2: Additional Operational Problems"
      ],
      "metadata": {
        "id": "0RrEfQLzYDiP"
      }
    },
    {
      "cell_type": "markdown",
      "source": [
        "Read and reproduce carefully the example [In-Depth: Support Vector Machines](https://jakevdp.github.io/PythonDataScienceHandbook/05.07-support-vector-machines.html) from the book of VanderPlas6, then complete the mathematical deductions and code descriptions."
      ],
      "metadata": {
        "id": "J57CDi86YaHT"
      }
    },
    {
      "cell_type": "markdown",
      "source": [
        "Perform the same scheme of **Problem 1** to the following cases:\n",
        "1. [Gasoline Blending](https://jckantor.github.io/ND-Pyomo-Cookbook/02.05-Gasoline-Blending.html)\n",
        "2. [Transportation Networks](https://jckantor.github.io/ND-Pyomo-Cookbook/03.01-Transportation-Networks.html)\n",
        "3. [Machine Bottleneck](https://jckantor.github.io/ND-Pyomo-Cookbook/04.02-Machine-Bottleneck.html)\n",
        "4. [Soft Landing Apollo 11 on the Moon](https://jckantor.github.io/ND-Pyomo-Cookbook/06.04-Soft-Landing-Apollo-11-on-the-Moon.html)"
      ],
      "metadata": {
        "id": "zvjjoMsiuc6I"
      }
    },
    {
      "cell_type": "markdown",
      "source": [
        "## 1.- Gasoline Blending"
      ],
      "metadata": {
        "id": "8y0x8YPg2QeZ"
      }
    },
    {
      "cell_type": "markdown",
      "source": [
        "The task is to determine the most profitable blend of gasoline products from given set of refinery streams.\n",
        "\n",
        "<img src=\"https://github.com/jckantor/ND-Pyomo-Cookbook/blob/master/notebooks/figures/CEP-refinery-diagram.png?raw=1\" width=\"800\" height=\"450\" />"
      ],
      "metadata": {
        "id": "cf61RqkO3gAa"
      }
    },
    {
      "cell_type": "markdown",
      "source": [
        "### 1.1 Imports"
      ],
      "metadata": {
        "id": "xXaTfFcs20I7"
      }
    },
    {
      "cell_type": "code",
      "source": [
        "# Librerías a utilizar para el problema 2.1\n",
        "import pandas as pd\n",
        "\n",
        "import os.path\n",
        "import shutil\n",
        "import sys\n",
        "\n",
        "if not shutil.which(\"pyomo\"):\n",
        "    !pip install -q pyomo\n",
        "    assert(shutil.which(\"pyomo\"))\n",
        "\n",
        "if not (shutil.which(\"cbc\") or os.path.isfile(\"cbc\")):\n",
        "    if \"google.colab\" in sys.modules:\n",
        "        !apt-get install -y -qq coinor-cbc\n",
        "    else:\n",
        "        try:\n",
        "            !conda install -c conda-forge coincbc \n",
        "        except:\n",
        "            pass\n",
        "\n",
        "assert(shutil.which(\"cbc\") or os.path.isfile(\"cbc\"))\n",
        "\n",
        "import pyomo.environ as pyomo"
      ],
      "metadata": {
        "id": "ELeVOAgD2cQD"
      },
      "execution_count": null,
      "outputs": []
    },
    {
      "cell_type": "markdown",
      "source": [
        "### 1.2 Gasoline product specifications"
      ],
      "metadata": {
        "id": "j0JSTGM-4BYd"
      }
    },
    {
      "cell_type": "markdown",
      "source": [
        "The gasoline products include regular and premium gasoline. In addition to the current price, the specifications include\n",
        "*  **Octane** the minimum road octane number. Road octane is the computed as the average of the Research Octane Number (RON) and Motor Octane Number (MON).\n",
        "\n",
        "*  **Reid Vapor Pressure** Upper and lower limits are specified for the Reid vapor pressure. The Reid vapor pressure is the absolute pressure exerted by the liquid at 100°F.\n",
        "\n",
        "*  **benzene** the maximum volume percentage of benzene allowed in the final product. Benzene helps to increase octane rating, but is also a treacherous environmental contaminant."
      ],
      "metadata": {
        "id": "dPfzKmT44IXM"
      }
    },
    {
      "cell_type": "code",
      "source": [
        "products = {\n",
        "    'Regular' : {'price': 2.75, 'octane': 87, 'RVPmin': 0.0, 'RVPmax': 15.0, 'benzene': 1.1},\n",
        "    'Premium' : {'price': 2.85, 'octane': 91, 'RVPmin': 0.0, 'RVPmax': 15.0, 'benzene': 1.1},\n",
        "}\n",
        "\n",
        "print(pd.DataFrame.from_dict(products).T)"
      ],
      "metadata": {
        "id": "Iav3xEZB4W2U",
        "colab": {
          "base_uri": "https://localhost:8080/"
        },
        "outputId": "161c9566-89e1-4561-c388-8667fc123550"
      },
      "execution_count": null,
      "outputs": [
        {
          "output_type": "stream",
          "name": "stdout",
          "text": [
            "         price  octane  RVPmin  RVPmax  benzene\n",
            "Regular   2.75    87.0     0.0    15.0      1.1\n",
            "Premium   2.85    91.0     0.0    15.0      1.1\n"
          ]
        }
      ]
    },
    {
      "cell_type": "markdown",
      "source": [
        "### 1.3 Stream specifications"
      ],
      "metadata": {
        "id": "Ez56FdZR4cT7"
      }
    },
    {
      "cell_type": "markdown",
      "source": [
        "A typical refinery produces many intermediate streams that can be incorporated in a blended gasoline product. Here we provide data on seven streams that include:\n",
        "\n",
        "*  **Butane** n-butane is a C4 product stream produced from the light components of the crude being processed by the refinery. Butane is a highly volatile of gasoline.\n",
        "\n",
        "*  **LSR** Light straight run naptha is a 90°F to 190°F cut from the crude distillation column primarily consisting of straight chain C5-C6 hydrocarbons.\n",
        "\n",
        "*  **Isomerate** is the result of isomerizing LSR to produce branched molecules that results in higher octane number.\n",
        "\n",
        "*  **Reformate** is result of catalytic reforming heavy straight run napthenes to produce a high octane blending component, as well by-product hydrogen used elsewhere in the refinery for hydro-treating.\n",
        "\n",
        "*  **Reformate LB** is a is a low benzene variant of reformate.\n",
        "\n",
        "*  **FCC Naphta** is the product of a fluidized catalytic cracking unit designed to produce gasoline blending components from long chain hydrocarbons present in the crude oil being processed by the refinery.\n",
        "\n",
        "*  **Alkylate** The alkylation unit reacts iso-butane with low-molecular weight alkenes to produce a high octane blending component for gasoline.\n",
        "\n",
        "The stream specifications include research octane and motor octane numbers for each blending component, the Reid vapor pressure, the benzene content, cost, and availability (in gallons per day).\n",
        "\n",
        "The road octane number is computed as the average of the RON and MON."
      ],
      "metadata": {
        "id": "75V3sLeE4eEU"
      }
    },
    {
      "cell_type": "code",
      "source": [
        "streams = {\n",
        "    'Butane'       : {'RON': 93.0, 'MON': 92.0, 'RVP': 54.0, 'benzene': 0.00, 'cost': 0.85, 'avail': 30000},\n",
        "    'LSR'          : {'RON': 78.0, 'MON': 76.0, 'RVP': 11.2, 'benzene': 0.73, 'cost': 2.05, 'avail': 35000},\n",
        "    'Isomerate'    : {'RON': 83.0, 'MON': 81.1, 'RVP': 13.5, 'benzene': 0.00, 'cost': 2.20, 'avail': 0},\n",
        "    'Reformate'    : {'RON':100.0, 'MON': 88.2, 'RVP':  3.2, 'benzene': 1.85, 'cost': 2.80, 'avail': 60000},\n",
        "    'Reformate LB' : {'RON': 93.7, 'MON': 84.0, 'RVP':  2.8, 'benzene': 0.12, 'cost': 2.75, 'avail': 0},\n",
        "    'FCC Naphtha'  : {'RON': 92.1, 'MON': 77.1, 'RVP':  1.4, 'benzene': 1.06, 'cost': 2.60, 'avail': 70000},\n",
        "    'Alkylate'     : {'RON': 97.3, 'MON': 95.9, 'RVP':  4.6, 'benzene': 0.00, 'cost': 2.75, 'avail': 40000},\n",
        "}\n",
        "\n",
        "# calculate road octane as (R+M)/2\n",
        "for s in streams.keys():\n",
        "    streams[s]['octane'] = (streams[s]['RON'] + streams[s]['MON'])/2\n",
        "    \n",
        "# display feed information\n",
        "print(pd.DataFrame.from_dict(streams).T)"
      ],
      "metadata": {
        "id": "adb678345G8q",
        "colab": {
          "base_uri": "https://localhost:8080/"
        },
        "outputId": "3ef9eaa4-ed52-4bbc-ee20-f8b2adccefe7"
      },
      "execution_count": null,
      "outputs": [
        {
          "output_type": "stream",
          "name": "stdout",
          "text": [
            "                RON   MON   RVP  benzene  cost    avail  octane\n",
            "Butane         93.0  92.0  54.0     0.00  0.85  30000.0   92.50\n",
            "LSR            78.0  76.0  11.2     0.73  2.05  35000.0   77.00\n",
            "Isomerate      83.0  81.1  13.5     0.00  2.20      0.0   82.05\n",
            "Reformate     100.0  88.2   3.2     1.85  2.80  60000.0   94.10\n",
            "Reformate LB   93.7  84.0   2.8     0.12  2.75      0.0   88.85\n",
            "FCC Naphtha    92.1  77.1   1.4     1.06  2.60  70000.0   84.60\n",
            "Alkylate       97.3  95.9   4.6     0.00  2.75  40000.0   96.60\n"
          ]
        }
      ]
    },
    {
      "cell_type": "markdown",
      "source": [
        "### 1.4 Blending model"
      ],
      "metadata": {
        "id": "W-0USLja5Irw"
      }
    },
    {
      "cell_type": "markdown",
      "source": [
        "This simplified blending model assumes the product attributes can be computed as linear volume weighted averages of the component properties. Let the decision variable $x_{s,p} \\geq 0$ be the volume, in gallons, of blending component $s \\in S$ used in the final product $p \\in P$.\n",
        "\n",
        "The objective is maximize profit, which is the difference between product revenue and stream costs.\n",
        "\n",
        "$$\n",
        "\\begin{equation}\n",
        "  \\text{profit} = \\max_{x_{s,p}} \\left(\\sum_{p \\in P} \\text{Price}_p \\sum_{s \\in S} x_{s,p} - \\sum_{s \\in S} \\text{Cost}_s \\sum_{p \\in P} x_{s,p} \\right)\n",
        "\\end{equation}\n",
        "$$\n",
        "\n",
        "or\n",
        "\n",
        "$$\n",
        "\\begin{equation}\n",
        "  \\text{profit} = \\max_{x_{s,p}} \\left(\\sum_{p \\in P} \\sum_{s \\in S} x_{s,p}\\text{Price}_p - \\sum_{p \\in P} \\sum_{s \\in S} x_{s,p}\\text{Cost}_s \\right)\n",
        "\\end{equation}\n",
        "$$\n",
        "\n"
      ],
      "metadata": {
        "id": "MA25z0de5Lr3"
      }
    },
    {
      "cell_type": "markdown",
      "source": [
        "## 2.- Transportation Networks\n",
        "Keywords: transportation, assignment, cbc usage\n",
        "\n",
        "This notebook demonstrates the solution of transportation network problems using Pyomo and GLPK. The problem description and data are adapted from Chapter 5 of Johannes Bisschop, [\"AIMMS Optimization Modeling\", AIMMS B. V., 2014](http://download.aimms.com/aimms/download/manuals/AIMMS3_OM.pdf).\n"
      ],
      "metadata": {
        "id": "QqVJcYvF2c5N"
      }
    },
    {
      "cell_type": "markdown",
      "source": [
        "### 2.1 Imports"
      ],
      "metadata": {
        "id": "x6PJjardr6VU"
      }
    },
    {
      "cell_type": "code",
      "source": [
        "from pyomo.environ import *"
      ],
      "metadata": {
        "id": "CGz-3Btl2lEM"
      },
      "execution_count": null,
      "outputs": []
    },
    {
      "cell_type": "markdown",
      "source": [
        "### 2.2 Background\n",
        "\n",
        "The prototypical transportation problem deals with the distribution of a commodity from a set of sources to a set of destinations. The object is to minimize total transportation costs while satisfying constraints on the supplies available at each of the sources, and satisfying demand requirements at each of the destinations.\n",
        "\n",
        "Here we illustrate the transportation problem using an example from Chapter 5 of Johannes Bisschop, \"AIMMS Optimization Modeling\", Paragon Decision Sciences, 1999. In this example there are two factories and six customer sites located in 8 European cities as shown in the following map. The customer sites are labeled in red, the factories are labeled in blue."
      ],
      "metadata": {
        "id": "5HStBsK_sGpc"
      }
    },
    {
      "cell_type": "markdown",
      "source": [
        "![TransportationNetworksMap.png](https://github.com/jckantor/ND-Pyomo-Cookbook/blob/master/notebooks/figures/TransportationNetworksMap.png?raw=1)"
      ],
      "metadata": {
        "id": "Py8tKys7sRfO"
      }
    },
    {
      "cell_type": "markdown",
      "source": [
        ""
      ],
      "metadata": {
        "id": "MQMPVsQBsUjo"
      }
    },
    {
      "cell_type": "markdown",
      "source": [
        "Transportation costs between sources and destinations are given in units of €/ton of goods shipped, and list in the following table along with source capacity and demand requirements."
      ],
      "metadata": {
        "id": "YHLVREUSrzLO"
      }
    },
    {
      "cell_type": "markdown",
      "source": [
        "#### 2.2.1 Table of transportation costs, customer demand, and available supplies\n",
        "\n",
        "| Customer\\Source | Arnhem [&euro;/ton] | Gouda [&euro;/ton] | Demand [tons]|\n",
        "| :--: | :----: | :---: | :----: |\n",
        "| London | n/a | 2.5 | 125 |\n",
        "| Berlin | 2.5 | n/a | 175 |\n",
        "| Maastricht | 1.6 | 2.0 | 225 |\n",
        "| Amsterdam | 1.4 | 1.0 | 250 |\n",
        "| Utrecht | 0.8 | 1.0 | 225 |\n",
        "| The Hague | 1.4 | 0.8 | 200 |\n",
        "| **Supply [tons]** | 550 tons | 700 tons |  |\n",
        "\n",
        "The situation can be modeled by links connecting a set nodes representing sources to a set of nodes representing customers.\n",
        "\n",
        "![TransportNet.png](https://github.com/jckantor/ND-Pyomo-Cookbook/blob/master/notebooks/figures/TransportNet.png?raw=1)\n",
        "\n",
        "For each link we can have a parameter $T[c,s]$ denoting the cost of shipping a ton of goods over the link. What we need to determine is the amount of goods to be shipped over each link, which we will represent as a non-negative decision variable $x[c,s]$.\n",
        "\n",
        "The problem objective is to minimize the total shipping cost to all customers from all sources. \n",
        "\n",
        "$$\\mbox{minimize:}\\quad \\mbox{Cost} = \\sum_{c \\in Customers}\\sum_{s \\in Sources} T[c,s] x[c,s]$$\n",
        "\n",
        "Shipments from all sources can not exceed the manufacturing capacity of the source.\n",
        "\n",
        "$$\\sum_{c \\in Customers} x[c,s] \\leq \\mbox{Supply}[s] \\qquad \\forall s \\in Sources$$\n",
        "\n",
        "Shipments to each customer must satisfy their demand.\n",
        "\n",
        "$$\\sum_{s\\in Sources} x[c,s] = \\mbox{Demand}[c] \\qquad \\forall c \\in Customers$$"
      ],
      "metadata": {
        "id": "TIvYqoPMsfi4"
      }
    },
    {
      "cell_type": "markdown",
      "source": [
        "### 2.3 Pyomo model"
      ],
      "metadata": {
        "id": "KbrR9249snK8"
      }
    },
    {
      "cell_type": "markdown",
      "source": [
        "#### 2.3.1 Data File"
      ],
      "metadata": {
        "id": "AyOp_OPTswSO"
      }
    },
    {
      "cell_type": "code",
      "source": [
        "Demand = {\n",
        "   'Lon':   125,        # London\n",
        "   'Ber':   175,        # Berlin\n",
        "   'Maa':   225,        # Maastricht\n",
        "   'Ams':   250,        # Amsterdam\n",
        "   'Utr':   225,        # Utrecht\n",
        "   'Hag':   200         # The Hague\n",
        "}\n",
        "\n",
        "Supply = {\n",
        "   'Arn':   600,        # Arnhem\n",
        "   'Gou':   650         # Gouda\n",
        "}\n",
        "\n",
        "T = {\n",
        "    ('Lon','Arn'): 1000,\n",
        "    ('Lon','Gou'): 2.5,\n",
        "    ('Ber','Arn'): 2.5,\n",
        "    ('Ber','Gou'): 1000,\n",
        "    ('Maa','Arn'): 1.6,\n",
        "    ('Maa','Gou'): 2.0,\n",
        "    ('Ams','Arn'): 1.4,\n",
        "    ('Ams','Gou'): 1.0,\n",
        "    ('Utr','Arn'): 0.8,\n",
        "    ('Utr','Gou'): 1.0,\n",
        "    ('Hag','Arn'): 1.4,\n",
        "    ('Hag','Gou'): 0.8\n",
        "}"
      ],
      "metadata": {
        "id": "kQhvqglbspqE"
      },
      "execution_count": null,
      "outputs": []
    },
    {
      "cell_type": "markdown",
      "source": [
        "#### 2.3.2 Model file"
      ],
      "metadata": {
        "id": "GYkygrQRs7eY"
      }
    },
    {
      "cell_type": "code",
      "source": [
        "# Step 0: Create an instance of the model\n",
        "model = ConcreteModel()\n",
        "model.dual = Suffix(direction=Suffix.IMPORT)\n",
        "\n",
        "# Step 1: Define index sets\n",
        "CUS = list(Demand.keys())\n",
        "SRC = list(Supply.keys())\n",
        "\n",
        "# Step 2: Define the decision \n",
        "model.x = Var(CUS, SRC, domain = NonNegativeReals)\n",
        "\n",
        "# Step 3: Define Objective\n",
        "model.Cost = Objective(\n",
        "    expr = sum([T[c,s]*model.x[c,s] for c in CUS for s in SRC]),\n",
        "    sense = minimize)\n",
        "\n",
        "# Step 4: Constraints\n",
        "model.src = ConstraintList()\n",
        "for s in SRC:\n",
        "    model.src.add(sum([model.x[c,s] for c in CUS]) <= Supply[s])\n",
        "        \n",
        "model.dmd = ConstraintList()\n",
        "for c in CUS:\n",
        "    model.dmd.add(sum([model.x[c,s] for s in SRC]) == Demand[c])\n",
        "    \n",
        "results = SolverFactory('cbc').solve(model)\n",
        "results.write()"
      ],
      "metadata": {
        "id": "0XuGlqUKs9Fm"
      },
      "execution_count": null,
      "outputs": []
    },
    {
      "cell_type": "markdown",
      "source": [
        "### 2.4 Solution"
      ],
      "metadata": {
        "id": "1pP8dK_stGoq"
      }
    },
    {
      "cell_type": "code",
      "source": [
        "for c in CUS:\n",
        "    for s in SRC:\n",
        "        print(c, s, model.x[c,s]())"
      ],
      "metadata": {
        "id": "vo3qbPpYtIqp"
      },
      "execution_count": null,
      "outputs": []
    },
    {
      "cell_type": "code",
      "source": [
        "if 'ok' == str(results.Solver.status):\n",
        "    print(\"Total Shipping Costs = \",model.Cost())\n",
        "    print(\"\\nShipping Table:\")\n",
        "    for s in SRC:\n",
        "        for c in CUS:\n",
        "            if model.x[c,s]() > 0:\n",
        "                print(\"Ship from \", s,\" to \", c, \":\", model.x[c,s]())\n",
        "else:\n",
        "    print(\"No Valid Solution Found\")"
      ],
      "metadata": {
        "id": "7faPUlQbtPvQ"
      },
      "execution_count": null,
      "outputs": []
    },
    {
      "cell_type": "markdown",
      "source": [
        "The solution has the interesting property that, with the exception of Utrecht, customers are served by just one source.\n",
        "\n",
        "![TransportNet_soln.png](https://github.com/jckantor/ND-Pyomo-Cookbook/blob/master/notebooks/figures/TransportNet_soln.png?raw=1)\n"
      ],
      "metadata": {
        "id": "q-MvIj1ftTym"
      }
    },
    {
      "cell_type": "code",
      "source": [
        "if 'ok' == str(results.Solver.status):\n",
        "    print(\"\\nSources:\")\n",
        "    print(\"Source      Capacity   Shipped    Margin\")\n",
        "    for m in model.src.keys():\n",
        "        s = SRC[m-1]\n",
        "        print(\"{0:10s}{1:10.1f}{2:10.1f}{3:10.4f}\".format(s,Supply[s],model.src[m](),model.dual[model.src[m]]))\n",
        "else:\n",
        "    print(\"No Valid Solution Found\")"
      ],
      "metadata": {
        "id": "etzcHGVKtb1T"
      },
      "execution_count": null,
      "outputs": []
    },
    {
      "cell_type": "markdown",
      "source": [
        "The 'marginal' values are telling us how much the total costs will be increased for each one ton increase in the available supply from each source. The optimization calculation says that only 650 tons of the 700 available from Gouda should used for a minimum cost solution, which rules out any further cost reductions by increasing the available supply. In fact, we could decrease the supply Gouda without any harm. The marginal value of Gouda is 0.\n",
        "\n",
        "The source at Arnhem is a different matter. First, all 550 available tons are being used. Second, from the marginal value we see that the total transportations costs would be reduced by 0.2 Euros for each additional ton of supply.  \n",
        "\n",
        "The management conclusion we can draw is that there is excess supply available at Gouda which should, if feasible, me moved to Arnhem.\n",
        "\n",
        "Now that's a valuable piece of information!"
      ],
      "metadata": {
        "id": "MyQjKmMetiXi"
      }
    },
    {
      "cell_type": "markdown",
      "source": [
        "### 2.5 Sensitivity analysis"
      ],
      "metadata": {
        "id": "SUNYTICFuS-y"
      }
    },
    {
      "cell_type": "markdown",
      "source": [
        "#### 2.5.1 Analysis by source"
      ],
      "metadata": {
        "id": "vicjk1agucAy"
      }
    },
    {
      "cell_type": "code",
      "source": [
        "if 'ok' == str(results.Solver.status):\n",
        "    print(\"\\nSources:\")\n",
        "    print(\"Source      Capacity   Shipped    Margin\")\n",
        "    for m in model.src.keys():\n",
        "        s = SRC[m-1]\n",
        "        print(\"{0:10s}{1:10.1f}{2:10.1f}{3:10.4f}\".format(s,Supply[s],model.src[m](),model.dual[model.src[m]]))\n",
        "else:\n",
        "    print(\"No Valid Solution Found\")"
      ],
      "metadata": {
        "id": "-cWW6mtgudri"
      },
      "execution_count": null,
      "outputs": []
    },
    {
      "cell_type": "markdown",
      "source": [
        "The 'marginal' values are telling us how much the total costs will be increased for each one ton increase in the available supply from each source. The optimization calculation says that only 650 tons of the 700 available from Gouda should used for a minimum cost solution, which rules out any further cost reductions by increasing the available supply. In fact, we could decrease the supply Gouda without any harm. The marginal value of Gouda is 0.\n",
        "\n",
        "The source at Arnhem is a different matter. First, all 550 available tons are being used. Second, from the marginal value we see that the total transportations costs would be reduced by 0.2 Euros for each additional ton of supply.  \n",
        "\n",
        "The management conclusion we can draw is that there is excess supply available at Gouda which should, if feasible, me moved to Arnhem.\n",
        "\n",
        "Now that's a valuable piece of information!"
      ],
      "metadata": {
        "id": "lg3u9DnpumPi"
      }
    },
    {
      "cell_type": "markdown",
      "source": [
        "#### 2.5.2 Analysis by customer"
      ],
      "metadata": {
        "id": "doOSDrSRtoXn"
      }
    },
    {
      "cell_type": "markdown",
      "source": [
        "Looking at the demand constraints, we see that all of the required demands have been met by the optimal solution.\n",
        "\n",
        "The marginal values of these constraints indicate how much the total transportation costs will increase if there is an additional ton of demand at any of the locations. In particular, note that increasing the demand at Berlin will increase costs by 2.7 Euros per ton. This is actually **greater** than the list price for shipping to Berlin which is 2.5 Euros per ton.  Why is this?\n",
        "\n",
        "To see what's going on, let's resolve the problem with a one ton increase in the demand at Berlin.\n",
        "\n",
        "We see the total cost has increased from 1715.0 to 1717.7 Euros, an increase of 2.7 Euros just as predicted by the marginal value assocated with the demand constraint for Berlin.\n",
        "\n",
        "Now let's look at the solution.\n",
        "\n",
        "Here we see that increasing the demand in Berlin resulted in a number of other changes. This figure shows the changes shipments.\n",
        "\n",
        "![TransportNet_sens.png](https://github.com/jckantor/ND-Pyomo-Cookbook/blob/master/notebooks/figures/TransportNet_sens.png?raw=1)\n",
        "\n",
        "* Shipments to Berlin increased from 175 to 176 tons, increasing costs for that link from 437.5 to 440.0, or a net increase of 2.5 Euros.\n",
        "* Since Arnhem is operating at full capacity, increasing the shipments from Arnhem to Berlin resulted in decreasing the shipments from Arhhem to Utrecht from 150 to 149 reducing those shipping costs from 120.0 to 119.2, a net decrease of 0.8 Euros.\n",
        "* To meet demand at Utrecht, shipments from Gouda to Utrecht had to increase from 75 to 76, increasing shipping costs by a net amount of 1.0 Euros.\n",
        "* The net effect on shipping costs is 2.5 - 0.8 + 1.0 = 2.7 Euros.\n",
        "\n",
        "The important conclusion to draw is that when operating under optimal conditions, a change in demand or supply can have a ripple effect on the optimal solution that can only be measured through a proper sensitivity analysis."
      ],
      "metadata": {
        "id": "_UcxyBkztwZF"
      }
    },
    {
      "cell_type": "code",
      "source": [
        "if 'ok' == str(results.Solver.status):    \n",
        "    print(\"\\nCustomers:\")\n",
        "    print(\"Customer      Demand   Shipped    Margin\")\n",
        "    for n in model.dmd.keys():\n",
        "        c = CUS[n-1]\n",
        "        print(\"{0:10s}{1:10.1f}{2:10.1f}{3:10.4f}\".format(c,Demand[c],model.dmd[n](),model.dual[model.dmd[n]]))\n",
        "else:\n",
        "    print(\"No Valid Solution Found\")"
      ],
      "metadata": {
        "id": "pfBHPQswtqQS"
      },
      "execution_count": null,
      "outputs": []
    },
    {
      "cell_type": "markdown",
      "source": [
        "### 2.6 Exercises\n",
        "\n",
        "1. Move 50 tons of supply capacity from Gouda to Arnhem, and repeat the sensitivity analysis. How has the situation improved?  In practice, would you recommend this change, or would you propose something different?\n",
        "2. What other business improvements would you recommend?"
      ],
      "metadata": {
        "id": "OlEQjU2WuDJ0"
      }
    },
    {
      "cell_type": "markdown",
      "source": [
        "## 3.- Machine Bottleneck"
      ],
      "metadata": {
        "id": "u9-DOvErycLX"
      }
    },
    {
      "cell_type": "markdown",
      "source": [
        "This notebook demonstrates the formulation and solution of the a machine bottleneck problem using Pyomo. The task is to schedule a set of jobs on a single machine given the release time, duration, and due time for each job. Date for the example problem is from Christelle Gueret, Christian Prins, Marc Sevaux, \"Applications of Optimization with Xpress-MP,\" Chapter 5, Dash Optimization, 2000."
      ],
      "metadata": {
        "id": "CVFaGfIc2fMs"
      }
    },
    {
      "cell_type": "markdown",
      "source": [
        "### 3.1 Imports"
      ],
      "metadata": {
        "id": "x4WbZQN325RS"
      }
    },
    {
      "cell_type": "code",
      "source": [
        "%matplotlib inline\n",
        "import matplotlib.pyplot as plt\n",
        "from IPython.display import display\n",
        "import pandas as pd\n",
        "\n",
        "import shutil\n",
        "import sys\n",
        "import os.path\n",
        "\n",
        "if not shutil.which(\"pyomo\"):\n",
        "    !pip install -q pyomo\n",
        "    assert(shutil.which(\"pyomo\"))\n",
        "\n",
        "if not (shutil.which(\"cbc\") or os.path.isfile(\"cbc\")):\n",
        "    if \"google.colab\" in sys.modules:\n",
        "        !apt-get install -y -qq coinor-cbc\n",
        "    else:\n",
        "        try:\n",
        "            !conda install -c conda-forge coincbc \n",
        "        except:\n",
        "            pass\n",
        "\n",
        "assert(shutil.which(\"cbc\") or os.path.isfile(\"cbc\"))\n",
        "\n",
        "from pyomo.environ import *\n",
        "from pyomo.gdp import *"
      ],
      "metadata": {
        "id": "k0CeWgyD2lke"
      },
      "execution_count": null,
      "outputs": []
    },
    {
      "cell_type": "markdown",
      "source": [
        "### 3.2 Example\n",
        "\n",
        "The problem is to schedule a sequence of jobs for a single machine. The data consists of a Python dictionary of jobs. Each job is labeled by a key, and an associated data dictionary provides the time at which the job is released to the for machine processing, the expected duration of the job, and the due date. The problem is to sequence the jobs on the machine to meet the due dates, or show that no such sequence is possible."
      ],
      "metadata": {
        "id": "6Kp_dmLpkUxG"
      }
    },
    {
      "cell_type": "code",
      "source": [
        "JOBS = {\n",
        "    'A': {'release': 2, 'duration': 5, 'due': 10},\n",
        "    'B': {'release': 5, 'duration': 6, 'due': 21},\n",
        "    'C': {'release': 4, 'duration': 8, 'due': 15},\n",
        "    'D': {'release': 0, 'duration': 4, 'due': 10},\n",
        "    'E': {'release': 0, 'duration': 2, 'due':  5},\n",
        "    'F': {'release': 8, 'duration': 3, 'due': 15},\n",
        "    'G': {'release': 9, 'duration': 2, 'due': 22},\n",
        "}\n",
        "JOBS"
      ],
      "metadata": {
        "id": "0aL1lEaHkaXZ"
      },
      "execution_count": null,
      "outputs": []
    },
    {
      "cell_type": "markdown",
      "source": [
        "#### 3.2.1 Gantt chart\n",
        "\n",
        "A traditional means of visualizing scheduling data in the form of a Gantt chart. The next cell presents a function `gantt` that plots a Gantt chart given JOBS and SCHEDULE information. Two charts are presented showing job schedule and machine schedule. If no machine information is contained in SCHEDULE, then it assumed to be a single machine operation."
      ],
      "metadata": {
        "id": "N7iMWPukkkzE"
      }
    },
    {
      "cell_type": "code",
      "source": [
        "def gantt(JOBS, SCHEDULE={}):\n",
        "    bw = 0.3\n",
        "    plt.figure(figsize=(12, 0.7*(len(JOBS.keys()))))\n",
        "    idx = 0\n",
        "    for j in sorted(JOBS.keys()):\n",
        "        x = JOBS[j]['release']\n",
        "        y = JOBS[j]['due']\n",
        "        plt.fill_between([x,y],[idx-bw,idx-bw],[idx+bw,idx+bw], color='cyan', alpha=0.6)\n",
        "        if j in SCHEDULE.keys():\n",
        "            x = SCHEDULE[j]['start']\n",
        "            y = SCHEDULE[j]['finish']\n",
        "            plt.fill_between([x,y],[idx-bw,idx-bw],[idx+bw,idx+bw], color='red', alpha=0.5)\n",
        "            plt.plot([x,y,y,x,x], [idx-bw,idx-bw,idx+bw,idx+bw,idx-bw],color='k')\n",
        "            plt.text((SCHEDULE[j]['start'] + SCHEDULE[j]['finish'])/2.0,idx,\n",
        "                'Job ' + j, color='white', weight='bold',\n",
        "                horizontalalignment='center', verticalalignment='center')\n",
        "        idx += 1\n",
        "\n",
        "    plt.ylim(-0.5, idx-0.5)\n",
        "    plt.title('Job Schedule')\n",
        "    plt.xlabel('Time')\n",
        "    plt.ylabel('Jobs')\n",
        "    plt.yticks(range(len(JOBS)), JOBS.keys())\n",
        "    plt.grid()\n",
        "    xlim = plt.xlim()\n",
        "    \n",
        "    if SCHEDULE:\n",
        "        for j in SCHEDULE.keys():\n",
        "            if 'machine' not in SCHEDULE[j].keys():\n",
        "                SCHEDULE[j]['machine'] = 1\n",
        "        MACHINES = sorted(set([SCHEDULE[j]['machine'] for j in SCHEDULE.keys()]))\n",
        "\n",
        "        plt.figure(figsize=(12, 0.7*len(MACHINES)))\n",
        "        for j in sorted(SCHEDULE.keys()):\n",
        "            idx = MACHINES.index(SCHEDULE[j]['machine'])\n",
        "            x = SCHEDULE[j]['start']\n",
        "            y = SCHEDULE[j]['finish']\n",
        "            plt.fill_between([x,y],[idx-bw,idx-bw],[idx+bw,idx+bw], color='red', alpha=0.5)\n",
        "            plt.plot([x,y,y,x,x], [idx-bw,idx-bw,idx+bw,idx+bw,idx-bw],color='k')\n",
        "            plt.text((SCHEDULE[j]['start'] + SCHEDULE[j]['finish'])/2.0,idx,\n",
        "                'Job ' + j, color='white', weight='bold',\n",
        "                horizontalalignment='center', verticalalignment='center')\n",
        "        plt.xlim(xlim)\n",
        "        plt.ylim(-0.5, len(MACHINES)-0.5)\n",
        "        plt.title('Machine Schedule')\n",
        "        plt.yticks(range(len(MACHINES)), MACHINES)\n",
        "        plt.ylabel('Machines')\n",
        "        plt.grid()\n",
        "\n",
        "gantt(JOBS)"
      ],
      "metadata": {
        "id": "OmDCSXf0kp0M"
      },
      "execution_count": null,
      "outputs": []
    },
    {
      "cell_type": "markdown",
      "source": [
        "### 3.3 The machine scheduling problem\n",
        "\n",
        "A schedule consists of a dictionary listing the start and finish times for each job. Once the order of jobs has been determined, the start time can be no earlier than when the job is released for processing, and no earlier than the finish of the previous job.\n",
        "\n",
        "The following cell presents a function which, given the JOBS data and an order list of jobs indices, computes the start and finish times for all jobs on a single machine. We use this to determine the schedule if the jobs are executed in alphabetical order."
      ],
      "metadata": {
        "id": "C0XFPx12k0pH"
      }
    },
    {
      "cell_type": "code",
      "source": [
        "def schedule(JOBS, order=sorted(JOBS.keys())):\n",
        "    \"\"\"Schedule a dictionary of JOBS on a single machine in a specified order.\"\"\"\n",
        "    start = 0\n",
        "    finish = 0\n",
        "    SCHEDULE = {}\n",
        "    for job in order:\n",
        "        start = max(JOBS[job]['release'], finish)\n",
        "        finish = start + JOBS[job]['duration']\n",
        "        SCHEDULE[job] = {'start': start, 'finish': finish}\n",
        "    return SCHEDULE   \n",
        "\n",
        "SCHEDULE = schedule(JOBS)\n",
        "SCHEDULE"
      ],
      "metadata": {
        "id": "V4BSc5zak-x4"
      },
      "execution_count": null,
      "outputs": []
    },
    {
      "cell_type": "markdown",
      "source": [
        "Here we demonstrate a 'partial schedule'."
      ],
      "metadata": {
        "id": "RnOwUW8UlBzX"
      }
    },
    {
      "cell_type": "code",
      "source": [
        "gantt(JOBS, schedule(JOBS, ['E', 'D', 'A', 'C', 'B']))"
      ],
      "metadata": {
        "id": "KkuCGgyJlIxJ"
      },
      "execution_count": null,
      "outputs": []
    },
    {
      "cell_type": "markdown",
      "source": [
        "Here's a schedule where jobs are done in alphabetical order."
      ],
      "metadata": {
        "id": "wo3GAth7lQu8"
      }
    },
    {
      "cell_type": "code",
      "source": [
        "gantt(JOBS, SCHEDULE)"
      ],
      "metadata": {
        "id": "93ic_CbHlVTX"
      },
      "execution_count": null,
      "outputs": []
    },
    {
      "cell_type": "markdown",
      "source": [
        "#### 3.3.1 Key performance indicators\n",
        "\n",
        "As presented above, a given schedule may not meet all of the due time requirements. In fact, a schedule meeting all of the requirements might not even be possible. So given a schedule, it is useful to have a function that computes key performance indicators."
      ],
      "metadata": {
        "id": "8IOaHI1Nlahs"
      }
    },
    {
      "cell_type": "code",
      "source": [
        "def kpi(JOBS, SCHEDULE):\n",
        "    KPI = {}\n",
        "    KPI['Makespan'] = max(SCHEDULE[job]['finish'] for job in SCHEDULE)\n",
        "    KPI['Max Pastdue'] = max(max(0, SCHEDULE[job]['finish'] - JOBS[job]['due']) for job in SCHEDULE)\n",
        "    KPI['Sum of Pastdue'] = sum(max(0, SCHEDULE[job]['finish'] - JOBS[job]['due']) for job in SCHEDULE)\n",
        "    KPI['Number Pastdue'] = sum(SCHEDULE[job]['finish'] > JOBS[job]['due'] for job in SCHEDULE)\n",
        "    KPI['Number on Time'] = sum(SCHEDULE[job]['finish'] <= JOBS[job]['due'] for job in SCHEDULE)\n",
        "    KPI['Fraction on Time'] = KPI['Number on Time']/len(SCHEDULE)\n",
        "    return KPI\n",
        "\n",
        "kpi(JOBS, SCHEDULE)"
      ],
      "metadata": {
        "id": "tKXN3IN2litp"
      },
      "execution_count": null,
      "outputs": []
    },
    {
      "cell_type": "markdown",
      "source": [
        "#### 3.3.2 Exercise\n",
        "\n",
        "Show the Gantt chart and key performance metrics if the jobs are executed in reverse alphabetical order."
      ],
      "metadata": {
        "id": "uTGmJC6hln9f"
      }
    },
    {
      "cell_type": "code",
      "source": [
        "order = sorted(JOBS, reverse=True)\n",
        "gantt(JOBS, schedule(JOBS,order))\n",
        "kpi(JOBS, schedule(JOBS,order))"
      ],
      "metadata": {
        "id": "W7yR_N_jlutu"
      },
      "execution_count": null,
      "outputs": []
    },
    {
      "cell_type": "markdown",
      "source": [
        "### 3.4 Empirical scheduling\n",
        "\n",
        "There are a number of commonly encountered empirical rules for scheduling jobs on a single machine. These include:\n",
        "\n",
        "* First-In First-Out (FIFO)\n",
        "* Last-In, First-Out (LIFO)\n",
        "* Shortest Processing Time First (SPT)\n",
        "* Earliest Due Data (EDD)"
      ],
      "metadata": {
        "id": "0ryAn8IOlzcW"
      }
    },
    {
      "cell_type": "markdown",
      "source": [
        "#### 3.4.1 First-in first-out\n",
        "\n",
        " As an example, we'll first look at 'First-In-First-Out' scheduling which executes job in the order they are released. The following function sorts jobs by release time, then schedules the jobs to execute in that order. A job can only be started no earlier than when it is released."
      ],
      "metadata": {
        "id": "tWydY4ydmFSM"
      }
    },
    {
      "cell_type": "code",
      "source": [
        "def fifo(JOBS):\n",
        "    order_by_release = sorted(JOBS, key=lambda job: JOBS[job]['release'])\n",
        "    return schedule(JOBS, order_by_release)\n",
        "\n",
        "SCHEDULE = fifo(JOBS)\n",
        "gantt(JOBS, SCHEDULE)\n",
        "kpi(JOBS, SCHEDULE)"
      ],
      "metadata": {
        "id": "CHdRClZ2mOaE"
      },
      "execution_count": null,
      "outputs": []
    },
    {
      "cell_type": "markdown",
      "source": [
        "#### 3.4.2 Last-in, first-out"
      ],
      "metadata": {
        "id": "3rBiAytHmVMc"
      }
    },
    {
      "cell_type": "code",
      "source": [
        "def lifo(JOBS):\n",
        "    unfinished_jobs = set(JOBS.keys())\n",
        "    start = 0\n",
        "    while len(unfinished_jobs) > 0:\n",
        "        start = max(start, min(JOBS[job]['release'] for job in unfinished_jobs))\n",
        "        lifo = {job:JOBS[job]['release'] for job in unfinished_jobs if JOBS[job]['release'] <= start}\n",
        "        job = max(lifo, key=lifo.get)\n",
        "        finish = start + JOBS[job]['duration']\n",
        "        unfinished_jobs.remove(job)\n",
        "        SCHEDULE[job] = {'machine': 1, 'start': start, 'finish': finish}\n",
        "        start = finish\n",
        "    return SCHEDULE          \n",
        "    \n",
        "gantt(JOBS, lifo(JOBS))\n",
        "kpi(JOBS, lifo(JOBS))"
      ],
      "metadata": {
        "id": "vTPvUoaMmUyL"
      },
      "execution_count": null,
      "outputs": []
    },
    {
      "cell_type": "markdown",
      "source": [
        "#### 3.4.3 Earliest due date"
      ],
      "metadata": {
        "id": "pJ5oIoJamk4P"
      }
    },
    {
      "cell_type": "code",
      "source": [
        "def edd(JOBS):\n",
        "    unfinished_jobs = set(JOBS.keys())\n",
        "    start = 0\n",
        "    while len(unfinished_jobs) > 0:\n",
        "        start = max(start, min(JOBS[job]['release'] for job in unfinished_jobs))\n",
        "        edd = {job:JOBS[job]['due'] for job in unfinished_jobs if JOBS[job]['release'] <= start}\n",
        "        job = min(edd, key=edd.get)\n",
        "        finish = start + JOBS[job]['duration']\n",
        "        unfinished_jobs.remove(job)\n",
        "        SCHEDULE[job] = {'machine': 1, 'start': start, 'finish': finish}\n",
        "        start = finish\n",
        "    return SCHEDULE          \n",
        "    \n",
        "gantt(JOBS, edd(JOBS))\n",
        "kpi(JOBS, edd(JOBS))"
      ],
      "metadata": {
        "id": "Sd-qySORmnrb"
      },
      "execution_count": null,
      "outputs": []
    },
    {
      "cell_type": "markdown",
      "source": [
        "#### 3.4.4 Shortest processing time"
      ],
      "metadata": {
        "id": "txWc8xssm0O2"
      }
    },
    {
      "cell_type": "code",
      "source": [
        "def spt(JOBS):\n",
        "    unfinished_jobs = set(JOBS.keys())\n",
        "    start = 0\n",
        "    while len(unfinished_jobs) > 0:\n",
        "        start = max(start, min(JOBS[job]['release'] for job in unfinished_jobs))\n",
        "        spt = {job:JOBS[job]['duration'] for job in unfinished_jobs if JOBS[job]['release'] <= start}\n",
        "        job = min(spt, key=spt.get)\n",
        "        finish = start + JOBS[job]['duration']\n",
        "        unfinished_jobs.remove(job)\n",
        "        SCHEDULE[job] = {'machine': 1, 'start': start, 'finish': finish}\n",
        "        start = finish\n",
        "    return SCHEDULE          \n",
        "    \n",
        "gantt(JOBS, spt(JOBS))\n",
        "kpi(JOBS, spt(JOBS))"
      ],
      "metadata": {
        "id": "gNhlA_Uim8br"
      },
      "execution_count": null,
      "outputs": []
    },
    {
      "cell_type": "markdown",
      "source": [
        "### 3.5 Modeling"
      ],
      "metadata": {
        "id": "GgQllA74nGcL"
      }
    },
    {
      "cell_type": "markdown",
      "source": [
        "#### 3.5.1 Data \n",
        "\n",
        "The data for this problem consists of a list of jobs. Each job is tagged with a unique ID along with numerical data giving the time at which the job will be released for machine processing, the expected duration, and the time at which it is due.\n",
        "\n",
        "| Symbol | Description \n",
        "| ------ | :---------- \n",
        "| $\\text{ID}_{j}$       | Unique ID for task $j$ \n",
        "| $\\text{due}_{j}$      | Due time for task $j$ \n",
        "| $\\text{duration}_{j}$ | Duration of task $j$ \n",
        "| $\\text{release}_{j}$  | Time task $j$ becomes available for processing "
      ],
      "metadata": {
        "id": "zUydkba8nL3w"
      }
    },
    {
      "cell_type": "markdown",
      "source": [
        "#### 3.5.2 Decision variables\n",
        "\n",
        "For a single machine, the essential decision variable is the start time at which the job begins processing.\n",
        "\n",
        "| Symbol | Description |\n",
        "| ------ | :---------- |\n",
        "| $\\text{start}_{j}$ | Start of task $j$\n",
        "| $\\text{makespan}$ | Time to complete *all* jobs.\n",
        "| $\\text{pastdue}_{j}$ | Time by which task $j$ is past due\n",
        "| $\\text{early}_{j}$ | Time by which task $j$ is finished early\n",
        "\n",
        "A job cannot start until it is released for processing\n",
        "\\begin{align*}\n",
        "\\text{start}_{j} & \\geq \\text{release}_{j}\\\\\n",
        "\\end{align*}\n",
        "\n",
        "Once released for processing, we assume the processing continues until the job is finished. The finish time is compared to the due time, and the result stored in either the early or pastdue decision variables. These decision variables are needed to handle cases where it might not be possible to complete all jobs by the time they are due.\n",
        "\n",
        "\\begin{align*}\n",
        "\\text{start}_{j} + \\text{duration}_{j} + \\text{early}_{j} & = \\text{due}_{j} + \\text{pastdue}_{j}\\\\\n",
        "\\text{early}_{j} & \\geq 0 \\\\\n",
        "\\text{pastdue}_{j} & \\geq 0\n",
        "\\end{align*}\n",
        "\n",
        "Finally, we include a single decision variable measuring the overall makespan for all jobs.\n",
        "\\begin{align*}\n",
        "\\text{start}_{j} +\\text{duration}_{j} \\leq \\text{makespan}\n",
        "\\end{align*}\n",
        "\n",
        "The final set of constraints requires that, for any given pair of jobs $j$ and $k$, that either $j$ starts before $k$ finishes, or $k$ finishes before $j$ starts. The boolean variable $y_{jk} = 1$ indicates $j$ finishes before $k$ starts, and is 0 for the opposing case. Note that we only need to consider cases $j > k$\n",
        "\n",
        "\\begin{align*}\n",
        "\\text{start}_{i}+\\text{duration}_{i} & \\leq \\text{start}_{j}+My_{i,j}\\\\\n",
        "\\text{start}_{j}+\\text{duration}_{j} & \\leq \\text{start}_{i}+M(1-y_{i,j})\n",
        "\\end{align*}\n",
        "\n",
        "where $M$ is a sufficiently large enough to assure the relaxed constraint is satisfied for all plausible values of the decision variables."
      ],
      "metadata": {
        "id": "5wQ0Z6TVnT4Z"
      }
    },
    {
      "cell_type": "markdown",
      "source": [
        "### 3.6 Big-M model\n",
        "\n",
        "We'll take a step-by-step approach to the construction of a \"Big-M\" model."
      ],
      "metadata": {
        "id": "8g0mdkBIng20"
      }
    },
    {
      "cell_type": "markdown",
      "source": [
        "#### 3.6.1 Step 1. An incomplete bare-bones model\n",
        "\n",
        "We'll start this model building exercise with just enough variables and constraints to get an answer. This is not a complete model and will therefore give non-physical answers. But it does give a scaffold for further model building.\n",
        "\n",
        "This first model includes decision variables for the start and finish of each job, a decision variable for makespan, and constraints that define the relationships among these decision variables. The objective function is to minimize makespan."
      ],
      "metadata": {
        "id": "8-CxC95DnoF8"
      }
    },
    {
      "cell_type": "code",
      "source": [
        "def opt_schedule(JOBS):\n",
        "\n",
        "    # create model\n",
        "    m = ConcreteModel()\n",
        "    \n",
        "    # index set to simplify notation\n",
        "    m.JOBS = Set(initialize=JOBS.keys())\n",
        "\n",
        "    # decision variables\n",
        "    m.start = Var(m.JOBS, domain=NonNegativeReals)\n",
        "    m.finish = Var(m.JOBS, domain=NonNegativeReals)\n",
        "    \n",
        "    # additional decision variables for use in the objecive\n",
        "    m.makespan   = Var(domain=NonNegativeReals)\n",
        "    \n",
        "    # objective function\n",
        "    m.OBJ = Objective(expr = m.makespan, sense = minimize)\n",
        "    \n",
        "    # constraints\n",
        "    m.c = ConstraintList()\n",
        "    for j in m.JOBS:\n",
        "        m.c.add(m.finish[j] == m.start[j] + JOBS[j]['duration'])\n",
        "        m.c.add(m.finish[j] <= m.makespan)\n",
        "\n",
        "    SolverFactory('cbc').solve(m)\n",
        "    \n",
        "    SCHEDULE = {}\n",
        "    for j in m.JOBS:\n",
        "        SCHEDULE[j] = {'machine': 1, 'start': m.start[j](), 'finish': m.start[j]() + JOBS[j]['duration']}\n",
        "        \n",
        "    return SCHEDULE\n",
        "\n",
        "SCHEDULE = opt_schedule(JOBS)\n",
        "gantt(JOBS, SCHEDULE)\n",
        "kpi(JOBS, SCHEDULE)"
      ],
      "metadata": {
        "id": "r-ml2plbnF0B"
      },
      "execution_count": null,
      "outputs": []
    },
    {
      "cell_type": "markdown",
      "source": [
        "#### 3.6.2 Step 2.  Add release time information\n",
        "\n",
        "Obviously some jobs are being started before they are released for processing. The next version of the model adds that constraint."
      ],
      "metadata": {
        "id": "pTH3AbQcn7uB"
      }
    },
    {
      "cell_type": "code",
      "source": [
        "def opt_schedule(JOBS):\n",
        "\n",
        "    # create model\n",
        "    m = ConcreteModel()\n",
        "    \n",
        "    # index set to simplify notation\n",
        "    m.JOBS = Set(initialize=JOBS.keys())\n",
        "\n",
        "    # decision variables\n",
        "    m.start = Var(m.JOBS, domain=NonNegativeReals)\n",
        "    m.finish = Var(m.JOBS, domain=NonNegativeReals)\n",
        "    \n",
        "    # additional decision variables for use in the objecive\n",
        "    m.makespan   = Var(domain=NonNegativeReals)\n",
        "    \n",
        "    # objective function\n",
        "    m.OBJ = Objective(expr = m.makespan, sense = minimize)\n",
        "    \n",
        "    # constraints\n",
        "    m.c = ConstraintList()\n",
        "    for j in m.JOBS:\n",
        "        m.c.add(m.finish[j] == m.start[j] + JOBS[j]['duration'])\n",
        "        m.c.add(m.finish[j] <= m.makespan)\n",
        "        m.c.add(m.start[j] >= JOBS[j]['release'])\n",
        "\n",
        "    SolverFactory('cbc').solve(m)\n",
        "    \n",
        "    SCHEDULE = {}\n",
        "    for j in m.JOBS:\n",
        "        SCHEDULE[j] = {'machine': 1, 'start': m.start[j](), 'finish': m.start[j]() + JOBS[j]['duration']}\n",
        "        \n",
        "    return SCHEDULE\n",
        "\n",
        "SCHEDULE = opt_schedule(JOBS)\n",
        "gantt(JOBS, SCHEDULE)\n",
        "kpi(JOBS, SCHEDULE)"
      ],
      "metadata": {
        "id": "67xaj7ppoCMI"
      },
      "execution_count": null,
      "outputs": []
    },
    {
      "cell_type": "markdown",
      "source": [
        "#### 3.6.3 Step 3. Machine conflict constraints"
      ],
      "metadata": {
        "id": "Kxksxg-hoPD-"
      }
    },
    {
      "cell_type": "code",
      "source": [
        "def opt_schedule(JOBS):\n",
        "\n",
        "    # create model\n",
        "    m = ConcreteModel()\n",
        "    \n",
        "    # index set to simplify notation\n",
        "    m.JOBS = Set(initialize=JOBS.keys())\n",
        "    m.PAIRS = Set(initialize = m.JOBS * m.JOBS, dimen=2, filter=lambda m, j, k : j < k)\n",
        "\n",
        "    # decision variables\n",
        "    m.start = Var(m.JOBS, domain=NonNegativeReals)\n",
        "    m.finish = Var(m.JOBS, domain=NonNegativeReals)\n",
        "    m.y = Var(m.PAIRS, domain=Boolean)\n",
        "    \n",
        "    # additional decision variables for use in the objecive\n",
        "    m.makespan   = Var(domain=NonNegativeReals)\n",
        "    \n",
        "    # objective function\n",
        "    m.OBJ = Objective(expr = m.makespan, sense = minimize)\n",
        "    \n",
        "    # constraints\n",
        "    m.c = ConstraintList()\n",
        "    for j in m.JOBS:\n",
        "        m.c.add(m.finish[j] == m.start[j] + JOBS[j]['duration'])\n",
        "        m.c.add(m.finish[j] <= m.makespan)\n",
        "        m.c.add(m.start[j] >= JOBS[j]['release'])\n",
        "    \n",
        "    M = 100.0\n",
        "    for j,k in m.PAIRS:\n",
        "        m.c.add(m.finish[j] <= m.start[k] + M*m.y[j,k])\n",
        "        m.c.add(m.finish[k] <= m.start[j] + M*(1 - m.y[j,k]))\n",
        "\n",
        "    SolverFactory('cbc').solve(m)\n",
        "    \n",
        "    SCHEDULE = {}\n",
        "    for j in m.JOBS:\n",
        "        SCHEDULE[j] = {'machine': 1, 'start': m.start[j](), 'finish': m.start[j]() + JOBS[j]['duration']}\n",
        "        \n",
        "    return SCHEDULE\n",
        "\n",
        "SCHEDULE = opt_schedule(JOBS)\n",
        "gantt(JOBS, SCHEDULE)\n",
        "kpi(JOBS, SCHEDULE)"
      ],
      "metadata": {
        "id": "6sXPn14EoRkC"
      },
      "execution_count": null,
      "outputs": []
    },
    {
      "cell_type": "markdown",
      "source": [
        ""
      ],
      "metadata": {
        "id": "Gwk5IHDxoWGO"
      }
    },
    {
      "cell_type": "markdown",
      "source": [
        "#### 3.6.4 Step 4. Improve the objective function"
      ],
      "metadata": {
        "id": "eKK1GM2HoeYp"
      }
    },
    {
      "cell_type": "code",
      "source": [
        "def opt_schedule(JOBS):\n",
        "\n",
        "    # create model\n",
        "    m = ConcreteModel()\n",
        "    \n",
        "    # index set to simplify notation\n",
        "    m.JOBS = Set(initialize=JOBS.keys())\n",
        "    m.PAIRS = Set(initialize = m.JOBS * m.JOBS, dimen=2, filter=lambda m, j, k : j < k)\n",
        "\n",
        "    # decision variables\n",
        "    m.start = Var(m.JOBS, domain=NonNegativeReals)\n",
        "    m.finish = Var(m.JOBS, domain=NonNegativeReals)\n",
        "    m.pastdue = Var(m.JOBS, domain=NonNegativeReals)\n",
        "    m.y = Var(m.PAIRS, domain=Boolean)\n",
        "    \n",
        "    # additional decision variables for use in the objecive\n",
        "    m.makespan   = Var(domain=NonNegativeReals)\n",
        "    \n",
        "    # objective function\n",
        "    m.OBJ = Objective(expr = sum(m.pastdue[j] for j in m.JOBS), sense = minimize)\n",
        "    \n",
        "    # constraints\n",
        "    m.c = ConstraintList()\n",
        "    for j in m.JOBS:\n",
        "        m.c.add(m.finish[j] == m.start[j] + JOBS[j]['duration'])\n",
        "        m.c.add(m.finish[j] <= m.makespan)\n",
        "        m.c.add(m.start[j] >= JOBS[j]['release'])\n",
        "        m.c.add(m.finish[j] <= JOBS[j]['due'] + m.pastdue[j])\n",
        "    \n",
        "    M = 100.0\n",
        "    for j,k in m.PAIRS:\n",
        "        m.c.add(m.finish[j] <= m.start[k] + M*m.y[j,k])\n",
        "        m.c.add(m.finish[k] <= m.start[j] + M*(1 - m.y[j,k]))\n",
        "\n",
        "    SolverFactory('cbc').solve(m)\n",
        "    \n",
        "    SCHEDULE = {}\n",
        "    for j in m.JOBS:\n",
        "        SCHEDULE[j] = {'machine': 1, 'start': m.start[j](), 'finish': m.start[j]() + JOBS[j]['duration']}\n",
        "        \n",
        "    return SCHEDULE"
      ],
      "metadata": {
        "id": "M2Ny1vM_omk0"
      },
      "execution_count": null,
      "outputs": []
    },
    {
      "cell_type": "markdown",
      "source": [
        "### 3.7 Pyomo model"
      ],
      "metadata": {
        "id": "PpHjH8YGouAF"
      }
    },
    {
      "cell_type": "code",
      "source": [
        "def opt_schedule(JOBS):\n",
        "\n",
        "    # create model\n",
        "    m = ConcreteModel()\n",
        "    \n",
        "    # index set to simplify notation\n",
        "    m.J = Set(initialize=JOBS.keys())\n",
        "    m.PAIRS = Set(initialize = m.J * m.J, dimen=2, filter=lambda m, j, k : j < k)\n",
        "\n",
        "    # upper bounds on how long it would take to process all jobs\n",
        "    tmax = max([JOBS[j]['release'] for j in m.J]) + sum([JOBS[j]['duration'] for j in m.J])\n",
        "\n",
        "    # decision variables\n",
        "    m.start      = Var(m.J, domain=NonNegativeReals, bounds=(0, tmax))\n",
        "    m.pastdue    = Var(m.J, domain=NonNegativeReals, bounds=(0, tmax))\n",
        "    m.early      = Var(m.J, domain=NonNegativeReals, bounds=(0, tmax))\n",
        "    \n",
        "    # additional decision variables for use in the objecive\n",
        "    m.makespan   = Var(domain=NonNegativeReals, bounds=(0, tmax))\n",
        "    m.maxpastdue = Var(domain=NonNegativeReals, bounds=(0, tmax))\n",
        "    m.ispastdue  = Var(m.J, domain=Binary)\n",
        "\n",
        "    # objective function\n",
        "    m.OBJ = Objective(expr = sum([m.pastdue[j] for j in m.J]), sense = minimize)\n",
        "\n",
        "    # constraints\n",
        "    m.c1 = Constraint(m.J, rule=lambda m, j: m.start[j] >= JOBS[j]['release'])\n",
        "    m.c2 = Constraint(m.J, rule=lambda m, j: \n",
        "            m.start[j] + JOBS[j]['duration'] + m.early[j] == JOBS[j]['due'] + m.pastdue[j])\n",
        "    m.c3 = Disjunction(m.PAIRS, rule=lambda m, j, k:\n",
        "        [m.start[j] + JOBS[j]['duration'] <= m.start[k], \n",
        "         m.start[k] + JOBS[k]['duration'] <= m.start[j]])    \n",
        "    \n",
        "    m.c4 = Constraint(m.J, rule=lambda m, j: m.pastdue[j] <= m.maxpastdue)\n",
        "    m.c5 = Constraint(m.J, rule=lambda m, j: m.start[j] + JOBS[j]['duration'] <= m.makespan)\n",
        "    m.c6 = Constraint(m.J, rule=lambda m, j: m.pastdue[j] <= tmax*m.ispastdue[j])\n",
        "    \n",
        "    TransformationFactory('gdp.chull').apply_to(m)\n",
        "    SolverFactory('cbc').solve(m).write()\n",
        "    \n",
        "    SCHEDULE = {}\n",
        "    for j in m.J:\n",
        "        SCHEDULE[j] = {'machine': 1, 'start': m.start[j](), 'finish': m.start[j]() + JOBS[j]['duration']}\n",
        "        \n",
        "    return SCHEDULE\n",
        "\n",
        "SCHEDULE = opt_schedule(JOBS)\n",
        "gantt(JOBS, SCHEDULE)\n",
        "kpi(JOBS, SCHEDULE)"
      ],
      "metadata": {
        "id": "Cyir5rrho0Cy"
      },
      "execution_count": null,
      "outputs": []
    },
    {
      "cell_type": "markdown",
      "source": [
        "### 3.8 Multiple machines\n",
        "\n",
        "The case of multiple machines requires a modest extension of model described above. Given a set $M$ of machines, we introduce an additional decision binary variable $z_{j,m}$ indicating if job $j$ has been assigned to machine $m$. The additional constraints\n",
        "\n",
        "\\begin{align*}\n",
        "\\sum_{m\\in M}z_{j,m} & = 1 & \\forall j\n",
        "\\end{align*}\n",
        "\n",
        "require each job to be assigned to exactly one machine for processing.  \n",
        "\n",
        "If both jobs $j$ and $k$ have been assigned to machine $m$, then the disjunctive ordering constraints must apply.  This logic is equivalent to the following constraints for $j < k$.\n",
        "\n",
        "\\begin{align*}\n",
        "\\text{start}_{j}+\\text{duration}_{j} & \\leq \\text{start}_{k}+My_{j,k} + M(1-z_{j,m}) + M(1-z_{k,m})\\\\\n",
        "\\text{start}_{k}+\\text{duration}_{k} & \\leq \\text{start}_{j}+M(1-y_{j,k}) + M(1-z_{j,m}) + M(1-z_{k,m}))\n",
        "\\end{align*}"
      ],
      "metadata": {
        "id": "42xXVA3zpBHc"
      }
    },
    {
      "cell_type": "code",
      "source": [
        "MACHINES = ['A','B']\n",
        "\n",
        "def schedule_machines(JOBS, MACHINES):\n",
        "    \n",
        "    # create model\n",
        "    m = ConcreteModel()\n",
        "    \n",
        "    # index set to simplify notation\n",
        "    m.J = Set(initialize=JOBS.keys())\n",
        "    m.M = Set(initialize=MACHINES)\n",
        "    m.PAIRS = Set(initialize = m.J * m.J, dimen=2, filter=lambda m, j, k : j < k)\n",
        "\n",
        "    # decision variables\n",
        "    m.start      = Var(m.J, bounds=(0, 1000))\n",
        "    m.makespan   = Var(domain=NonNegativeReals)\n",
        "    m.pastdue    = Var(m.J, domain=NonNegativeReals)\n",
        "    m.early      = Var(m.J, domain=NonNegativeReals)\n",
        "    \n",
        "    # additional decision variables for use in the objecive\n",
        "    m.ispastdue  = Var(m.J, domain=Binary)\n",
        "    m.maxpastdue = Var(domain=NonNegativeReals)\n",
        "    \n",
        "    # for binary assignment of jobs to machines\n",
        "    m.z = Var(m.J, m.M, domain=Binary)\n",
        "\n",
        "    # for modeling disjunctive constraints\n",
        "    m.y = Var(m.PAIRS, domain=Binary)\n",
        "    BigM = max([JOBS[j]['release'] for j in m.J]) + sum([JOBS[j]['duration'] for j in m.J])\n",
        "\n",
        "    m.OBJ = Objective(expr = sum(m.pastdue[j] for j in m.J) + m.makespan - sum(m.early[j] for j in m.J), sense = minimize)\n",
        "\n",
        "    m.c1 = Constraint(m.J, rule=lambda m, j: \n",
        "            m.start[j] >= JOBS[j]['release'])\n",
        "    m.c2 = Constraint(m.J, rule=lambda m, j:\n",
        "            m.start[j] + JOBS[j]['duration'] + m.early[j] == JOBS[j]['due'] + m.pastdue[j])\n",
        "    m.c3 = Constraint(m.J, rule=lambda m, j: \n",
        "            sum(m.z[j,mach] for mach in m.M) == 1)\n",
        "    m.c4 = Constraint(m.J, rule=lambda m, j: \n",
        "            m.pastdue[j] <= BigM*m.ispastdue[j])\n",
        "    m.c5 = Constraint(m.J, rule=lambda m, j: \n",
        "            m.pastdue[j] <= m.maxpastdue)\n",
        "    m.c6 = Constraint(m.J, rule=lambda m, j: \n",
        "            m.start[j] + JOBS[j]['duration'] <= m.makespan)\n",
        "    m.d1 = Constraint(m.M, m.PAIRS, rule = lambda m, mach, j, k:\n",
        "            m.start[j] + JOBS[j]['duration'] <= m.start[k] + BigM*(m.y[j,k] + (1-m.z[j,mach]) + (1-m.z[k,mach])))\n",
        "    m.d2 = Constraint(m.M, m.PAIRS, rule = lambda m, mach, j, k: \n",
        "            m.start[k] + JOBS[k]['duration'] <= m.start[j] + BigM*((1-m.y[j,k]) + (1-m.z[j,mach]) + (1-m.z[k,mach])))\n",
        "    \n",
        "    SolverFactory('cbc').solve(m).write()\n",
        "    \n",
        "    SCHEDULE = {}\n",
        "    for j in m.J:\n",
        "        print(value(m.z[j,'A']), value(m.z[j,'B']))\n",
        "        SCHEDULE[j] = {\n",
        "            'start': m.start[j](), \n",
        "            'finish': m.start[j]() + JOBS[j]['duration'],\n",
        "            'machine': [mach for mach in MACHINES if value(m.z[j,mach])][0]\n",
        "        }\n",
        "        \n",
        "    return SCHEDULE\n",
        "        \n",
        "SCHEDULE = schedule_machines(JOBS,MACHINES)\n",
        "gantt(JOBS, SCHEDULE)\n",
        "kpi(JOBS, SCHEDULE)"
      ],
      "metadata": {
        "id": "jJsXALbopESd"
      },
      "execution_count": null,
      "outputs": []
    },
    {
      "cell_type": "markdown",
      "source": [
        "### 3.9 Disjunctive Version\n",
        "\n"
      ],
      "metadata": {
        "id": "QPhGOQ4kpqyn"
      }
    },
    {
      "cell_type": "code",
      "source": [
        "MACHINES = ['A','B']\n",
        "\n",
        "def schedule_machines(JOBS, MACHINES):\n",
        "    \n",
        "    # create model\n",
        "    m = ConcreteModel()\n",
        "    \n",
        "    # index set to simplify notation\n",
        "    m.J = Set(initialize=JOBS.keys())\n",
        "    m.M = Set(initialize=MACHINES)\n",
        "    m.PAIRS = Set(initialize = m.J * m.J, dimen=2, filter=lambda m, j, k : j < k)\n",
        "\n",
        "    # decision variables\n",
        "    m.start      = Var(m.J, bounds=(0, 1000))\n",
        "    m.makespan   = Var(domain=NonNegativeReals)\n",
        "    m.pastdue    = Var(m.J, bounds=(0, 1000))\n",
        "    m.early      = Var(m.J, bounds=(0, 10000))\n",
        "    \n",
        "    # additional decision variables for use in the objecive\n",
        "    m.ispastdue  = Var(m.J, domain=Binary)\n",
        "    m.maxpastdue = Var(domain=NonNegativeReals)\n",
        "    \n",
        "    # for binary assignment of jobs to machines\n",
        "    m.z = Var(m.J, m.M, domain=Binary)\n",
        "\n",
        "    # for modeling disjunctive constraints\n",
        "    BigM = max([JOBS[j]['release'] for j in m.J]) + sum([JOBS[j]['duration'] for j in m.J])\n",
        "\n",
        "    m.OBJ = Objective(expr = sum(m.pastdue[j] for j in m.J) + m.makespan - sum(m.early[j] for j in m.J), sense = minimize)\n",
        "\n",
        "    # job starts after it is released\n",
        "    m.c1 = Constraint(m.J, rule=lambda m, j: m.start[j] >= JOBS[j]['release'])\n",
        "\n",
        "    # defines early and pastdue\n",
        "    m.c2 = Constraint(m.J, rule=lambda m, j: m.start[j] + JOBS[j]['duration'] + m.early[j] == JOBS[j]['due'] + m.pastdue[j])\n",
        "    m.d1 = Disjunction(m.J, rule=lambda m, j: [m.early[j]==0, m.pastdue[j]==0])\n",
        "\n",
        "    # each job is assigned to one and only one machine\n",
        "    m.c3 = Constraint(m.J, rule=lambda m, j: sum(m.z[j, mach] for mach in m.M) == 1)\n",
        "\n",
        "    # defines a binary variable indicating if a job is past due\n",
        "    m.c4 = Disjunction(m.J, rule=lambda m, j: [m.pastdue[j] == 0, m.ispastdue[j] == 1])\n",
        "\n",
        "    # all jobs must be finished before max pastdue\n",
        "    m.c5 = Constraint(m.J, rule=lambda m, j: m.pastdue[j] <= m.maxpastdue)\n",
        "\n",
        "    # defining make span\n",
        "    m.c6 = Constraint(m.J, rule=lambda m, j: m.start[j] + JOBS[j]['duration'] <= m.makespan)\n",
        " \n",
        "    # disjuctions\n",
        "    m.d0 = Disjunction(m.M, m.PAIRS, rule = lambda m, mach, j, k: \n",
        "                       [m.start[j] + JOBS[j]['duration'] <= m.start[k] + BigM*((1-m.z[j, mach]) + (1-m.z[k, mach])),\n",
        "                        m.start[k] + JOBS[k]['duration'] <= m.start[j] + BigM*((1-m.z[j, mach]) + (1-m.z[k, mach]))])\n",
        "  \n",
        "    transform = TransformationFactory('gdp.hull')\n",
        "    transform.apply_to(m)\n",
        "\n",
        "    SolverFactory('cbc').solve(m).write()\n",
        "    \n",
        "    SCHEDULE = {}\n",
        "    for j in m.J:\n",
        "        SCHEDULE[j] = {\n",
        "            'start': m.start[j](), \n",
        "            'finish': m.start[j]() + JOBS[j]['duration'],\n",
        "            'machine': [mach for mach in MACHINES if value(m.z[j,mach])][0]\n",
        "        }\n",
        "        \n",
        "    return SCHEDULE\n",
        "        \n",
        "SCHEDULE = schedule_machines(JOBS,MACHINES)\n",
        "gantt(JOBS, SCHEDULE)\n",
        "kpi(JOBS, SCHEDULE)"
      ],
      "metadata": {
        "id": "tIjTsUDrpvNm"
      },
      "execution_count": null,
      "outputs": []
    },
    {
      "cell_type": "markdown",
      "source": [
        "## 4.- Soft Landing Apollo 11 on the Moon"
      ],
      "metadata": {
        "id": "fHxC7jbJ2hdr"
      }
    },
    {
      "cell_type": "markdown",
      "source": [
        "Landing a rocket on the surface of a planet was once a staple of science fiction, and then realized in the 1960's through multiple manned and unmanned landings on the moon. It's hard to overestimate the degree to which these missions inspired a new generation \n",
        "\n",
        "![](https://upload.wikimedia.org/wikipedia/commons/thumb/c/cf/Eagle_In_Lunar_Orbit_-_GPN-2000-001210.jpg/368px-Eagle_In_Lunar_Orbit_-_GPN-2000-001210.jpg)\n",
        "\n",
        "<a title=\"NASA Michael Collins [Public domain], via Wikimedia Commons\" href=\"https://commons.wikimedia.org/wiki/File:Eagle_In_Lunar_Orbit_-_GPN-2000-001210.jpg\"></a>\n",
        "NASA Michael Collins [Public domain]\n",
        "\n",
        "**Rocket Landing Videos** (these never get old):\n",
        "\n",
        "* [Apollo 11 Landing on the Moon, July 20, 1969](https://youtu.be/k_OD2V6fMLQ)\n",
        "* [SpaceX Falcon Heavy Side Boosters Landing at Kennedy Space Center, February 6, 2018 ](https://youtu.be/u0-pfzKbh2k)\n",
        "* [Blue Origin, November 24, 2014](https://youtu.be/9pillaOxGCo?t=103)\n",
        "\n",
        "Inspired by these examples, this notebook uses Pyomo and a simple model of a rocket to compute a control policy for a soft landing. The parameters used correspond to the descent of the Apollo 11 Lunar Module to the moon on July 20, 1969."
      ],
      "metadata": {
        "id": "c0djca7ZvRz_"
      }
    },
    {
      "cell_type": "markdown",
      "source": [
        "### 4.1 Imports"
      ],
      "metadata": {
        "id": "G_4QmZ4BvcCv"
      }
    },
    {
      "cell_type": "code",
      "source": [
        "%matplotlib inline\n",
        "\n",
        "import matplotlib.pyplot as plt\n",
        "import numpy as np\n",
        "\n",
        "import shutil\n",
        "import sys\n",
        "import os.path\n",
        "\n",
        "if not shutil.which(\"pyomo\"):\n",
        "    !pip install -q pyomo\n",
        "    assert(shutil.which(\"pyomo\"))\n",
        "\n",
        "if not (shutil.which(\"ipopt\") or os.path.isfile(\"ipopt\")):\n",
        "    if \"google.colab\" in sys.modules:\n",
        "        !wget -N -q \"https://ampl.com/dl/open/ipopt/ipopt-linux64.zip\"\n",
        "        !unzip -o -q ipopt-linux64\n",
        "    else:\n",
        "        try:\n",
        "            !conda install -c conda-forge ipopt \n",
        "        except:\n",
        "            pass\n",
        "\n",
        "assert(shutil.which(\"ipopt\") or os.path.isfile(\"ipopt\"))\n",
        "from pyomo.environ import *\n",
        "from pyomo.dae import *"
      ],
      "metadata": {
        "id": "JRcrIjXuveHf"
      },
      "execution_count": null,
      "outputs": []
    },
    {
      "cell_type": "markdown",
      "source": [
        "### 4.2 Version 1: Vertical dynamics of a rocket with constant mass\n",
        "\n",
        "For a rocket with a mass $m$ in vertical flight at altitude $h$, a momentum balance yields the model\n",
        "\n",
        "\\begin{align*}\n",
        "m\\frac{d^2h}{dt^2} & = - m g + v_eu \\\\\n",
        "\\end{align*}\n",
        "\n",
        "where $u$ is the mass flow of propellant and $v_e$ is the velocity of the exhaust relative to the rocket. In this first attempt at modeling and control we will neglect the change in rocket mass due to fuel burn.\n",
        "\n",
        "![](https://upload.wikimedia.org/wikipedia/commons/thumb/1/13/LM_illustration_02-IT.png/368px-LM_illustration_02-IT.png)\n",
        "\n",
        "<a title=\"LM_illustration_02.jpg: NASA Marshall Space Flight Center (NASA-MSFC)\n",
        "derivative work: Adert [Public domain], via Wikimedia Commons\" href=\"https://commons.wikimedia.org/wiki/File:LM_illustration_02-IT.png\"></a>\n",
        "\n",
        "LM_illustration_02.jpg: NASA Marshall Space Flight Center (NASA-MSFC)derivative work: Adert [Public domain]\n",
        "\n",
        "The complete Apollo lunar module was composed of descent and ascent stages, each containing a rocket engine and associated fuel tanks. The descent stage carried the entire assembly to the lunar surface.  The total mass $m$ in the above model therefore consists of the dry and fuel masses of both stages. For the purpose of analyzing the descent of the lunar module to the lunar surface, the 'dry' mass consists of the total mass of the ascent stage plus the dry mass of the descent stage. \n",
        "\n",
        "The following data is for the [Apollo 11 Lunar Module](https://nssdc.gsfc.nasa.gov/nmc/spacecraft/display.action?id=1969-059C)."
      ],
      "metadata": {
        "id": "T_7N6-Trvry6"
      }
    },
    {
      "cell_type": "code",
      "source": [
        "# lunar module\n",
        "m_ascent_dry = 2445.0          # kg mass of ascent stage without fuel\n",
        "m_ascent_fuel = 2376.0         # kg mass of ascent stage fuel\n",
        "m_descent_dry = 2034.0         # kg mass of descent stage without fuel\n",
        "m_descent_fuel = 8248.0        # kg mass of descent stage fuel\n",
        "\n",
        "m_fuel = m_descent_fuel\n",
        "m_dry = m_ascent_dry + m_ascent_fuel + m_descent_dry\n",
        "m_total = m_dry + m_fuel\n",
        "\n",
        "# descent engine characteristics\n",
        "v_exhaust = 3050.0             # m/s\n",
        "u_max = 45050.0/v_exhaust      # 45050 newtons / exhaust velocity\n",
        "\n",
        "# landing mission specifications\n",
        "h_initial = 100000.0           # meters\n",
        "v_initial = 1520               # orbital velocity m/s\n",
        "g = 1.62                       # m/s**2"
      ],
      "metadata": {
        "id": "8Ll6vzOfvzsE"
      },
      "execution_count": null,
      "outputs": []
    },
    {
      "cell_type": "markdown",
      "source": [
        "#### 4.2.1 First attempt at a solution\n",
        "\n",
        "For this first attempt at a solution, we will choose an arbitrary value for the length of the landing mission. The integration will start with the initial conditions, and we'll see what happens."
      ],
      "metadata": {
        "id": "MUNnwLygv2PN"
      }
    },
    {
      "cell_type": "code",
      "source": [
        "t_f = 100\n",
        "\n",
        "m = ConcreteModel()\n",
        "m.t = ContinuousSet(bounds=(0, t_f))\n",
        "m.h = Var(m.t)\n",
        "m.u = Var(m.t, domain=NonNegativeReals)\n",
        "\n",
        "m.v = DerivativeVar(m.h, wrt=m.t)\n",
        "m.a = DerivativeVar(m.v, wrt=m.t)\n",
        "\n",
        "m.ode1 = Constraint(m.t, rule = lambda m, t: m_total*m.a[t] == -m_total*g + v_exhaust*m.u[t])\n",
        "\n",
        "m.h[0].fix(h_initial)\n",
        "m.v[0].fix(-v_initial)\n",
        "\n",
        "def solve(m):\n",
        "  \n",
        "    TransformationFactory('dae.finite_difference').apply_to(m, nfe=200, scheme='FORWARD')\n",
        "    SolverFactory('ipopt').solve(m)\n",
        "    \n",
        "    tsim = [t for t in m.t]\n",
        "    hsim = [m.h[t]() for t in m.t]\n",
        "    usim = [m.u[t]() for t in m.t]\n",
        "\n",
        "    plt.figure(figsize=(10, 8))\n",
        "    plt.subplot(3,1,1)\n",
        "    plt.plot(tsim, hsim)\n",
        "    plt.title('altitude')\n",
        "    plt.xlabel('time / seconds')\n",
        "    plt.ylabel('meters')\n",
        "    plt.grid(True)\n",
        "\n",
        "    plt.subplot(3,1,2)\n",
        "    plt.plot(tsim, usim)\n",
        "    plt.title('engine mass flow')\n",
        "    plt.xlabel('time / seconds')\n",
        "    plt.ylabel('kg/sec')\n",
        "    plt.grid(True)\n",
        "\n",
        "    plt.tight_layout()\n",
        "\n",
        "solve(m)"
      ],
      "metadata": {
        "id": "YNGSvrEJv7cv"
      },
      "execution_count": null,
      "outputs": []
    },
    {
      "cell_type": "markdown",
      "source": [
        "This first attempt at a solution included no specification related to landing on the lunar surface. The solver reported a solution where the engine doesn't fire, and the lunar module crashes into the lunar surface at full speed about 66 seconds after the start of the descent mission."
      ],
      "metadata": {
        "id": "GZ5GD2KHwJLd"
      }
    },
    {
      "cell_type": "markdown",
      "source": [
        "#### 4.2.2 Land on the surface, not above or below the surface."
      ],
      "metadata": {
        "id": "c1y_D580wKkc"
      }
    },
    {
      "cell_type": "markdown",
      "source": [
        "The mission crashed!  It's clear now that we haven't fully specified the desired outcome of the mission.  Let's start by specifying the final condition as being on the surface\n",
        "\n",
        "$$h(t_f) = 0$$\n",
        "\n",
        "This condition is implemented in Pyomo by fixing the terminal value of $h$."
      ],
      "metadata": {
        "id": "NDUNKK2hwSOE"
      }
    },
    {
      "cell_type": "code",
      "source": [
        "t_f = 100\n",
        "\n",
        "m = ConcreteModel()\n",
        "m.t = ContinuousSet(bounds=(0, t_f))\n",
        "m.h = Var(m.t)\n",
        "m.u = Var(m.t, domain=NonNegativeReals)\n",
        "\n",
        "m.v = DerivativeVar(m.h, wrt=m.t)\n",
        "m.a = DerivativeVar(m.v, wrt=m.t)\n",
        "\n",
        "m.ode1 = Constraint(m.t, rule = lambda m, t: m_total*m.a[t] == -m_total*g + v_exhaust*m.u[t])\n",
        "\n",
        "m.h[0].fix(h_initial)\n",
        "m.v[0].fix(-v_initial)\n",
        "\n",
        "m.h[t_f].fix(0)    # land on surface\n",
        "\n",
        "solve(m)"
      ],
      "metadata": {
        "id": "LkYs4YyUwVU0"
      },
      "execution_count": null,
      "outputs": []
    },
    {
      "cell_type": "markdown",
      "source": [
        "The descent mission now finishes the descent at the lunar surface, but unfortunately arrives with sufficient velocity to still be considered a crash."
      ],
      "metadata": {
        "id": "K46GChn5wY4g"
      }
    },
    {
      "cell_type": "markdown",
      "source": [
        "#### 4.2.3 Make that a soft landing\n",
        "\n",
        "To ensure a soft landing, we also need to specify a terminal velocity.  The terminal conditions are now\n",
        "\n",
        "\\begin{align*}\n",
        "h(t_f) & = 0 \\\\\n",
        "v(t_f) & = 0\n",
        "\\end{align*}\n",
        "\n",
        "These conditions are implement by fixing terminal values of the associated Pyomo variables."
      ],
      "metadata": {
        "id": "4smEzICYwZko"
      }
    },
    {
      "cell_type": "markdown",
      "source": [
        "The lunar module now is now successfully landing on the lunar surface, but the fuel flow requirement exceeds the maximum capacity of the descent engine."
      ],
      "metadata": {
        "id": "GJSuGrI4wopP"
      }
    },
    {
      "cell_type": "markdown",
      "source": [
        "#### 4.2.4 Restrict fuel flow to engine capacity\n",
        "\n",
        "The next step is establish constraints on the control action by limiting fuel flow to the mass flow limits of the descent engine.\n",
        "\n",
        "$$ 0 \\leq u(t) \\leq u_{max}$$\n",
        "\n",
        "Since less thrust is available, we may need to extend the length of the landing mission to find a feasible solution to the optimization problem."
      ],
      "metadata": {
        "id": "PshTnCiWwp2M"
      }
    },
    {
      "cell_type": "code",
      "source": [
        "t_f = 3000\n",
        "\n",
        "m = ConcreteModel()\n",
        "m.t = ContinuousSet(bounds=(0, t_f))\n",
        "m.h = Var(m.t)\n",
        "m.u = Var(m.t, bounds=(0, u_max))\n",
        "\n",
        "m.v = DerivativeVar(m.h, wrt=m.t)\n",
        "m.a = DerivativeVar(m.v, wrt=m.t)\n",
        "\n",
        "m.ode1 = Constraint(m.t, rule = lambda m, t: m_total*m.a[t] == -m_total*g + v_exhaust*m.u[t])\n",
        "\n",
        "m.h[0].fix(h_initial)\n",
        "m.v[0].fix(-v_initial)\n",
        "\n",
        "m.h[t_f].fix(0)    # land on surface\n",
        "m.v[t_f].fix(0)    # soft landing\n",
        "\n",
        "solve(m)"
      ],
      "metadata": {
        "id": "BE6Pio-NwuqO"
      },
      "execution_count": null,
      "outputs": []
    },
    {
      "cell_type": "markdown",
      "source": [
        "### 4.3 Version 2: Rescaled model\n",
        "\n",
        "At this point, it's now clear the first version of this model has run into some serious problems:\n",
        "\n",
        "* The calculated trajectory takes us through a crash landing and trip through the interior of the moon. \n",
        "* The engine thrust never goes to zero, even when the lander is at zero velocity and on the surface. The reason is that the model doesn't account for the reaction force of the surface on the lander. So the lander is really just hoovering rather than landing.\n",
        "* There is no obvious means of estimating the time required for the mission. \n",
        "\n",
        "Let's begin with the last issue. We will introduce an additional decision variable $T$ denoting the length of the mission. Time is then rescaled as\n",
        "\n",
        "$$\\tau = \\frac{t}{T}\\quad\\implies\\quad t =\\tau T$$\n",
        "\n",
        "The differential equation model then becomes\n",
        "\n",
        "\\begin{align*}\n",
        "\\frac{m}{T^2}\\frac{d^2h}{d\\tau^2} & = - m g + v_eu \\\\\n",
        "\\end{align*}\n",
        "\n",
        "The net result is that an additional variable, $T$, denoting the duration of the descent mission has been introduced into the optimization problem."
      ],
      "metadata": {
        "id": "Vp4EAR0TwyZr"
      }
    },
    {
      "cell_type": "code",
      "source": [
        "m = ConcreteModel()\n",
        "m.t = ContinuousSet(bounds=(0, 1))\n",
        "m.h = Var(m.t)\n",
        "m.u = Var(m.t, bounds=(0, u_max))\n",
        "m.T = Var(domain=NonNegativeReals)\n",
        "\n",
        "m.v = DerivativeVar(m.h, wrt=m.t)\n",
        "m.a = DerivativeVar(m.v, wrt=m.t)\n",
        "\n",
        "m.ode1 = Constraint(m.t, rule = lambda m, t: \n",
        "    m_total*m.a[t]/m.T**2 == -m_total*g + v_exhaust*m.u[t])\n",
        "\n",
        "m.h[0].fix(h_initial)\n",
        "m.v[0].fix(-v_initial)\n",
        "\n",
        "m.h[1].fix(0)    # land on surface\n",
        "m.v[1].fix(0)    # soft landing\n",
        "\n",
        "def solve(m):\n",
        "  \n",
        "    TransformationFactory('dae.finite_difference').apply_to(m, nfe=50, scheme='FORWARD')\n",
        "    SolverFactory('ipopt').solve(m)\n",
        "    \n",
        "    tsim = [t*m.T() for t in m.t]\n",
        "    hsim = [m.h[t]() for t in m.t]\n",
        "    usim = [m.u[t]() for t in m.t]\n",
        "\n",
        "    plt.subplot(2,1,1)\n",
        "    plt.plot(tsim, hsim)\n",
        "    plt.title('altitude')\n",
        "    plt.xlabel('time / seconds')\n",
        "    plt.ylabel('meters')\n",
        "    plt.legend(['mission length =' + str(round(m.T(),1)) + ' seconds'])\n",
        "    plt.grid(True)\n",
        "    \n",
        "    plt.subplot(2,1,2)\n",
        "    plt.plot(tsim, usim)\n",
        "    plt.title('engine mass flow')\n",
        "    plt.xlabel('time / seconds')\n",
        "    plt.ylabel('kg/sec')\n",
        "    plt.grid(True)\n",
        "    \n",
        "    plt.tight_layout()\n",
        "\n",
        "solve(m)"
      ],
      "metadata": {
        "id": "LZh-kn9Rw32n"
      },
      "execution_count": null,
      "outputs": []
    },
    {
      "cell_type": "code",
      "source": [
        "t_f = 100\n",
        "\n",
        "m = ConcreteModel()\n",
        "m.t = ContinuousSet(bounds=(0, t_f))\n",
        "m.h = Var(m.t)\n",
        "m.u = Var(m.t, domain=NonNegativeReals)\n",
        "\n",
        "m.v = DerivativeVar(m.h, wrt=m.t)\n",
        "m.a = DerivativeVar(m.v, wrt=m.t)\n",
        "\n",
        "m.ode1 = Constraint(m.t, rule = lambda m, t: m_total*m.a[t] == -m_total*g + v_exhaust*m.u[t])\n",
        "\n",
        "m.h[0].fix(h_initial)\n",
        "m.v[0].fix(-v_initial)\n",
        "\n",
        "m.h[t_f].fix(0)    # land on surface\n",
        "m.v[t_f].fix(0)    # soft landing\n",
        "\n",
        "solve(m)"
      ],
      "metadata": {
        "id": "FB19QFXdwewc"
      },
      "execution_count": null,
      "outputs": []
    },
    {
      "cell_type": "markdown",
      "source": [
        "#### 4.3.1 How much fuel is burned?\n",
        "\n",
        "Fuel consumption can be calculated as\n",
        "\n",
        "\\begin{align*}\n",
        "\\mbox{fuel consumed} & = \\int_0^T u(t)\\,dt  = T \\int_0^1u(\\tau)\\,d\\tau\n",
        "\\end{align*}"
      ],
      "metadata": {
        "id": "xRX6xroTxHzk"
      }
    },
    {
      "cell_type": "code",
      "source": [
        "m = ConcreteModel()\n",
        "m.t = ContinuousSet(bounds=(0, 1))\n",
        "m.h = Var(m.t)\n",
        "m.u = Var(m.t, bounds=(0, u_max))\n",
        "m.T = Var(domain=NonNegativeReals)\n",
        "\n",
        "m.v = DerivativeVar(m.h, wrt=m.t)\n",
        "m.a = DerivativeVar(m.v, wrt=m.t)\n",
        "\n",
        "m.fuel = Integral(m.t, wrt=m.t, rule = lambda m, t: m.u[t]*m.T)\n",
        "\n",
        "m.ode1 = Constraint(m.t, rule = lambda m, t: \n",
        "    m_total*m.a[t]/m.T**2 == -m_total*g + v_exhaust*m.u[t])\n",
        "\n",
        "m.h[0].fix(h_initial)\n",
        "m.v[0].fix(-v_initial)\n",
        "\n",
        "m.h[1].fix(0)    # land on surface\n",
        "m.v[1].fix(0)    # soft landing\n",
        "\n",
        "def solve(m):\n",
        "    TransformationFactory('dae.finite_difference').apply_to(m, nfe=50, scheme='FORWARD')\n",
        "    SolverFactory('ipopt').solve(m)\n",
        "    \n",
        "    tsim = [t*m.T() for t in m.t]\n",
        "    hsim = [m.h[t]() for t in m.t]\n",
        "    usim = [m.u[t]() for t in m.t]\n",
        "\n",
        "    plt.subplot(2,1,1)\n",
        "    plt.plot(tsim, hsim)\n",
        "    plt.title('altitude')\n",
        "    plt.ylabel('meters')\n",
        "    plt.legend(['mission length = ' + str(round(m.T(),1)) + ' seconds'])\n",
        "    plt.grid(True)\n",
        "\n",
        "    plt.subplot(2,1,2)\n",
        "    plt.plot(tsim, usim)\n",
        "    plt.title('engine mass flow')\n",
        "    plt.xlabel('time / seconds')\n",
        "    plt.ylabel('kg/sec')\n",
        "    plt.legend(['fuel burned = ' + str(round(m.fuel(),1)) + ' kg'])\n",
        "    plt.grid(True)\n",
        "\n",
        "    plt.tight_layout()\n",
        "\n",
        "solve(m)"
      ],
      "metadata": {
        "id": "mU0ghlPmxKk-"
      },
      "execution_count": null,
      "outputs": []
    },
    {
      "cell_type": "markdown",
      "source": [
        "#### 4.3.2 Minimize fuel consumption\n",
        "\n",
        "$$\\min_{u(\\tau), T} T\\int_0^1 u(\\tau)\\, d\\tau$$"
      ],
      "metadata": {
        "id": "WfytDQacxRuo"
      }
    },
    {
      "cell_type": "code",
      "source": [
        "m = ConcreteModel()\n",
        "m.t = ContinuousSet(bounds=(0, 1))\n",
        "m.h = Var(m.t)\n",
        "m.u = Var(m.t, bounds=(0, u_max))\n",
        "m.T = Var(domain=NonNegativeReals)\n",
        "\n",
        "m.v = DerivativeVar(m.h, wrt=m.t)\n",
        "m.a = DerivativeVar(m.v, wrt=m.t)\n",
        "\n",
        "m.fuel = Integral(m.t, wrt=m.t, rule = lambda m, t: m.u[t]*m.T)\n",
        "m.obj = Objective(expr=m.fuel, sense=minimize)\n",
        "\n",
        "m.ode1 = Constraint(m.t, rule = lambda m, t: m_total*m.a[t]/m.T**2 == -m_total*g + v_exhaust*m.u[t])\n",
        "\n",
        "m.h[0].fix(h_initial)\n",
        "m.v[0].fix(-v_initial)\n",
        "\n",
        "m.h[1].fix(0)    # land on surface\n",
        "m.v[1].fix(0)    # soft landing\n",
        "\n",
        "solve(m)"
      ],
      "metadata": {
        "id": "M-pCDHohxTEC"
      },
      "execution_count": null,
      "outputs": []
    },
    {
      "cell_type": "markdown",
      "source": [
        "### 4.4 Version 3: Rocket model\n",
        "\n",
        "The first version of the rocket model has run into a serious problem because it appears not to provide enough mass flow to the engine to prevent a crash landing. But that may be an artifact of the assumption of constant mass. For Apollo 11 Lunar Module, for example, the fuel in the descent engine comprises more than 50% of the total mass of the lander.\n",
        "\n",
        "For the second version of the rocket model, we augment the model with a mass balance for fuel. This yields \n",
        "\n",
        "\\begin{align*}\n",
        "\\frac{m(t)}{T^2}\\frac{d^2h}{d\\tau^2} & = - m(t)g + v_eu \\\\\n",
        "\\\\\n",
        "\\frac{1}{T}\\frac{dm}{d\\tau} & = -u\n",
        "\\end{align*}"
      ],
      "metadata": {
        "id": "ewpfeOimxWMU"
      }
    },
    {
      "cell_type": "markdown",
      "source": [
        "At this point we need to worry about nonsensical answers to the optimization for minimum fuel. For this purpose we add upper and lower bounds on  T  that should restrict the solver to meaningful solutions."
      ],
      "metadata": {
        "id": "MIUSiJN2xen9"
      }
    },
    {
      "cell_type": "code",
      "source": [
        "m = ConcreteModel()\n",
        "m.t = ContinuousSet(bounds=(0, 1))\n",
        "m.h = Var(m.t, domain=NonNegativeReals)\n",
        "m.m = Var(m.t)\n",
        "m.u = Var(m.t, bounds=(0, u_max))\n",
        "m.T = Var(bounds=(50,3000))\n",
        "\n",
        "m.v = DerivativeVar(m.h, wrt=m.t)\n",
        "m.a = DerivativeVar(m.v, wrt=m.t)\n",
        "m.mdot = DerivativeVar(m.m, wrt=m.t)\n",
        "\n",
        "m.fuel = Integral(m.t, wrt=m.t, rule = lambda m, t: m.u[t]*m.T)\n",
        "m.obj = Objective(expr=m.fuel, sense=minimize)\n",
        "\n",
        "m.ode1 = Constraint(m.t, rule = lambda m, t: m.m[t]*m.a[t]/m.T**2 == -m.m[t]*g + v_exhaust*m.u[t])\n",
        "m.ode2 = Constraint(m.t, rule = lambda m, t: m.mdot[t]/m.T == -m.u[t])\n",
        "\n",
        "m.h[0].fix(h_initial)\n",
        "m.v[0].fix(-v_initial)\n",
        "m.m[0].fix(m_total)\n",
        "\n",
        "m.h[1].fix(0)    # land on surface\n",
        "m.v[1].fix(0)    # soft landing\n",
        "\n",
        "def solve(m):\n",
        "    TransformationFactory('dae.finite_difference').apply_to(m, nfe=50, scheme='FORWARD')\n",
        "    SolverFactory('ipopt').solve(m)\n",
        "    \n",
        "    m_nonfuel = m_ascent_dry + m_ascent_fuel + m_descent_dry\n",
        "    \n",
        "    tsim = [t*m.T() for t in m.t]\n",
        "    hsim = [m.h[t]() for t in m.t]\n",
        "    usim = [m.u[t]() for t in m.t]\n",
        "    fsim = [m.m[t]() - m_nonfuel for t in m.t]\n",
        "\n",
        "    plt.figure(figsize=(8,6))\n",
        "    plt.subplot(3,1,1)\n",
        "    plt.plot(tsim, hsim)\n",
        "    plt.title('altitude')\n",
        "    plt.ylabel('meters')\n",
        "    plt.legend(['mission length = ' + str(round(m.T(),1)) + ' seconds'])\n",
        "    plt.grid(True)\n",
        "\n",
        "    plt.subplot(3,1,2)\n",
        "    plt.plot(tsim, usim)\n",
        "    plt.title('engine mass flow')\n",
        "    plt.ylabel('kg/sec')\n",
        "    plt.legend(['fuel burned = ' + str(round(m.fuel(),1)) + ' kg'])\n",
        "    plt.grid(True)\n",
        "\n",
        "    plt.subplot(3,1,3)\n",
        "    plt.plot(tsim, fsim)\n",
        "    plt.title('fuel remaining')\n",
        "    plt.xlabel('time / seconds')\n",
        "    plt.ylabel('kg')\n",
        "    plt.legend(['fuel remaining = ' + str(round(fsim[-1],2)) + ' kg'])\n",
        "    plt.grid(True)\n",
        "\n",
        "    plt.tight_layout()\n",
        "\n",
        "solve(m)"
      ],
      "metadata": {
        "id": "EwYmI6YHxv-p"
      },
      "execution_count": null,
      "outputs": []
    },
    {
      "cell_type": "markdown",
      "source": [
        "---\n",
        "# References"
      ],
      "metadata": {
        "id": "lXGLNRhYhvlT"
      }
    },
    {
      "cell_type": "markdown",
      "source": [
        "[1] Richard W. Cottle and Mukund N. Thapa. Linear and Nonlinear Programming, 1th Edition. Springer-Verlag New York, 2017.\n",
        "ISBN: 9781493970537.\n",
        "URL: https://www.springer.com/gp/book/9781493970537.\n",
        "\n",
        "[2] William E. Hart, Carl D. Laird, Jean-Paul Watson, David L. Woodruff, Gabriel A. Hackebeil, Bethany L. Nicholson, and\n",
        "John D. Siirola. Pyomo – Optimization Modeling in Python. Second Edition. Springer, 2017.\n",
        "URL: https://www.springer.com/gp/book/9783319588193.\n",
        "\n",
        "[3] David G. Luenberger and Yinyu Ye. Linear and Nonlinear\n",
        "Programming, 4th Edition. Springer, Cham, 2016.\n",
        "ISBN: 9783319374390.\n",
        "URL: https://link.springer.com/book/10.1007/978-3-319-18842-3."
      ],
      "metadata": {
        "id": "k95RP-_eh1e6"
      }
    }
  ]
}